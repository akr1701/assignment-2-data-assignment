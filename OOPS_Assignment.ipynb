{
  "nbformat": 4,
  "nbformat_minor": 0,
  "metadata": {
    "colab": {
      "provenance": [],
      "authorship_tag": "ABX9TyPIkHVgsFoq9XwXCkbqK/Ar",
      "include_colab_link": true
    },
    "kernelspec": {
      "name": "python3",
      "display_name": "Python 3"
    },
    "language_info": {
      "name": "python"
    }
  },
  "cells": [
    {
      "cell_type": "markdown",
      "metadata": {
        "id": "view-in-github",
        "colab_type": "text"
      },
      "source": [
        "<a href=\"https://colab.research.google.com/github/akr1701/assignment-2-data-assignment/blob/main/OOPS_Assignment.ipynb\" target=\"_parent\"><img src=\"https://colab.research.google.com/assets/colab-badge.svg\" alt=\"Open In Colab\"/></a>"
      ]
    },
    {
      "cell_type": "markdown",
      "source": [
        "1. What are the five key concepts of Object - Oriented programming (oop)?  \n",
        "\n",
        "The five key concepts of Object-Oriented Programming (OOP) are:\n",
        "\n",
        "1. **Encapsulation**:\n",
        "   - This concept involves bundling the data (attributes) and methods (functions) that operate on the data into a single unit or class. It restricts access to certain details of an object and only allows controlled access through methods, ensuring data security and integrity.\n",
        "\n",
        "2. **Abstraction**:\n",
        "   - Abstraction simplifies complex systems by hiding the internal implementation details and exposing only the necessary parts. This allows users to interact with objects without needing to understand the underlying complexity.\n",
        "\n",
        "3. **Inheritance**:\n",
        "   - Inheritance enables new classes (called subclasses or derived classes) to inherit attributes and methods from an existing class (called a superclass or base class). This promotes code reuse and the creation of hierarchical relationships between classes.\n",
        "\n",
        "4. **Polymorphism**:\n",
        "   - Polymorphism allows objects of different classes to be treated as objects of a common superclass. It enables the use of a single method name to perform different types of actions based on the object that is invoking the method. This can be achieved through method overriding and method overloading.\n",
        "\n",
        "5. **Classes and Objects**:\n",
        "   - A **class** is a blueprint for creating objects, defining a set of attributes and methods that the objects created from the class will have. An **object** is an instance of a class, and it represents a specific entity with the characteristics and behaviors defined by the class.\n",
        "\n",
        "These concepts form the foundation of OOP and provide mechanisms for building modular, reusable, and maintainable code."
      ],
      "metadata": {
        "id": "9te1RWYLFrS_"
      }
    },
    {
      "cell_type": "markdown",
      "source": [
        "2. Write a python class for a 'car' with attributed for ' make' , 'model ' , and ' year ' . include a method to display the car 's  information .  \n",
        "\n",
        "\n",
        "\n"
      ],
      "metadata": {
        "id": "rQEyk91FGWXz"
      }
    },
    {
      "cell_type": "code",
      "source": [
        "class Car:\n",
        "    def __init__(self, make, model, year):\n",
        "        self.make = make\n",
        "        self.model = model\n",
        "        self.year = year\n",
        "\n",
        "    def display_info(self):\n",
        "        print(f\"Car Information: {self.year} {self.make} {self.model}\")\n",
        "\n",
        "# Example usage:\n",
        "my_car = Car(\"Toyota\", \"Camry\", 2020)\n",
        "my_car.display_info()\n"
      ],
      "metadata": {
        "colab": {
          "base_uri": "https://localhost:8080/"
        },
        "id": "VIhn9IdFHOjW",
        "outputId": "9d67a44d-9b93-48fe-c7dd-b21d621bd93c"
      },
      "execution_count": 1,
      "outputs": [
        {
          "output_type": "stream",
          "name": "stdout",
          "text": [
            "Car Information: 2020 Toyota Camry\n"
          ]
        }
      ]
    },
    {
      "cell_type": "markdown",
      "source": [
        "3.  Explain the difference between instance  method and class methods. provide an example of each .\n",
        "\n",
        "In Python, **instance methods** and **class methods** are two different types of methods that behave differently in relation to the objects and the class itself.\n",
        "\n",
        "### 1. **Instance Method**:\n",
        "- **Definition**: Instance methods are functions that operate on instances of a class. They take the instance (`self`) as the first parameter and can access or modify the attributes of that particular instance.\n",
        "- **When to use**: Use instance methods when you need to work with data that is specific to an instance of a class.\n",
        "\n",
        "### 2. **Class Method**:\n",
        "- **Definition**: Class methods are methods that are bound to the class, not the instance. They take the class (`cls`) as the first parameter and can modify class-level attributes or perform actions that are related to the class itself rather than individual instances.\n",
        "- **Decorator**: Class methods are defined using the `@classmethod` decorator.\n",
        "- **When to use**: Use class methods when you need to work with data or operations that are related to the class itself, not any particular instance.\n",
        "\n",
        "### Key Differences:\n",
        "- **Instance Method**:\n",
        "  - Operates on a single instance of the class.\n",
        "  - Has access to the instance-specific data (via `self`).\n",
        "  - Can modify the instance attributes.\n",
        "\n",
        "- **Class Method**:\n",
        "  - Operates on the class as a whole, not on individual instances.\n",
        "  - Has access to class-level data (via `cls`).\n",
        "  - Can modify class attributes, not instance attributes."
      ],
      "metadata": {
        "id": "k-n_DJCnHZls"
      }
    },
    {
      "cell_type": "code",
      "source": [
        "class Car:\n",
        "    total_cars = 0  # Class attribute to track total number of cars\n",
        "\n",
        "    def __init__(self, make, model, year):\n",
        "        self.make = make\n",
        "        self.model = model\n",
        "        self.year = year\n",
        "        Car.total_cars += 1\n",
        "\n",
        "    # Instance method\n",
        "    def display_info(self):\n",
        "        print(f\"Car Information: {self.year} {self.make} {self.model}\")\n",
        "\n",
        "    # Class method\n",
        "    @classmethod\n",
        "    def display_total_cars(cls):\n",
        "        print(f\"Total Cars: {cls.total_cars}\")\n",
        "\n",
        "# Example usage:\n",
        "car1 = Car(\"Toyota\", \"Camry\", 2020)\n",
        "car2 = Car(\"Honda\", \"Civic\", 2021)\n",
        "\n",
        "car1.display_info()  # Calls instance method\n",
        "\n",
        "Car.display_total_cars()  # Calls class method\n"
      ],
      "metadata": {
        "colab": {
          "base_uri": "https://localhost:8080/"
        },
        "id": "UK2YEQASIKpl",
        "outputId": "dd326a48-8a65-479b-9e2f-6aa0b49bc970"
      },
      "execution_count": 2,
      "outputs": [
        {
          "output_type": "stream",
          "name": "stdout",
          "text": [
            "Car Information: 2020 Toyota Camry\n",
            "Total Cars: 2\n"
          ]
        }
      ]
    },
    {
      "cell_type": "markdown",
      "source": [
        "4. How does  python implement method overloading ? Give an examples .  \n",
        "\n",
        "In Python, **method overloading** (the ability to define multiple methods with the same name but different arguments) is not supported directly like in some other programming languages (e.g., Java or C++). However, Python achieves similar functionality by using default arguments, variable-length arguments (`*args` and `**kwargs`), or manually checking the types and number of arguments within a single method.\n",
        "\n",
        "Here are some approaches to simulate method overloading in Python:\n",
        "\n",
        "### 1. Using Default Arguments:\n",
        "You can define default values for parameters to create flexible method signatures.\n",
        "\n",
        "### 2. Using `*args` and `**kwargs` (Variable-Length Arguments):\n",
        "You can use `*args` to accept a variable number of positional arguments and `**kwargs` for keyword arguments. This allows you to handle different method signatures inside a single met\n",
        "\n",
        "### 3. Using Type Checking to Differentiate Behavior:\n",
        "You can implement different behavior based on the types of arguments passed to a method. This can give the appearance of method overloading.\n",
        "- **Python does not directly support method overloading**. However, you can simulate it using default parameters, variable-length arguments (`*args` and `**kwargs`), or by checking argument types manually within a single method.\n",
        "- The most common approach is to handle different numbers or types of arguments inside a single method."
      ],
      "metadata": {
        "id": "pw0M21V5If6m"
      }
    },
    {
      "cell_type": "code",
      "source": [
        "class Calculator:\n",
        "    def add(self, a, b):\n",
        "        if isinstance(a, str) or isinstance(b, str):\n",
        "            return str(a) + str(b)  # Concatenate if either argument is a string\n",
        "        return a + b  # Otherwise, perform numerical addition\n",
        "\n",
        "# Example usage:\n",
        "calc = Calculator()\n",
        "\n",
        "print(calc.add(5, 10))          # Output: 15 (numerical addition)\n",
        "print(calc.add(\"Hello\", \"World\"))  # Output: \"HelloWorld\" (string concatenation)\n",
        "print(calc.add(5, \" apples\"))   # Output: \"5 apples\" (mixed types)\n"
      ],
      "metadata": {
        "colab": {
          "base_uri": "https://localhost:8080/"
        },
        "id": "UtleQGTMJquU",
        "outputId": "3df9f24e-0238-4fc5-fd4c-7250c7af779d"
      },
      "execution_count": 3,
      "outputs": [
        {
          "output_type": "stream",
          "name": "stdout",
          "text": [
            "15\n",
            "HelloWorld\n",
            "5 apples\n"
          ]
        }
      ]
    },
    {
      "cell_type": "code",
      "source": [],
      "metadata": {
        "id": "kRhdqoIyIM_O"
      },
      "execution_count": null,
      "outputs": []
    },
    {
      "cell_type": "markdown",
      "source": [
        "5. What are the three types of access modifiers in  python ? how are they denoted ?  \n",
        "\n",
        "In Python, access modifiers control the visibility and accessibility of class attributes and methods. Although Python does not have strict access modifiers like some other languages (e.g., `private`, `public`, `protected` in C++/Java), it uses naming conventions to indicate how attributes and methods should be accessed. The three types of access modifiers in Python are:\n",
        "\n",
        "### 1. **Public**:\n",
        "- **Denoted by**: No leading underscores.\n",
        "- **Description**: Attributes and methods that are declared without any underscores are considered public. They can be accessed from anywhere, both inside and outside the class.\n",
        "- **Example**:\n",
        "### 2. **Protected**:\n",
        "- **Denoted by**: A single leading underscore (`_`).\n",
        "- **Description**: Protected attributes and methods are indicated by a single underscore before their names. These are meant for internal use within the class and its subclasses. Technically, they can still be accessed from outside the class, but by convention, they should be treated as protected and not accessed directly.\n",
        "- **Example**\n",
        "### 3. **Private**:\n",
        "- **Denoted by**: A double leading underscore (`__`).\n",
        "- **Description**: Private attributes and methods are indicated by a double underscore. They are not accessible directly from outside the class. Python uses name mangling to change the attribute name internally, making it harder (but not impossible) to access from outside the class. Private members are intended to be completely hidden from outside access.\n",
        "- **Example*\n",
        "- **Public (`no underscore`)**: Accessible from anywhere.\n",
        "- **Protected (`_single underscore`)**: Meant to be accessed only within the class and its subclasses, but can technically be accessed outside.\n",
        "- **Private (`__double underscore`)**: Meant to be completely hidden from outside access, but can be accessed internally using name mangling (e.g., `_ClassName__attribute`)."
      ],
      "metadata": {
        "id": "GcNP0ph-JvFK"
      }
    },
    {
      "cell_type": "code",
      "source": [
        "class Car:\n",
        "    def __init__(self, make, model):\n",
        "        self.__make = make  # Private attribute\n",
        "        self.__model = model  # Private attribute\n",
        "\n",
        "    def __display_info(self):\n",
        "        print(f\"Make: {self.__make}, Model: {self.__model}\")  # Private method\n",
        "\n",
        "    def public_method(self):\n",
        "        self.__display_info()  # Calling private method within the class\n",
        "\n",
        "car = Car(\"Ford\", \"Mustang\")\n",
        "# car.__make  # This will raise an AttributeError\n",
        "car.public_method()  # Calls the public method which internally accesses the private method\n"
      ],
      "metadata": {
        "colab": {
          "base_uri": "https://localhost:8080/"
        },
        "id": "pQW9bjkEKp1C",
        "outputId": "7f5fed58-76e8-411f-a3d0-265620e4f3a3"
      },
      "execution_count": 4,
      "outputs": [
        {
          "output_type": "stream",
          "name": "stdout",
          "text": [
            "Make: Ford, Model: Mustang\n"
          ]
        }
      ]
    },
    {
      "cell_type": "code",
      "source": [],
      "metadata": {
        "id": "9EGDxPjpKskx"
      },
      "execution_count": null,
      "outputs": []
    },
    {
      "cell_type": "markdown",
      "source": [
        "6. Describe the five types  of inheritance in python . provide a simple examples of multiple inheritance .  \n",
        "\n",
        "In Python, inheritance allows a class (called a child class or subclass) to inherit properties and behaviors (attributes and methods) from another class (called a parent class or superclass). There are **five types of inheritance** in Python:\n",
        "\n",
        "### 1. **Single Inheritance**:\n",
        "- **Definition**: In single inheritance, a child class inherits from one parent class.\n",
        "### 2. **Multiple Inheritance**:\n",
        "- **Definition**: In multiple inheritance, a child class inherits from more than one parent class. The child class gets the properties and behaviors from all parent classes.\n",
        "### 3. **Multilevel Inheritance**:\n",
        "- **Definition**: In multilevel inheritance, a class inherits from a parent class, and another class inherits from that child class, forming a chain of inheritance.\n",
        "### 4. **Hierarchical Inheritance**:\n",
        "- **Definition**: In hierarchical inheritance, multiple child classes inherit from the same parent class.\n",
        "### 5. **Hybrid Inheritance**:\n",
        "- **Definition**: Hybrid inheritance is a combination of more than one type of inheritance. For example, it can combine multiple and hierarchical inheritance.\n",
        "In this example, the `Child` class inherits from both `Father` and `Mother`, demonstrating multiple inheritance in Python. The child class can access methods from both parent classes."
      ],
      "metadata": {
        "id": "2oklhKapKtay"
      }
    },
    {
      "cell_type": "code",
      "source": [
        "class Father:\n",
        "    def show_father_traits(self):\n",
        "        print(\"Father's traits.\")\n",
        "\n",
        "class Mother:\n",
        "    def show_mother_traits(self):\n",
        "        print(\"Mother's traits.\")\n",
        "\n",
        "class Child(Father, Mother):  # Multiple inheritance: Child inherits from both Father and Mother\n",
        "    def show_child_traits(self):\n",
        "        print(\"Child's traits.\")\n",
        "\n",
        "# Example usage\n",
        "child = Child()\n",
        "child.show_father_traits()  # Inherited from Father\n",
        "child.show_mother_traits()  # Inherited from Mother\n",
        "child.show_child_traits()   # Defined in Child\n"
      ],
      "metadata": {
        "colab": {
          "base_uri": "https://localhost:8080/"
        },
        "id": "Oatk0lcTMCCw",
        "outputId": "a14c9a79-0433-4bf8-a489-147686c624e0"
      },
      "execution_count": 5,
      "outputs": [
        {
          "output_type": "stream",
          "name": "stdout",
          "text": [
            "Father's traits.\n",
            "Mother's traits.\n",
            "Child's traits.\n"
          ]
        }
      ]
    },
    {
      "cell_type": "code",
      "source": [],
      "metadata": {
        "id": "WCz_R40TME8X"
      },
      "execution_count": null,
      "outputs": []
    },
    {
      "cell_type": "markdown",
      "source": [
        "7. What is the method Resolution order ( MRO) in pythobn?  how can you retrieve it programmatically ?\n",
        "\n",
        "### **Method Resolution Order (MRO) in Python**\n",
        "\n",
        "The **Method Resolution Order (MRO)** is the order in which Python looks for a method or attribute in a hierarchy of classes during inheritance. It determines the sequence of classes that Python follows when searching for a method. MRO is especially important in the case of **multiple inheritance**, where a class may inherit from more than one parent class.\n",
        "\n",
        "Python uses the **C3 Linearization Algorithm (C3 superclass linearization)** to maintain a consistent and predictable method resolution order. This ensures that the search order respects the inheritance hierarchy while avoiding conflicts.\n",
        "\n",
        "### **How MRO Works**:\n",
        "- For single inheritance, MRO is straightforward: Python searches from the current class, up through the parent classes.\n",
        "- For multiple inheritance, MRO follows a depth-first, left-to-right approach, according to the order of base classes in the class definition.\n",
        "In this case, the method `show()` is inherited from class `B`, not `C`, because `B` appears first in the method resolution order of `D`.\n",
        "\n",
        "### **Retrieving the MRO Programmatically**\n",
        "\n",
        "You can retrieve the MRO of a class using *The `mro()` method**:\n",
        "   - This method returns a list showing the method resolution orde\n",
        "- **MRO** defines the sequence in which Python looks for methods or attributes during inheritance.\n",
        "- Python uses the **C3 linearization** algorithm to determine MRO.\n",
        "- You can retrieve MRO using either the `mro()` method or the `__mro__` attribute.\n",
        "\n",
        "\n",
        "\n"
      ],
      "metadata": {
        "id": "XA7Wdr24MFvX"
      }
    },
    {
      "cell_type": "code",
      "source": [
        "class A:\n",
        "    def show(self):\n",
        "        print(\"Class A\")\n",
        "\n",
        "class B(A):\n",
        "    def show(self):\n",
        "        print(\"Class B\")\n",
        "\n",
        "class C(A):\n",
        "    def show(self):\n",
        "        print(\"Class C\")\n",
        "\n",
        "class D(B, C):  # Multiple inheritance\n",
        "    pass\n",
        "\n",
        "d = D()\n",
        "d.show()  # Output: \"Class B\"\n"
      ],
      "metadata": {
        "colab": {
          "base_uri": "https://localhost:8080/"
        },
        "id": "cwC1BuFbNUap",
        "outputId": "4c7d4aac-830e-4a21-cce0-ac38267f25b0"
      },
      "execution_count": 6,
      "outputs": [
        {
          "output_type": "stream",
          "name": "stdout",
          "text": [
            "Class B\n"
          ]
        }
      ]
    },
    {
      "cell_type": "code",
      "source": [],
      "metadata": {
        "id": "YHQt5Z65NX13"
      },
      "execution_count": null,
      "outputs": []
    },
    {
      "cell_type": "markdown",
      "source": [
        "8. Create an abstract base class ' shape ' with an abstract method ' area ()'. Then create  two sub classes  ' cricle ' and Rectangle ' that implement the ' are()' method.  \n",
        "\n",
        "In Python, you can create an **abstract base class** using the `abc` module. Abstract classes define methods that must be implemented by any subclasses. These abstract methods do not have a body in the abstract class but are expected to be implemented in the subclasses.\n",
        "\n",
        "Here's how you can create an abstract base class `Shape` with an abstract method `area()`, and then implement two subclasses `Circle` and `Rectangle` that define the `area()` method:\n",
        "### Explanation:\n",
        "1. **`Shape` class**:\n",
        "   - This is an abstract base class that inherits from `ABC` (Abstract Base Class). It contains an abstract method `area()`, which has no implementation (using `pass`).\n",
        "   - Any subclass of `Shape` must implement the `area()` method.\n",
        "\n",
        "2. **`Circle` class**:\n",
        "   - This class inherits from `Shape` and implements the `area()` method. It calculates the area of a circle using the formula `πr²`, where `r` is the radius.\n",
        "\n",
        "3. **`Rectangle` class**:\n",
        "   - This class also inherits from `Shape` and implements the `area()` method. It calculates the area of a rectangle using the formula `width * height`.\n",
        "\n",
        "### Output:\n",
        "\n",
        "```plaintext\n",
        "Area of the circle: 78.53981633974483\n",
        "Area of the rectangle: 24\n",
        "```\n",
        "\n",
        "This demonstrates how you can use an abstract class to enforce that all subclasses implement a required method (`area()` in this case)."
      ],
      "metadata": {
        "id": "oz9UwvUPNYsW"
      }
    },
    {
      "cell_type": "code",
      "source": [
        "from abc import ABC, abstractmethod\n",
        "import math\n",
        "\n",
        "# Abstract base class\n",
        "class Shape(ABC):\n",
        "\n",
        "    @abstractmethod\n",
        "    def area(self):\n",
        "        pass  # Abstract method, must be implemented in subclasses\n",
        "\n",
        "# Subclass Circle implementing the area method\n",
        "class Circle(Shape):\n",
        "    def __init__(self, radius):\n",
        "        self.radius = radius\n",
        "\n",
        "    def area(self):\n",
        "        return math.pi * self.radius ** 2  # Area of a circle is πr²\n",
        "\n",
        "# Subclass Rectangle implementing the area method\n",
        "class Rectangle(Shape):\n",
        "    def __init__(self, width, height):\n",
        "        self.width = width\n",
        "        self.height = height\n",
        "\n",
        "    def area(self):\n",
        "        return self.width * self.height  # Area of a rectangle is width * height\n",
        "\n",
        "# Example usage\n",
        "circle = Circle(5)\n",
        "print(f\"Area of the circle: {circle.area()}\")  # Output: Area of the circle\n",
        "\n",
        "rectangle = Rectangle(4, 6)\n",
        "print(f\"Area of the rectangle: {rectangle.area()}\")  # Output: Area of the rectangle\n"
      ],
      "metadata": {
        "colab": {
          "base_uri": "https://localhost:8080/"
        },
        "id": "8cLqTBhcOmbZ",
        "outputId": "4aeb60e0-1d5a-4e47-d368-e258ce38f465"
      },
      "execution_count": 8,
      "outputs": [
        {
          "output_type": "stream",
          "name": "stdout",
          "text": [
            "Area of the circle: 78.53981633974483\n",
            "Area of the rectangle: 24\n"
          ]
        }
      ]
    },
    {
      "cell_type": "code",
      "source": [],
      "metadata": {
        "id": "pQADaD98Oool"
      },
      "execution_count": null,
      "outputs": []
    },
    {
      "cell_type": "markdown",
      "source": [
        "9. Demonstrate polymorphism by creating a function that can work with different shape objects to calculate and print their areas .\n",
        "\n",
        "Polymorphism in Python allows objects of different classes to be treated as objects of a common superclass. This is especially useful when different classes implement the same methods but behave differently. In the context of shapes, we can create a function that works with different shape objects (like `Circle` and `Rectangle`) to calculate and print their areas.\n",
        "### Explanation:\n",
        "1. **Polymorphic Function (`print_area`)**:\n",
        "   - This function takes an object of type `Shape` (the abstract base class). Since both `Circle` and `Rectangle` are subclasses of `Shape`, they can be passed to this function.\n",
        "   - Inside the function, we use the `area()` method. Depending on whether the object is a `Circle` or `Rectangle`, the correct implementation of the `area()` method is called.\n",
        "\n",
        "2. **Polymorphism in Action**:\n",
        "   - Even though `circle` and `rectangle` are instances of different classes, the `print_area()` function works for both because they implement the `area()` method.\n",
        "### Key Points of Polymorphism:\n",
        "- **Single interface, multiple implementations**: The `print_area()` function calls the `area()` method for both `Circle` and `Rectangle`, even though the computation of the area is different for each shape.\n",
        "- The function behaves polymorphically, depending on the class of the object passed to it.\n"
      ],
      "metadata": {
        "id": "tPVRWlhdOrwW"
      }
    },
    {
      "cell_type": "code",
      "source": [
        "from abc import ABC, abstractmethod\n",
        "import math\n",
        "\n",
        "# Abstract base class\n",
        "class Shape(ABC):\n",
        "\n",
        "    @abstractmethod\n",
        "    def area(self):\n",
        "        pass  # Abstract method, must be implemented in subclasses\n",
        "\n",
        "# Subclass Circle implementing the area method\n",
        "class Circle(Shape):\n",
        "    def __init__(self, radius):\n",
        "        self.radius = radius\n",
        "\n",
        "    def area(self):\n",
        "        return math.pi * self.radius ** 2  # Area of a circle is πr²\n",
        "\n",
        "# Subclass Rectangle implementing the area method\n",
        "class Rectangle(Shape):\n",
        "    def __init__(self, width, height):\n",
        "        self.width = width\n",
        "        self.height = height\n",
        "\n",
        "    def area(self):\n",
        "        return self.width * self.height  # Area of a rectangle is width * height\n",
        "\n",
        "# Function demonstrating polymorphism\n",
        "def print_area(shape: Shape):\n",
        "    print(f\"The area of the {shape.__class__.__name__.lower()} is: {shape.area()}\")\n",
        "\n",
        "# Example usage with polymorphism\n",
        "circle = Circle(5)\n",
        "rectangle = Rectangle(4, 6)\n",
        "\n",
        "print_area(circle)      # Polymorphism: Circle object passed to the function\n",
        "print_area(rectangle)   # Polymorphism: Rectangle object passed to the function\n"
      ],
      "metadata": {
        "colab": {
          "base_uri": "https://localhost:8080/"
        },
        "id": "piQvZayHPqdl",
        "outputId": "4cffd191-37f8-45f4-c743-8e3bb83f8b3f"
      },
      "execution_count": 9,
      "outputs": [
        {
          "output_type": "stream",
          "name": "stdout",
          "text": [
            "The area of the circle is: 78.53981633974483\n",
            "The area of the rectangle is: 24\n"
          ]
        }
      ]
    },
    {
      "cell_type": "code",
      "source": [],
      "metadata": {
        "id": "bQm4_oI5PuKL"
      },
      "execution_count": null,
      "outputs": []
    },
    {
      "cell_type": "markdown",
      "source": [
        "10. Implement encapsulation in a Banl Account  class  with privte  attributes for  ' balance '  and ' account _number'. unclude  methods for deposite withdrawal , and balance inquiry .  \n",
        "\n",
        "Encapsulation is a key concept in object-oriented programming that involves bundling the data (attributes) and methods that operate on the data into a single unit (class) while restricting direct access to some of the attributes to protect the integrity of the object. In Python, encapsulation can be achieved by using **private attributes**, which are denoted by a double underscore (`__`).\n",
        "\n",
        "Here’s how you can implement encapsulation in a `BankAccount` class with private attributes `balance` and `account_number`, along with methods for deposit, withdrawal, and balance inquiry:\n",
        "### Explanation:\n",
        "1. **Private Attributes (`__balance` and `__account_number`)**:\n",
        "   - The attributes `__balance` and `__account_number` are made private by prefixing them with double underscores (`__`). This prevents direct access to these attributes from outside the class, ensuring they can only be accessed or modified through methods provided by the class.\n",
        "\n",
        "2. **Methods**:\n",
        "   - `deposit(self, amount)`: Allows depositing money into the account if the amount is positive.\n",
        "   - `withdraw(self, amount)`: Allows withdrawing money from the account if the amount is positive and does not exceed the current balance. It also checks for insufficient funds.\n",
        "   - `get_balance(self)`: Returns the current balance.\n",
        "   - `get_account_number(self)`: Returns the account number (read-only), so it can be accessed but not modified.\n",
        "\n",
        "### Encapsulation Benefits:\n",
        "- **Data Protection**: The private attributes (`__balance` and `__account_number`) are protected from external modification, ensuring that they can only be altered through well-defined methods (like `deposit()` and `withdraw()`).\n",
        "- **Controlled Access**: Access to the account number and balance is controlled by specific methods (`get_balance()` and `get_account_number()`), ensuring that interactions with the account are handled safely."
      ],
      "metadata": {
        "id": "TcdsuwvHPvDj"
      }
    },
    {
      "cell_type": "code",
      "source": [
        "class BankAccount:\n",
        "    def __init__(self, account_number, initial_balance=0):\n",
        "        self.__account_number = account_number  # Private attribute\n",
        "        self.__balance = initial_balance  # Private attribute\n",
        "\n",
        "    # Method to deposit money\n",
        "    def deposit(self, amount):\n",
        "        if amount > 0:\n",
        "            self.__balance += amount\n",
        "            print(f\"Deposited {amount}. New balance: {self.__balance}\")\n",
        "        else:\n",
        "            print(\"Deposit amount must be positive.\")\n",
        "\n",
        "    # Method to withdraw money\n",
        "    def withdraw(self, amount):\n",
        "        if 0 < amount <= self.__balance:\n",
        "            self.__balance -= amount\n",
        "            print(f\"Withdrew {amount}. New balance: {self.__balance}\")\n",
        "        elif amount > self.__balance:\n",
        "            print(f\"Insufficient funds. Balance: {self.__balance}\")\n",
        "        else:\n",
        "            print(\"Withdrawal amount must be positive.\")\n",
        "\n",
        "    # Method to check the balance\n",
        "    def get_balance(self):\n",
        "        return self.__balance\n",
        "\n",
        "    # Method to get the account number (read-only)\n",
        "    def get_account_number(self):\n",
        "        return self.__account_number\n",
        "\n",
        "# Example usage\n",
        "account = BankAccount(\"123456789\", 500)\n",
        "\n",
        "# Deposit money\n",
        "account.deposit(200)  # Deposited 200. New balance: 700\n",
        "\n",
        "# Withdraw money\n",
        "account.withdraw(100)  # Withdrew 100. New balance: 600\n",
        "account.withdraw(1000)  # Insufficient funds. Balance: 600\n",
        "\n",
        "# Balance inquiry\n",
        "print(f\"Current balance: {account.get_balance()}\")  # Output: 600\n",
        "\n",
        "# Account number inquiry\n",
        "print(f\"Account number: {account.get_account_number()}\")  # Output: 123456789\n"
      ],
      "metadata": {
        "colab": {
          "base_uri": "https://localhost:8080/"
        },
        "id": "963oy6DeQ8TM",
        "outputId": "056469bc-87ec-40a5-9a56-65375a69f940"
      },
      "execution_count": 10,
      "outputs": [
        {
          "output_type": "stream",
          "name": "stdout",
          "text": [
            "Deposited 200. New balance: 700\n",
            "Withdrew 100. New balance: 600\n",
            "Insufficient funds. Balance: 600\n",
            "Current balance: 600\n",
            "Account number: 123456789\n"
          ]
        }
      ]
    },
    {
      "cell_type": "code",
      "source": [],
      "metadata": {
        "id": "K4XUyRdiRAjK"
      },
      "execution_count": null,
      "outputs": []
    },
    {
      "cell_type": "markdown",
      "source": [
        "11. Write a class that overrides the' m___str __' and ' __'magic methods. what will these methods allow you to do ?  \n",
        "\n",
        "\n",
        "In Python, magic methods (also known as dunder methods) are special methods that allow you to define the behavior of instances of your classes for built-in operations. Two commonly overridden magic methods are `__str__` and `__repr__`.\n",
        "\n",
        "- **`__str__`**: This method is used to define a \"user-friendly\" string representation of an object. It is called by the built-in `str()` function and when you use `print()` on an object.\n",
        "- **`__repr__`**: This method is intended to provide an \"official\" string representation of an object that can ideally be used to recreate the object using `eval()`. It is called by the built-in `repr()` function and when you inspect an object in the interactive interpreter.\n",
        "### Explanation:\n",
        "\n",
        "1. **`__init__`**:\n",
        "   - This is the constructor method that initializes the `Book` object with a `title`, `author`, and `year`.\n",
        "\n",
        "2. **`__str__` Method**:\n",
        "   - The `__str__` method returns a user-friendly string that describes the book in a readable format. This is what you see when you print the object.\n",
        "\n",
        "3. **`__repr__` Method**:\n",
        "   - The `__repr__` method returns a string that includes the class name and the parameters used to initialize the object. This string is meant for developers and can be used for debugging. Ideally, it should be possible to recreate the object by passing the string to `eval()` (though this is not always feasible).\n",
        "\n",
        "### Benefits of Overriding These Methods:\n",
        "\n",
        "- **Improved Readability**: By defining `__str__`, you provide a clear and concise representation of your objects that is useful for end-users when they print objects or log messages.\n",
        "- **Debugging Support**: By defining `__repr__`, you make it easier for developers to understand the internal state of an object when debugging, especially in interactive sessions or when logging. This representation can be used to reconstruct the object if needed.\n",
        "  \n",
        "In summary, overriding `__str__` and `__repr__` enhances how your objects are represented as strings, making your classes more intuitive to work with.\n",
        "\n"
      ],
      "metadata": {
        "id": "GgoBbaI2RBcK"
      }
    },
    {
      "cell_type": "code",
      "source": [
        "class Book:\n",
        "    def __init__(self, title, author, year):\n",
        "        self.title = title\n",
        "        self.author = author\n",
        "        self.year = year\n",
        "\n",
        "    def __str__(self):\n",
        "        return f\"'{self.title}' by {self.author} ({self.year})\"\n",
        "\n",
        "    def __repr__(self):\n",
        "        return f\"Book(title='{self.title}', author='{self.author}', year={self.year})\"\n",
        "\n",
        "# Example usage\n",
        "book = Book(\"1984\", \"George Orwell\", 1949)\n",
        "\n",
        "# Using __str__ (called by print)\n",
        "print(book)  # Output: '1984' by George Orwell (1949)\n",
        "\n",
        "# Using __repr__ (called by repr or in the interpreter)\n",
        "print(repr(book))  # Output: Book(title='1984', author='George Orwell', year=1949)\n"
      ],
      "metadata": {
        "colab": {
          "base_uri": "https://localhost:8080/"
        },
        "id": "a0x_4c91R0WL",
        "outputId": "22dc6f56-d4da-4e0b-d521-1da6171a7c3b"
      },
      "execution_count": 11,
      "outputs": [
        {
          "output_type": "stream",
          "name": "stdout",
          "text": [
            "'1984' by George Orwell (1949)\n",
            "Book(title='1984', author='George Orwell', year=1949)\n"
          ]
        }
      ]
    },
    {
      "cell_type": "code",
      "source": [],
      "metadata": {
        "id": "wOXOPnZyR38J"
      },
      "execution_count": null,
      "outputs": []
    },
    {
      "cell_type": "markdown",
      "source": [
        "12. Create a decorator that neaures and prints the execution time of a function.  \n",
        "\n",
        "\n",
        "In Python, a **decorator** is a function that takes another function as an argument, extends or modifies its behavior, and returns a new function. You can create a decorator to measure and print the execution time of a function using the `time` module.\n",
        "\n",
        "Here's how you can implement a simple execution time decorator:\n",
        "### Explanation:\n",
        "\n",
        "1. **Decorator Function (`execution_time_decorator`)**:\n",
        "   - This function takes another function (`func`) as an argument and defines a nested function (`wrapper`).\n",
        "   - Inside `wrapper`, the start time is recorded using `time.time()` before calling the original function.\n",
        "   - After the function call, the end time is recorded, and the execution time is calculated by subtracting the start time from the end time.\n",
        "   - The execution time is printed, and the result of the original function is returned.\n",
        "\n",
        "2. **Using the Decorator**:\n",
        "   - The `@execution_time_decorator` syntax above the `example_function` definition applies the decorator to the function.\n",
        "   - When you call `example_function`, it will automatically invoke the `wrapper` function, which measures and prints the execution time\n",
        "### Benefits of Using Decorators:\n",
        "- **Code Reusability**: You can easily reuse the decorator to measure execution time for multiple functions without modifying their implementations.\n",
        "- **Separation of Concerns**: It separates the concern of measuring execution time from the actual logic of the function, keeping your code clean and focused.\n"
      ],
      "metadata": {
        "id": "FAeLjAf5R4hZ"
      }
    },
    {
      "cell_type": "code",
      "source": [
        "import time\n",
        "\n",
        "# Decorator to measure execution time\n",
        "def execution_time_decorator(func):\n",
        "    def wrapper(*args, **kwargs):\n",
        "        start_time = time.time()  # Record start time\n",
        "        result = func(*args, **kwargs)  # Call the original function\n",
        "        end_time = time.time()  # Record end time\n",
        "        execution_time = end_time - start_time  # Calculate execution time\n",
        "        print(f\"Execution time of '{func.__name__}': {execution_time:.4f} seconds\")\n",
        "        return result  # Return the result of the original function\n",
        "    return wrapper\n",
        "\n",
        "# Example function to demonstrate the decorator\n",
        "@execution_time_decorator\n",
        "def example_function(n):\n",
        "    total = 0\n",
        "    for i in range(n):\n",
        "        total += i ** 2  # Simulate some computation\n",
        "    return total\n",
        "\n",
        "# Example usage\n",
        "result = example_function(1000000)  # Call the decorated function\n",
        "print(f\"Result: {result}\")\n"
      ],
      "metadata": {
        "colab": {
          "base_uri": "https://localhost:8080/"
        },
        "id": "_cdHnfCMSlpC",
        "outputId": "41f7625d-4a8f-43f1-8397-54612a397454"
      },
      "execution_count": 12,
      "outputs": [
        {
          "output_type": "stream",
          "name": "stdout",
          "text": [
            "Execution time of 'example_function': 0.3021 seconds\n",
            "Result: 333332833333500000\n"
          ]
        }
      ]
    },
    {
      "cell_type": "code",
      "source": [],
      "metadata": {
        "id": "eI0t9nBmSpQp"
      },
      "execution_count": null,
      "outputs": []
    },
    {
      "cell_type": "markdown",
      "source": [
        "13. Explain the concept of the Diamond problem in multiple inheritances . how does python resolve it ?  \n",
        "\n",
        "The **Diamond Problem** is a common issue that arises in multiple inheritance scenarios in object-oriented programming languages. It occurs when a class inherits from two classes that both inherit from a common superclass. The name comes from the diamond shape that the inheritance diagram resembles.\n",
        "\n",
        "### The Problem:\n",
        "\n",
        "When class `D` tries to access a method or attribute defined in class `A`, it becomes ambiguous whether the method or attribute should be inherited from class `B` or class `C`. This ambiguity is known as the **Diamond Problem**.\n",
        "\n",
        "### Python’s Resolution of the Diamond Problem:\n",
        "\n",
        "Python uses the **C3 Linearization Algorithm (C3 superclass linearization)** to resolve the diamond problem. This algorithm creates a method resolution order (MRO) that determines the order in which classes are searched for methods and attributes. Here’s how it works:\n",
        "\n",
        "1. **Linearization**: The algorithm builds a linearization of the class hierarchy that respects the order of inheritance and ensures that each class appears before its parents in the linearization.\n",
        "\n",
        "2. **MRO (Method Resolution Order)**: The MRO can be retrieved for any class in Python using the `mro()` method or the `__mro__` attribute. This gives you the order in which Python will look for methods.\n",
        "\n",
        "### Example Code:\n",
        "\n",
        "Here’s an example demonstrating the Diamond Problem and how Python resolves it:\n",
        "\n",
        "```pyth\n",
        "### Explanation of the Code:\n",
        "\n",
        "1. **Class Definitions**:\n",
        "   - Classes `A`, `B`, and `C` are defined, with `B` and `C` both inheriting from `A`.\n",
        "   - Class `D` inherits from both `B` and `C`.\n",
        "\n",
        "2. **Calling `show()`**:\n",
        "   - When you create an instance of `D` and call the `show()` method, Python looks for the method in the order defined by the MRO.\n",
        "   - Since `B` appears before `C` in the MRO, the method from `B` is called, resulting in the output \"Method from B\".\n",
        "\n",
        "3. **Method Resolution Order**:\n",
        "   - The `mro()` method and `__mro__` attribute show the order of classes that Python will use when searching for methods: `D`, `B`, `C`, `A`, and finally `object`.\n",
        "\n",
        "### Summary:\n",
        "- The Diamond Problem can cause ambiguity in multiple inheritance scenarios.\n",
        "- Python resolves the Diamond Problem using the C3 Linearization algorithm, providing a clear and consistent method resolution order (MRO).\n",
        "- This ensures that classes are searched in a predictable manner, avoiding ambiguity in method resolution"
      ],
      "metadata": {
        "id": "ccJRWgPsSp8Z"
      }
    },
    {
      "cell_type": "code",
      "source": [
        "class A:\n",
        "    def show(self):\n",
        "        return \"Method from A\"\n",
        "\n",
        "class B(A):\n",
        "    def show(self):\n",
        "        return \"Method from B\"\n",
        "\n",
        "class C(A):\n",
        "    def show(self):\n",
        "        return \"Method from C\"\n",
        "\n",
        "class D(B, C):\n",
        "    pass\n",
        "\n",
        "# Create an instance of D\n",
        "d = D()\n",
        "\n",
        "# Call the show method\n",
        "print(d.show())  # Output: \"Method from B\"\n",
        "\n",
        "# Get the method resolution order (MRO)\n",
        "print(D.mro())  # Output: [<class '__main__.D'>, <class '__main__.B'>, <class '__main__.C'>, <class '__main__.A'>, <class 'object'>]\n",
        "print(D.__mro__)  # Output: (<class '__main__.D'>, <class '__main__.B'>, <class '__main__.C'>, <class '__main__.A'>, <class 'object'>)\n"
      ],
      "metadata": {
        "colab": {
          "base_uri": "https://localhost:8080/"
        },
        "id": "SqlbWjycTYfh",
        "outputId": "748577d1-14a4-4552-8a51-b4e49a0b3ef4"
      },
      "execution_count": 13,
      "outputs": [
        {
          "output_type": "stream",
          "name": "stdout",
          "text": [
            "Method from B\n",
            "[<class '__main__.D'>, <class '__main__.B'>, <class '__main__.C'>, <class '__main__.A'>, <class 'object'>]\n",
            "(<class '__main__.D'>, <class '__main__.B'>, <class '__main__.C'>, <class '__main__.A'>, <class 'object'>)\n"
          ]
        }
      ]
    },
    {
      "cell_type": "code",
      "source": [],
      "metadata": {
        "id": "jKrA5WONTas4"
      },
      "execution_count": null,
      "outputs": []
    },
    {
      "cell_type": "markdown",
      "source": [
        "14. Write a class method that keeps track of the number of instance created from a class .\n",
        "\n",
        "You can use a class variable to keep track of the number of instances created from a class. By incrementing this variable in the class's `__init__` method, you can maintain a count of all instances. Here’s how you can implement this in a class:\n",
        "### Explanation:\n",
        "\n",
        "1. **Class Variable**:\n",
        "   - `instance_count`: A class variable that holds the count of instances. It is shared among all instances of the class.\n",
        "\n",
        "2. **`__init__` Method**:\n",
        "   - This is the constructor method, which is called when a new instance of the class is created. Inside this method, we increment the `instance_count` by 1 each time a new instance is created.\n",
        "\n",
        "3. **Class Method**:\n",
        "   - `get_instance_count()`: This class method returns the current value of `instance_count`. It is defined using the `@classmethod` decorator and takes `cls` as the first parameter, which refers to the class itself.\n",
        "\n",
        "4. **Example Usage**:\n",
        "   - Three instances of `InstanceCounter` are created (`obj1`, `obj2`, `obj3`).\n",
        "   - The `get_instance_count()` method is called to retrieve and print the total number of instances created.\n",
        "### Benefits of This Implementation:\n",
        "- **Encapsulation of State**: The instance count is encapsulated within the class, ensuring that it is managed and modified only through the class methods.\n",
        "- **Easy Tracking**: The use of a class variable allows easy tracking of how many instances have been created throughout the lifetime of the program."
      ],
      "metadata": {
        "id": "tW7t0ATVTbYp"
      }
    },
    {
      "cell_type": "code",
      "source": [
        "class InstanceCounter:\n",
        "    # Class variable to keep track of the number of instances\n",
        "    instance_count = 0\n",
        "\n",
        "    def __init__(self):\n",
        "        # Increment the instance count each time an instance is created\n",
        "        InstanceCounter.instance_count += 1\n",
        "\n",
        "    @classmethod\n",
        "    def get_instance_count(cls):\n",
        "        # Class method to return the current count of instances\n",
        "        return cls.instance_count\n",
        "\n",
        "# Example usage\n",
        "obj1 = InstanceCounter()\n",
        "obj2 = InstanceCounter()\n",
        "obj3 = InstanceCounter()\n",
        "\n",
        "# Get the count of instances created\n",
        "print(f\"Number of instances created: {InstanceCounter.get_instance_count()}\")  # Output: 3\n"
      ],
      "metadata": {
        "colab": {
          "base_uri": "https://localhost:8080/"
        },
        "id": "HLptA10qUASR",
        "outputId": "56c24eed-4c33-44db-819e-6c7c38e12361"
      },
      "execution_count": 14,
      "outputs": [
        {
          "output_type": "stream",
          "name": "stdout",
          "text": [
            "Number of instances created: 3\n"
          ]
        }
      ]
    },
    {
      "cell_type": "code",
      "source": [],
      "metadata": {
        "id": "98VMiyBdUDY_"
      },
      "execution_count": null,
      "outputs": []
    },
    {
      "cell_type": "markdown",
      "source": [
        "15. Implement a static method in a class that checks if a give year is a leap year.\n",
        "\n",
        "\n",
        "You can implement a static method in a class to check if a given year is a leap year. A leap year is defined by the following rules:\n",
        "\n",
        "1. A year is a leap year if it is divisible by 4.\n",
        "2. However, if the year is divisible by 100, it is not a leap year unless it is also divisible by 400.\n",
        "### Explanation:\n",
        "\n",
        "1. **Static Method (`is_leap_year`)**:\n",
        "   - The method is decorated with `@staticmethod`, indicating that it does not depend on instance or class-specific data.\n",
        "   - It takes one parameter, `year`, and implements the logic to determine if it is a leap year based on the rules outlined above.\n",
        "\n",
        "2. **Example Usage**:\n",
        "   - The method is called directly on the class `YearUtils` without needing to create an instance of the class.\n",
        "   - It checks different years (2024, 1900, and 2000) and prints whether each year is a leap year or not.\n",
        "### Benefits of Using Static Methods:\n",
        "- **Utility Functions**: Static methods are ideal for utility functions that do not require access to instance or class attributes.\n",
        "- **Clarity**: It clearly indicates that the method does not modify the state of the class or any instance, making the code easier to understand."
      ],
      "metadata": {
        "id": "kYraPeqJUEOo"
      }
    },
    {
      "cell_type": "code",
      "source": [
        "class YearUtils:\n",
        "    @staticmethod\n",
        "    def is_leap_year(year):\n",
        "        \"\"\"Check if the given year is a leap year.\"\"\"\n",
        "        if (year % 4 == 0 and year % 100 != 0) or (year % 400 == 0):\n",
        "            return True\n",
        "        return False\n",
        "\n",
        "# Example usage\n",
        "year_to_check = 2024\n",
        "if YearUtils.is_leap_year(year_to_check):\n",
        "    print(f\"{year_to_check} is a leap year.\")\n",
        "else:\n",
        "    print(f\"{year_to_check} is not a leap year.\")\n",
        "\n",
        "year_to_check = 1900\n",
        "if YearUtils.is_leap_year(year_to_check):\n",
        "    print(f\"{year_to_check} is a leap year.\")\n",
        "else:\n",
        "    print(f\"{year_to_check} is not a leap year.\")\n",
        "\n",
        "year_to_check = 2000\n",
        "if YearUtils.is_leap_year(year_to_check):\n",
        "    print(f\"{year_to_check} is a leap year.\")\n",
        "else:\n",
        "    print(f\"{year_to_check} is not a leap year.\")\n"
      ],
      "metadata": {
        "colab": {
          "base_uri": "https://localhost:8080/"
        },
        "id": "vpoA7h8rUsL3",
        "outputId": "8f34c130-6916-491a-f235-7bdf30bafa7a"
      },
      "execution_count": 15,
      "outputs": [
        {
          "output_type": "stream",
          "name": "stdout",
          "text": [
            "2024 is a leap year.\n",
            "1900 is not a leap year.\n",
            "2000 is a leap year.\n"
          ]
        }
      ]
    },
    {
      "cell_type": "code",
      "source": [],
      "metadata": {
        "id": "mX8PlRMeUumf"
      },
      "execution_count": null,
      "outputs": []
    }
  ]
}