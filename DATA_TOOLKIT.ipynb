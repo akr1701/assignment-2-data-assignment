{
  "nbformat": 4,
  "nbformat_minor": 0,
  "metadata": {
    "colab": {
      "provenance": [],
      "authorship_tag": "ABX9TyORnfG0Vzt06+E9pjq8hYvn",
      "include_colab_link": true
    },
    "kernelspec": {
      "name": "python3",
      "display_name": "Python 3"
    },
    "language_info": {
      "name": "python"
    }
  },
  "cells": [
    {
      "cell_type": "markdown",
      "metadata": {
        "id": "view-in-github",
        "colab_type": "text"
      },
      "source": [
        "<a href=\"https://colab.research.google.com/github/akr1701/assignment-2-data-assignment/blob/main/DATA_TOOLKIT.ipynb\" target=\"_parent\"><img src=\"https://colab.research.google.com/assets/colab-badge.svg\" alt=\"Open In Colab\"/></a>"
      ]
    },
    {
      "cell_type": "code",
      "execution_count": null,
      "metadata": {
        "id": "HJvt5sal2-N7"
      },
      "outputs": [],
      "source": []
    },
    {
      "cell_type": "markdown",
      "source": [
        "1. Using the Numpy function, generate array of 100 evenly spaced number between 1 and 10 and Reshape that 1D array into a 2Darray.  \n",
        "\n",
        "import numpy as np\n",
        "\n",
        "# Generate an array of 100 evenly spaced numbers between 1 and 10\n",
        "array_1d = np.linspace(1, 10, 100)\n",
        "\n",
        "# Reshape the 1D array into a 2D array with 10 rows and 10 columns\n",
        "array_2d = array_1d.reshape(10, 10)\n",
        "\n",
        "array_2d\n",
        "[[ 1.        ,  1.09090909,  1.18181818,  1.27272727,  1.36363636,   1.45454545,  1.54545455,  1.63636364,  1.72727273,  1.81818182],\n",
        " [ 1.90909091,  2.        ,  2.09090909,  2.18181818,  2.27272727,   2.36363636,  2.45454545,  2.54545455,  2.63636364,  2.72727273],\n",
        " [ 2.81818182,  2.90909091,  3.        ,  3.09090909,  3.18181818,   3.27272727,  3.36363636,  3.45454545,  3.54545455,  3.63636364],\n",
        " [ 3.72727273,  3.81818182,  3.90909091,  4.        ,  4.09090909,   4.18181818,  4.27272727,  4.36363636,  4.45454545,  4.54545455],\n",
        " [ 4.63636364,  4.72727273,  4.81818182,  4.90909091,  5.        ,   5.09090909,  5.18181818,  5.27272727,  5.36363636,  5.45454545],\n",
        " [ 5.54545455,  5.63636364,  5.72727273,  5.81818182,  5.90909091,   6.        ,  6.09090909,  6.18181818,  6.27272727,  6.36363636],\n",
        " [ 6.45454545,  6.54545455,  6.63636364,  6.72727273,  6.81818182,   6.90909091,  7.        ,  7.09090909,  7.18181818,  7.27272727],\n",
        " [ 7.36363636,  7.45454545,  7.54545455,  7.63636364,  7.72727273,   7.81818182,  7.90909091,  8.        ,  8.09090909,  8.18181818],\n",
        " [ 8.27272727,  8.36363636,  8.45454545,  8.54545455,  8.63636364,   8.72727273,  8.81818182,  8.90909091,  9.        ,  9.09090909],\n",
        " [ 9.18181818,  9.27272727,  9.36363636,  9.45454545,  9.54545455,   9.63636364,  9.72727273,  9.81818182,  9.90909091, 10.        ]]\n"
      ],
      "metadata": {
        "id": "VVgrz4hC5zVf"
      }
    },
    {
      "cell_type": "code",
      "source": [],
      "metadata": {
        "id": "gxKBb1i37A25"
      },
      "execution_count": null,
      "outputs": []
    },
    {
      "cell_type": "markdown",
      "source": [
        "2. Explain the follwing terms;  \n",
        " . The difference in np. array , np asarry and np. asanyarray.\n",
        " . The difference between Deep copy and shallow copy.  \n",
        "\n",
        " ### 1. **Difference between `np.array()`, `np.asarray()`, and `np.asanyarray()`**\n",
        "\n",
        "- **`np.array()`**:\n",
        "  - This function creates a new NumPy array from any object, such as a list or tuple. If the input is already a NumPy array, it **creates a copy** unless specified otherwise.\n",
        "  - It has an optional argument `copy=True` by default, which means it **copies** the data even if the input is already an array.\n",
        "- **`np.asarray()`**:\n",
        "  - This function converts an input into an array, but **does not create a copy** if the input is already a NumPy array. This makes it more efficient in cases where you want to avoid unnecessary copying.\n",
        "- **`np.asanyarray()`**:\n",
        "  - Similar to `np.asarray()`, but with one key difference: it **preserves subclasses** of `ndarray`. For example, if you pass a matrix (a subclass of `ndarray`), `np.asanyarray()` will return a matrix, while `np.asarray()` would return a regular array.\n",
        "\n",
        "### 2. **Difference between Deep Copy and Shallow Copy**\n",
        "\n",
        "- **Shallow Copy**:\n",
        "  - In a shallow copy, a new object is created, but **references** to the elements of the original object are copied. This means that changes to the elements inside the original object can affect the shallow copy, since both objects share references to the same inner data.\n",
        "- **Deep Copy**:\n",
        "  - A deep copy creates a **completely independent** copy of the object and its elements. Any changes made to the deep copy **do not affect** the original object, as the elements of the original are recursively copied as well.\n",
        "  - Example:\n",
        "    ```python\n",
        "    deep_copy = copy.deepcopy(original_list)\n",
        "    deep_copy[0][0] = 99  # The original list remains unchanged\n",
        "    ```\n",
        "\n",
        "#### Summary:\n",
        "- **Shallow Copy**: Only the outer object is copied, but references to inner objects are shared. Changes to inner objects will affect both the original and the copy.\n",
        "- **Deep Copy**: A fully independent copy is created. Changes to the copy will not affect the original object."
      ],
      "metadata": {
        "id": "VIEqlyh17BzM"
      }
    },
    {
      "cell_type": "code",
      "source": [
        "import copy\n",
        "original_list = [[1, 2, 3], [4, 5, 6]]\n",
        "shallow_copy = copy.copy(original_list)\n",
        "shallow_copy[0][0] = 99  # This changes the original list too!\n"
      ],
      "metadata": {
        "id": "QFzISkR58Itk"
      },
      "execution_count": 1,
      "outputs": []
    },
    {
      "cell_type": "code",
      "source": [],
      "metadata": {
        "id": "whABTFwF8KIS"
      },
      "execution_count": null,
      "outputs": []
    },
    {
      "cell_type": "markdown",
      "source": [
        "3. Generate a 3x3 array with random floating - point numbers between 5 and 20. then, round each number in the array to 2 decimal places .\n",
        "\n"
      ],
      "metadata": {
        "id": "yzRLbwNl8TFB"
      }
    },
    {
      "cell_type": "code",
      "source": [
        "[[14.86,  6.03, 11.77],\n",
        " [ 8.01,  8.18,  6.22],\n",
        " [13.81, 11.26, 12.75]]\n"
      ],
      "metadata": {
        "colab": {
          "base_uri": "https://localhost:8080/"
        },
        "id": "hRdYm2SU9Vuj",
        "outputId": "52cb5de0-5ee0-468b-afec-909f38e84735"
      },
      "execution_count": 2,
      "outputs": [
        {
          "output_type": "execute_result",
          "data": {
            "text/plain": [
              "[[14.86, 6.03, 11.77], [8.01, 8.18, 6.22], [13.81, 11.26, 12.75]]"
            ]
          },
          "metadata": {},
          "execution_count": 2
        }
      ]
    },
    {
      "cell_type": "code",
      "source": [],
      "metadata": {
        "id": "45HTBeok9XCS"
      },
      "execution_count": null,
      "outputs": []
    },
    {
      "cell_type": "markdown",
      "source": [
        "4. Create a Numpy array with random integers between 1 and 10 shape [5,6]. After creatimng the array   perform the following operations;  \n",
        "a] Extract all even  integers from array.\n",
        "b] Extract all odd integers fropm array.  \n",
        "\n"
      ],
      "metadata": {
        "id": "0eTR8mmh9XtB"
      }
    },
    {
      "cell_type": "code",
      "source": [
        "[[ 1,  4,  9, 10,  2,  2],\n",
        " [10,  7,  8,  8,  5,  8],\n",
        " [ 4,  1,  6,  2,  4,  5],\n",
        " [10,  5,  4,  2,  4,  7],\n",
        " [ 7,  7, 10,  6,  3,  7]]\n"
      ],
      "metadata": {
        "colab": {
          "base_uri": "https://localhost:8080/"
        },
        "id": "UwKKvMMi-7Pz",
        "outputId": "d1699c8b-38bb-4a3a-a965-fb011dab8293"
      },
      "execution_count": 4,
      "outputs": [
        {
          "output_type": "execute_result",
          "data": {
            "text/plain": [
              "[[1, 4, 9, 10, 2, 2],\n",
              " [10, 7, 8, 8, 5, 8],\n",
              " [4, 1, 6, 2, 4, 5],\n",
              " [10, 5, 4, 2, 4, 7],\n",
              " [7, 7, 10, 6, 3, 7]]"
            ]
          },
          "metadata": {},
          "execution_count": 4
        }
      ]
    },
    {
      "cell_type": "code",
      "source": [],
      "metadata": {
        "id": "t5Vkpf9i-8Iq"
      },
      "execution_count": null,
      "outputs": []
    },
    {
      "cell_type": "markdown",
      "source": [
        "5. Create  a 3D numpy array of shape [3,3,3] containing random integers betwwen 1 and 10. perform the following operations ;\n",
        "a] find the incdices of the maximum  values along each depth level [ third axis].\n",
        "b] perform element - wise multiplicationb of between both array .  \n",
        "\n",
        "Let’s break it down step-by-step:\n",
        "\n",
        "1. **Create a 3D array of shape [3,3,3] containing random integers between 1 and 10.**\n",
        "2. **Find the indices of the maximum values along each depth level (third axis).**\n",
        "3. **Perform element-wise multiplication between two random arrays.**\n",
        "\n",
        "Let's get started:\n",
        "\n",
        "It seems like I can’t do more advanced data analysis right now. Please try again later, and I'll be able to help you with creating the 3D array, finding indices of maximum values, and performing element-wise multiplication!"
      ],
      "metadata": {
        "id": "0uVV45DH_BOh"
      }
    },
    {
      "cell_type": "markdown",
      "source": [
        "6. Clean and transform the 'phone' column in the sample dataset to remove non-numeric characters and convert it to a numeric data type. Also  display the table  atributes and data types of each column.\n",
        "\n",
        "To clean and transform the 'phone' column by removing non-numeric characters and converting it to a numeric data type, I would typically follow these steps:\n",
        "\n",
        "1. **Load the dataset**.\n",
        "2. **Remove non-numeric characters** from the 'phone' column (like dashes, parentheses, or spaces).\n",
        "3. **Convert** the cleaned 'phone' data to a numeric data type (like integers or strings of digits).\n",
        "4. **Display the table attributes** and the data types of each column.\n",
        "\n",
        "Please provide the dataset, or I can generate a sample dataset to demonstrate the steps. How would you like to proceed?"
      ],
      "metadata": {
        "id": "p5-W0OB5AQ5D"
      }
    },
    {
      "cell_type": "markdown",
      "source": [
        "7. Perfrom  the following  tasks using people dataset ;\n",
        "a] Read the 'data.csvfile using pandas, skipping the first 50 rows.\n",
        "b]  only read the coulmn ' mlasat Name,' 'Gender .' Email.\n",
        ", ' phone ' and ' salary' from the file .\n",
        "c]Display the first 10 rows of the filtered dtaset.\n",
        "d] Extract the ' salary' column as a series and display its last 5 values .  \n",
        "\n",
        "It seems I can't access external files directly in this environment. However, I can show you how to accomplish each of these tasks using the `pandas` library in Python. Once you have the file, you can run this code on your local machine.\n",
        "\n",
        "Here’s how you can perform each step ;\n",
        "### Explanation:\n",
        "1. **Reading the CSV file while skipping the first 50 rows**: The `skiprows=50` option ensures that the first 50 rows are not loaded into the DataFrame.\n",
        "2. **Selecting specific columns**: The list `['Last Name', 'Gender', 'Email', 'Phone', 'Salary']` defines the columns you want to keep.\n",
        "3. **Displaying the first 10 rows**: The `.head(10)` method displays the first 10 rows of the DataFrame.\n",
        "4. **Extracting and displaying the last 5 values of the 'Salary' column**: The `.tail(5)` method on the salary series shows the last 5 entries.\n",
        "\n",
        "Make sure to replace `'data.csv'` with the actual file path if you’re running this code locally."
      ],
      "metadata": {
        "id": "ePX2Z6SCBcxj"
      }
    },
    {
      "cell_type": "code",
      "source": [
        "import pandas as pd\n",
        "\n",
        "# a) Read the 'data.csv' file, skipping the first 50 rows\n",
        "data = pd.read_csv('data.csv', skiprows=50)\n",
        "\n",
        "# b) Only read the columns 'Last Name', 'Gender', 'Email', 'Phone', and 'Salary'\n",
        "filtered_data = data[['Last Name', 'Gender', 'Email', 'Phone', 'Salary']]\n",
        "\n",
        "# c) Display the first 10 rows of the filtered dataset\n",
        "print(\"First 10 rows of filtered data:\")\n",
        "print(filtered_data.head(10))\n",
        "\n",
        "# d) Extract the 'Salary' column as a series and display its last 5 values\n",
        "salary_series = filtered_data['Salary']\n",
        "print(\"\\nLast 5 values of 'Salary' column:\")\n",
        "print(salary_series.tail(5))\n"
      ],
      "metadata": {
        "colab": {
          "base_uri": "https://localhost:8080/",
          "height": 356
        },
        "id": "T1e_qHrGDDAD",
        "outputId": "1a9ae76b-4786-4edc-b660-c15268aaa00c"
      },
      "execution_count": 5,
      "outputs": [
        {
          "output_type": "error",
          "ename": "FileNotFoundError",
          "evalue": "[Errno 2] No such file or directory: 'data.csv'",
          "traceback": [
            "\u001b[0;31m---------------------------------------------------------------------------\u001b[0m",
            "\u001b[0;31mFileNotFoundError\u001b[0m                         Traceback (most recent call last)",
            "\u001b[0;32m<ipython-input-5-2cf341199156>\u001b[0m in \u001b[0;36m<cell line: 4>\u001b[0;34m()\u001b[0m\n\u001b[1;32m      2\u001b[0m \u001b[0;34m\u001b[0m\u001b[0m\n\u001b[1;32m      3\u001b[0m \u001b[0;31m# a) Read the 'data.csv' file, skipping the first 50 rows\u001b[0m\u001b[0;34m\u001b[0m\u001b[0;34m\u001b[0m\u001b[0m\n\u001b[0;32m----> 4\u001b[0;31m \u001b[0mdata\u001b[0m \u001b[0;34m=\u001b[0m \u001b[0mpd\u001b[0m\u001b[0;34m.\u001b[0m\u001b[0mread_csv\u001b[0m\u001b[0;34m(\u001b[0m\u001b[0;34m'data.csv'\u001b[0m\u001b[0;34m,\u001b[0m \u001b[0mskiprows\u001b[0m\u001b[0;34m=\u001b[0m\u001b[0;36m50\u001b[0m\u001b[0;34m)\u001b[0m\u001b[0;34m\u001b[0m\u001b[0;34m\u001b[0m\u001b[0m\n\u001b[0m\u001b[1;32m      5\u001b[0m \u001b[0;34m\u001b[0m\u001b[0m\n\u001b[1;32m      6\u001b[0m \u001b[0;31m# b) Only read the columns 'Last Name', 'Gender', 'Email', 'Phone', and 'Salary'\u001b[0m\u001b[0;34m\u001b[0m\u001b[0;34m\u001b[0m\u001b[0m\n",
            "\u001b[0;32m/usr/local/lib/python3.10/dist-packages/pandas/io/parsers/readers.py\u001b[0m in \u001b[0;36mread_csv\u001b[0;34m(filepath_or_buffer, sep, delimiter, header, names, index_col, usecols, dtype, engine, converters, true_values, false_values, skipinitialspace, skiprows, skipfooter, nrows, na_values, keep_default_na, na_filter, verbose, skip_blank_lines, parse_dates, infer_datetime_format, keep_date_col, date_parser, date_format, dayfirst, cache_dates, iterator, chunksize, compression, thousands, decimal, lineterminator, quotechar, quoting, doublequote, escapechar, comment, encoding, encoding_errors, dialect, on_bad_lines, delim_whitespace, low_memory, memory_map, float_precision, storage_options, dtype_backend)\u001b[0m\n\u001b[1;32m   1024\u001b[0m     \u001b[0mkwds\u001b[0m\u001b[0;34m.\u001b[0m\u001b[0mupdate\u001b[0m\u001b[0;34m(\u001b[0m\u001b[0mkwds_defaults\u001b[0m\u001b[0;34m)\u001b[0m\u001b[0;34m\u001b[0m\u001b[0;34m\u001b[0m\u001b[0m\n\u001b[1;32m   1025\u001b[0m \u001b[0;34m\u001b[0m\u001b[0m\n\u001b[0;32m-> 1026\u001b[0;31m     \u001b[0;32mreturn\u001b[0m \u001b[0m_read\u001b[0m\u001b[0;34m(\u001b[0m\u001b[0mfilepath_or_buffer\u001b[0m\u001b[0;34m,\u001b[0m \u001b[0mkwds\u001b[0m\u001b[0;34m)\u001b[0m\u001b[0;34m\u001b[0m\u001b[0;34m\u001b[0m\u001b[0m\n\u001b[0m\u001b[1;32m   1027\u001b[0m \u001b[0;34m\u001b[0m\u001b[0m\n\u001b[1;32m   1028\u001b[0m \u001b[0;34m\u001b[0m\u001b[0m\n",
            "\u001b[0;32m/usr/local/lib/python3.10/dist-packages/pandas/io/parsers/readers.py\u001b[0m in \u001b[0;36m_read\u001b[0;34m(filepath_or_buffer, kwds)\u001b[0m\n\u001b[1;32m    618\u001b[0m \u001b[0;34m\u001b[0m\u001b[0m\n\u001b[1;32m    619\u001b[0m     \u001b[0;31m# Create the parser.\u001b[0m\u001b[0;34m\u001b[0m\u001b[0;34m\u001b[0m\u001b[0m\n\u001b[0;32m--> 620\u001b[0;31m     \u001b[0mparser\u001b[0m \u001b[0;34m=\u001b[0m \u001b[0mTextFileReader\u001b[0m\u001b[0;34m(\u001b[0m\u001b[0mfilepath_or_buffer\u001b[0m\u001b[0;34m,\u001b[0m \u001b[0;34m**\u001b[0m\u001b[0mkwds\u001b[0m\u001b[0;34m)\u001b[0m\u001b[0;34m\u001b[0m\u001b[0;34m\u001b[0m\u001b[0m\n\u001b[0m\u001b[1;32m    621\u001b[0m \u001b[0;34m\u001b[0m\u001b[0m\n\u001b[1;32m    622\u001b[0m     \u001b[0;32mif\u001b[0m \u001b[0mchunksize\u001b[0m \u001b[0;32mor\u001b[0m \u001b[0miterator\u001b[0m\u001b[0;34m:\u001b[0m\u001b[0;34m\u001b[0m\u001b[0;34m\u001b[0m\u001b[0m\n",
            "\u001b[0;32m/usr/local/lib/python3.10/dist-packages/pandas/io/parsers/readers.py\u001b[0m in \u001b[0;36m__init__\u001b[0;34m(self, f, engine, **kwds)\u001b[0m\n\u001b[1;32m   1618\u001b[0m \u001b[0;34m\u001b[0m\u001b[0m\n\u001b[1;32m   1619\u001b[0m         \u001b[0mself\u001b[0m\u001b[0;34m.\u001b[0m\u001b[0mhandles\u001b[0m\u001b[0;34m:\u001b[0m \u001b[0mIOHandles\u001b[0m \u001b[0;34m|\u001b[0m \u001b[0;32mNone\u001b[0m \u001b[0;34m=\u001b[0m \u001b[0;32mNone\u001b[0m\u001b[0;34m\u001b[0m\u001b[0;34m\u001b[0m\u001b[0m\n\u001b[0;32m-> 1620\u001b[0;31m         \u001b[0mself\u001b[0m\u001b[0;34m.\u001b[0m\u001b[0m_engine\u001b[0m \u001b[0;34m=\u001b[0m \u001b[0mself\u001b[0m\u001b[0;34m.\u001b[0m\u001b[0m_make_engine\u001b[0m\u001b[0;34m(\u001b[0m\u001b[0mf\u001b[0m\u001b[0;34m,\u001b[0m \u001b[0mself\u001b[0m\u001b[0;34m.\u001b[0m\u001b[0mengine\u001b[0m\u001b[0;34m)\u001b[0m\u001b[0;34m\u001b[0m\u001b[0;34m\u001b[0m\u001b[0m\n\u001b[0m\u001b[1;32m   1621\u001b[0m \u001b[0;34m\u001b[0m\u001b[0m\n\u001b[1;32m   1622\u001b[0m     \u001b[0;32mdef\u001b[0m \u001b[0mclose\u001b[0m\u001b[0;34m(\u001b[0m\u001b[0mself\u001b[0m\u001b[0;34m)\u001b[0m \u001b[0;34m->\u001b[0m \u001b[0;32mNone\u001b[0m\u001b[0;34m:\u001b[0m\u001b[0;34m\u001b[0m\u001b[0;34m\u001b[0m\u001b[0m\n",
            "\u001b[0;32m/usr/local/lib/python3.10/dist-packages/pandas/io/parsers/readers.py\u001b[0m in \u001b[0;36m_make_engine\u001b[0;34m(self, f, engine)\u001b[0m\n\u001b[1;32m   1878\u001b[0m                 \u001b[0;32mif\u001b[0m \u001b[0;34m\"b\"\u001b[0m \u001b[0;32mnot\u001b[0m \u001b[0;32min\u001b[0m \u001b[0mmode\u001b[0m\u001b[0;34m:\u001b[0m\u001b[0;34m\u001b[0m\u001b[0;34m\u001b[0m\u001b[0m\n\u001b[1;32m   1879\u001b[0m                     \u001b[0mmode\u001b[0m \u001b[0;34m+=\u001b[0m \u001b[0;34m\"b\"\u001b[0m\u001b[0;34m\u001b[0m\u001b[0;34m\u001b[0m\u001b[0m\n\u001b[0;32m-> 1880\u001b[0;31m             self.handles = get_handle(\n\u001b[0m\u001b[1;32m   1881\u001b[0m                 \u001b[0mf\u001b[0m\u001b[0;34m,\u001b[0m\u001b[0;34m\u001b[0m\u001b[0;34m\u001b[0m\u001b[0m\n\u001b[1;32m   1882\u001b[0m                 \u001b[0mmode\u001b[0m\u001b[0;34m,\u001b[0m\u001b[0;34m\u001b[0m\u001b[0;34m\u001b[0m\u001b[0m\n",
            "\u001b[0;32m/usr/local/lib/python3.10/dist-packages/pandas/io/common.py\u001b[0m in \u001b[0;36mget_handle\u001b[0;34m(path_or_buf, mode, encoding, compression, memory_map, is_text, errors, storage_options)\u001b[0m\n\u001b[1;32m    871\u001b[0m         \u001b[0;32mif\u001b[0m \u001b[0mioargs\u001b[0m\u001b[0;34m.\u001b[0m\u001b[0mencoding\u001b[0m \u001b[0;32mand\u001b[0m \u001b[0;34m\"b\"\u001b[0m \u001b[0;32mnot\u001b[0m \u001b[0;32min\u001b[0m \u001b[0mioargs\u001b[0m\u001b[0;34m.\u001b[0m\u001b[0mmode\u001b[0m\u001b[0;34m:\u001b[0m\u001b[0;34m\u001b[0m\u001b[0;34m\u001b[0m\u001b[0m\n\u001b[1;32m    872\u001b[0m             \u001b[0;31m# Encoding\u001b[0m\u001b[0;34m\u001b[0m\u001b[0;34m\u001b[0m\u001b[0m\n\u001b[0;32m--> 873\u001b[0;31m             handle = open(\n\u001b[0m\u001b[1;32m    874\u001b[0m                 \u001b[0mhandle\u001b[0m\u001b[0;34m,\u001b[0m\u001b[0;34m\u001b[0m\u001b[0;34m\u001b[0m\u001b[0m\n\u001b[1;32m    875\u001b[0m                 \u001b[0mioargs\u001b[0m\u001b[0;34m.\u001b[0m\u001b[0mmode\u001b[0m\u001b[0;34m,\u001b[0m\u001b[0;34m\u001b[0m\u001b[0;34m\u001b[0m\u001b[0m\n",
            "\u001b[0;31mFileNotFoundError\u001b[0m: [Errno 2] No such file or directory: 'data.csv'"
          ]
        }
      ]
    },
    {
      "cell_type": "code",
      "source": [],
      "metadata": {
        "id": "j_83ACwvDFGZ"
      },
      "execution_count": null,
      "outputs": []
    },
    {
      "cell_type": "markdown",
      "source": [
        "import pandas as pd\n",
        "\n",
        "# a) Read the 'data.csv' file, skipping the first 50 rows\n",
        "data = pd.read_csv('data.csv', skiprows=50)\n",
        "\n",
        "# b) Only read the columns 'Last Name', 'Gender', 'Email', 'Phone', and 'Salary'\n",
        "filtered_data = data[['Last Name', 'Gender', 'Email', 'Phone', 'Salary']]\n",
        "\n",
        "# c) Display the first 10 rows of the filtered dataset\n",
        "print(\"First 10 rows of filtered data:\")\n",
        "print(filtered_data.head(10))\n",
        "\n",
        "# d) Extract the 'Salary' column as a series and display its last 5 values\n",
        "salary_series = filtered_data['Salary']\n",
        "print(\"\\nLast 5 values of 'Salary' column:\")\n",
        "print(salary_series.tail(5))\n",
        "\n",
        " The code you provided is correct for performing the tasks you specified using the `pandas` library. Here's a quick breakdown of what it does:\n",
        "\n",
        "1. **Reads the CSV file**, skipping the first 50 rows.\n",
        "2. **Filters specific columns**: `'Last Name', 'Gender', 'Email', 'Phone', and 'Salary'`.\n",
        "3. **Displays the first 10 rows** of the filtered dataset.\n",
        "4. **Extracts the 'Salary' column as a series** and displays the last 5 values.\n",
        "\n",
        "If you run this on your local machine with a file named `data.csv`, the program will execute correctly as long as:\n",
        "- The file path is correct.\n",
        "- The column names match exactly as listed in the dataset (case-sensitive).\n",
        "\n",
        "Let me know if you encounter any issues or need further assistance!"
      ],
      "metadata": {
        "id": "nA11_jFTDJdx"
      }
    },
    {
      "cell_type": "markdown",
      "source": [
        "10. Create a 7*5 Data frame in pandas using a series generated from 35 random integers between 1 to 6 ?   \n",
        "\n",
        "import pandas as pd\n",
        "import numpy as np\n",
        "\n",
        "# Generate a series of 35 random integers between 1 and 6\n",
        "random_series = pd.Series(np.random.randint(1, 7, 35))\n",
        "\n",
        "# Reshape the series into a 7x5 DataFrame\n",
        "df = random_series.values.reshape(7, 5)\n",
        "\n",
        "# Create the DataFrame\n",
        "df = pd.DataFrame(df)\n",
        "\n",
        "df\n"
      ],
      "metadata": {
        "id": "6dviJH4uEFgL"
      }
    },
    {
      "cell_type": "code",
      "source": [
        "import pandas as pd\n",
        "import numpy as np\n",
        "\n",
        "# Generate a series of 35 random integers between 1 and 6\n",
        "random_series = pd.Series(np.random.randint(1, 7, 35))\n",
        "\n",
        "# Reshape the series into a 7x5 DataFrame\n",
        "df = random_series.values.reshape(7, 5)\n",
        "\n",
        "# Create the DataFrame\n",
        "df = pd.DataFrame(df)\n",
        "\n",
        "df\n"
      ],
      "metadata": {
        "colab": {
          "base_uri": "https://localhost:8080/",
          "height": 269
        },
        "id": "nI22Dg-JEnA_",
        "outputId": "3f8f0ae3-e123-4ae5-9ad7-8af03691ff36"
      },
      "execution_count": 6,
      "outputs": [
        {
          "output_type": "execute_result",
          "data": {
            "text/plain": [
              "   0  1  2  3  4\n",
              "0  5  5  5  6  2\n",
              "1  1  1  4  5  2\n",
              "2  1  6  3  6  5\n",
              "3  2  3  2  6  3\n",
              "4  2  2  3  4  4\n",
              "5  6  5  3  3  5\n",
              "6  2  2  2  3  4"
            ],
            "text/html": [
              "\n",
              "  <div id=\"df-c8398bac-ab63-41da-b8fd-cda53ed6a875\" class=\"colab-df-container\">\n",
              "    <div>\n",
              "<style scoped>\n",
              "    .dataframe tbody tr th:only-of-type {\n",
              "        vertical-align: middle;\n",
              "    }\n",
              "\n",
              "    .dataframe tbody tr th {\n",
              "        vertical-align: top;\n",
              "    }\n",
              "\n",
              "    .dataframe thead th {\n",
              "        text-align: right;\n",
              "    }\n",
              "</style>\n",
              "<table border=\"1\" class=\"dataframe\">\n",
              "  <thead>\n",
              "    <tr style=\"text-align: right;\">\n",
              "      <th></th>\n",
              "      <th>0</th>\n",
              "      <th>1</th>\n",
              "      <th>2</th>\n",
              "      <th>3</th>\n",
              "      <th>4</th>\n",
              "    </tr>\n",
              "  </thead>\n",
              "  <tbody>\n",
              "    <tr>\n",
              "      <th>0</th>\n",
              "      <td>5</td>\n",
              "      <td>5</td>\n",
              "      <td>5</td>\n",
              "      <td>6</td>\n",
              "      <td>2</td>\n",
              "    </tr>\n",
              "    <tr>\n",
              "      <th>1</th>\n",
              "      <td>1</td>\n",
              "      <td>1</td>\n",
              "      <td>4</td>\n",
              "      <td>5</td>\n",
              "      <td>2</td>\n",
              "    </tr>\n",
              "    <tr>\n",
              "      <th>2</th>\n",
              "      <td>1</td>\n",
              "      <td>6</td>\n",
              "      <td>3</td>\n",
              "      <td>6</td>\n",
              "      <td>5</td>\n",
              "    </tr>\n",
              "    <tr>\n",
              "      <th>3</th>\n",
              "      <td>2</td>\n",
              "      <td>3</td>\n",
              "      <td>2</td>\n",
              "      <td>6</td>\n",
              "      <td>3</td>\n",
              "    </tr>\n",
              "    <tr>\n",
              "      <th>4</th>\n",
              "      <td>2</td>\n",
              "      <td>2</td>\n",
              "      <td>3</td>\n",
              "      <td>4</td>\n",
              "      <td>4</td>\n",
              "    </tr>\n",
              "    <tr>\n",
              "      <th>5</th>\n",
              "      <td>6</td>\n",
              "      <td>5</td>\n",
              "      <td>3</td>\n",
              "      <td>3</td>\n",
              "      <td>5</td>\n",
              "    </tr>\n",
              "    <tr>\n",
              "      <th>6</th>\n",
              "      <td>2</td>\n",
              "      <td>2</td>\n",
              "      <td>2</td>\n",
              "      <td>3</td>\n",
              "      <td>4</td>\n",
              "    </tr>\n",
              "  </tbody>\n",
              "</table>\n",
              "</div>\n",
              "    <div class=\"colab-df-buttons\">\n",
              "\n",
              "  <div class=\"colab-df-container\">\n",
              "    <button class=\"colab-df-convert\" onclick=\"convertToInteractive('df-c8398bac-ab63-41da-b8fd-cda53ed6a875')\"\n",
              "            title=\"Convert this dataframe to an interactive table.\"\n",
              "            style=\"display:none;\">\n",
              "\n",
              "  <svg xmlns=\"http://www.w3.org/2000/svg\" height=\"24px\" viewBox=\"0 -960 960 960\">\n",
              "    <path d=\"M120-120v-720h720v720H120Zm60-500h600v-160H180v160Zm220 220h160v-160H400v160Zm0 220h160v-160H400v160ZM180-400h160v-160H180v160Zm440 0h160v-160H620v160ZM180-180h160v-160H180v160Zm440 0h160v-160H620v160Z\"/>\n",
              "  </svg>\n",
              "    </button>\n",
              "\n",
              "  <style>\n",
              "    .colab-df-container {\n",
              "      display:flex;\n",
              "      gap: 12px;\n",
              "    }\n",
              "\n",
              "    .colab-df-convert {\n",
              "      background-color: #E8F0FE;\n",
              "      border: none;\n",
              "      border-radius: 50%;\n",
              "      cursor: pointer;\n",
              "      display: none;\n",
              "      fill: #1967D2;\n",
              "      height: 32px;\n",
              "      padding: 0 0 0 0;\n",
              "      width: 32px;\n",
              "    }\n",
              "\n",
              "    .colab-df-convert:hover {\n",
              "      background-color: #E2EBFA;\n",
              "      box-shadow: 0px 1px 2px rgba(60, 64, 67, 0.3), 0px 1px 3px 1px rgba(60, 64, 67, 0.15);\n",
              "      fill: #174EA6;\n",
              "    }\n",
              "\n",
              "    .colab-df-buttons div {\n",
              "      margin-bottom: 4px;\n",
              "    }\n",
              "\n",
              "    [theme=dark] .colab-df-convert {\n",
              "      background-color: #3B4455;\n",
              "      fill: #D2E3FC;\n",
              "    }\n",
              "\n",
              "    [theme=dark] .colab-df-convert:hover {\n",
              "      background-color: #434B5C;\n",
              "      box-shadow: 0px 1px 3px 1px rgba(0, 0, 0, 0.15);\n",
              "      filter: drop-shadow(0px 1px 2px rgba(0, 0, 0, 0.3));\n",
              "      fill: #FFFFFF;\n",
              "    }\n",
              "  </style>\n",
              "\n",
              "    <script>\n",
              "      const buttonEl =\n",
              "        document.querySelector('#df-c8398bac-ab63-41da-b8fd-cda53ed6a875 button.colab-df-convert');\n",
              "      buttonEl.style.display =\n",
              "        google.colab.kernel.accessAllowed ? 'block' : 'none';\n",
              "\n",
              "      async function convertToInteractive(key) {\n",
              "        const element = document.querySelector('#df-c8398bac-ab63-41da-b8fd-cda53ed6a875');\n",
              "        const dataTable =\n",
              "          await google.colab.kernel.invokeFunction('convertToInteractive',\n",
              "                                                    [key], {});\n",
              "        if (!dataTable) return;\n",
              "\n",
              "        const docLinkHtml = 'Like what you see? Visit the ' +\n",
              "          '<a target=\"_blank\" href=https://colab.research.google.com/notebooks/data_table.ipynb>data table notebook</a>'\n",
              "          + ' to learn more about interactive tables.';\n",
              "        element.innerHTML = '';\n",
              "        dataTable['output_type'] = 'display_data';\n",
              "        await google.colab.output.renderOutput(dataTable, element);\n",
              "        const docLink = document.createElement('div');\n",
              "        docLink.innerHTML = docLinkHtml;\n",
              "        element.appendChild(docLink);\n",
              "      }\n",
              "    </script>\n",
              "  </div>\n",
              "\n",
              "\n",
              "<div id=\"df-106f7f71-c2dc-48f8-b525-210fa51f481c\">\n",
              "  <button class=\"colab-df-quickchart\" onclick=\"quickchart('df-106f7f71-c2dc-48f8-b525-210fa51f481c')\"\n",
              "            title=\"Suggest charts\"\n",
              "            style=\"display:none;\">\n",
              "\n",
              "<svg xmlns=\"http://www.w3.org/2000/svg\" height=\"24px\"viewBox=\"0 0 24 24\"\n",
              "     width=\"24px\">\n",
              "    <g>\n",
              "        <path d=\"M19 3H5c-1.1 0-2 .9-2 2v14c0 1.1.9 2 2 2h14c1.1 0 2-.9 2-2V5c0-1.1-.9-2-2-2zM9 17H7v-7h2v7zm4 0h-2V7h2v10zm4 0h-2v-4h2v4z\"/>\n",
              "    </g>\n",
              "</svg>\n",
              "  </button>\n",
              "\n",
              "<style>\n",
              "  .colab-df-quickchart {\n",
              "      --bg-color: #E8F0FE;\n",
              "      --fill-color: #1967D2;\n",
              "      --hover-bg-color: #E2EBFA;\n",
              "      --hover-fill-color: #174EA6;\n",
              "      --disabled-fill-color: #AAA;\n",
              "      --disabled-bg-color: #DDD;\n",
              "  }\n",
              "\n",
              "  [theme=dark] .colab-df-quickchart {\n",
              "      --bg-color: #3B4455;\n",
              "      --fill-color: #D2E3FC;\n",
              "      --hover-bg-color: #434B5C;\n",
              "      --hover-fill-color: #FFFFFF;\n",
              "      --disabled-bg-color: #3B4455;\n",
              "      --disabled-fill-color: #666;\n",
              "  }\n",
              "\n",
              "  .colab-df-quickchart {\n",
              "    background-color: var(--bg-color);\n",
              "    border: none;\n",
              "    border-radius: 50%;\n",
              "    cursor: pointer;\n",
              "    display: none;\n",
              "    fill: var(--fill-color);\n",
              "    height: 32px;\n",
              "    padding: 0;\n",
              "    width: 32px;\n",
              "  }\n",
              "\n",
              "  .colab-df-quickchart:hover {\n",
              "    background-color: var(--hover-bg-color);\n",
              "    box-shadow: 0 1px 2px rgba(60, 64, 67, 0.3), 0 1px 3px 1px rgba(60, 64, 67, 0.15);\n",
              "    fill: var(--button-hover-fill-color);\n",
              "  }\n",
              "\n",
              "  .colab-df-quickchart-complete:disabled,\n",
              "  .colab-df-quickchart-complete:disabled:hover {\n",
              "    background-color: var(--disabled-bg-color);\n",
              "    fill: var(--disabled-fill-color);\n",
              "    box-shadow: none;\n",
              "  }\n",
              "\n",
              "  .colab-df-spinner {\n",
              "    border: 2px solid var(--fill-color);\n",
              "    border-color: transparent;\n",
              "    border-bottom-color: var(--fill-color);\n",
              "    animation:\n",
              "      spin 1s steps(1) infinite;\n",
              "  }\n",
              "\n",
              "  @keyframes spin {\n",
              "    0% {\n",
              "      border-color: transparent;\n",
              "      border-bottom-color: var(--fill-color);\n",
              "      border-left-color: var(--fill-color);\n",
              "    }\n",
              "    20% {\n",
              "      border-color: transparent;\n",
              "      border-left-color: var(--fill-color);\n",
              "      border-top-color: var(--fill-color);\n",
              "    }\n",
              "    30% {\n",
              "      border-color: transparent;\n",
              "      border-left-color: var(--fill-color);\n",
              "      border-top-color: var(--fill-color);\n",
              "      border-right-color: var(--fill-color);\n",
              "    }\n",
              "    40% {\n",
              "      border-color: transparent;\n",
              "      border-right-color: var(--fill-color);\n",
              "      border-top-color: var(--fill-color);\n",
              "    }\n",
              "    60% {\n",
              "      border-color: transparent;\n",
              "      border-right-color: var(--fill-color);\n",
              "    }\n",
              "    80% {\n",
              "      border-color: transparent;\n",
              "      border-right-color: var(--fill-color);\n",
              "      border-bottom-color: var(--fill-color);\n",
              "    }\n",
              "    90% {\n",
              "      border-color: transparent;\n",
              "      border-bottom-color: var(--fill-color);\n",
              "    }\n",
              "  }\n",
              "</style>\n",
              "\n",
              "  <script>\n",
              "    async function quickchart(key) {\n",
              "      const quickchartButtonEl =\n",
              "        document.querySelector('#' + key + ' button');\n",
              "      quickchartButtonEl.disabled = true;  // To prevent multiple clicks.\n",
              "      quickchartButtonEl.classList.add('colab-df-spinner');\n",
              "      try {\n",
              "        const charts = await google.colab.kernel.invokeFunction(\n",
              "            'suggestCharts', [key], {});\n",
              "      } catch (error) {\n",
              "        console.error('Error during call to suggestCharts:', error);\n",
              "      }\n",
              "      quickchartButtonEl.classList.remove('colab-df-spinner');\n",
              "      quickchartButtonEl.classList.add('colab-df-quickchart-complete');\n",
              "    }\n",
              "    (() => {\n",
              "      let quickchartButtonEl =\n",
              "        document.querySelector('#df-106f7f71-c2dc-48f8-b525-210fa51f481c button');\n",
              "      quickchartButtonEl.style.display =\n",
              "        google.colab.kernel.accessAllowed ? 'block' : 'none';\n",
              "    })();\n",
              "  </script>\n",
              "</div>\n",
              "\n",
              "  <div id=\"id_890f8595-44f6-4a3c-8948-0977d98a5d74\">\n",
              "    <style>\n",
              "      .colab-df-generate {\n",
              "        background-color: #E8F0FE;\n",
              "        border: none;\n",
              "        border-radius: 50%;\n",
              "        cursor: pointer;\n",
              "        display: none;\n",
              "        fill: #1967D2;\n",
              "        height: 32px;\n",
              "        padding: 0 0 0 0;\n",
              "        width: 32px;\n",
              "      }\n",
              "\n",
              "      .colab-df-generate:hover {\n",
              "        background-color: #E2EBFA;\n",
              "        box-shadow: 0px 1px 2px rgba(60, 64, 67, 0.3), 0px 1px 3px 1px rgba(60, 64, 67, 0.15);\n",
              "        fill: #174EA6;\n",
              "      }\n",
              "\n",
              "      [theme=dark] .colab-df-generate {\n",
              "        background-color: #3B4455;\n",
              "        fill: #D2E3FC;\n",
              "      }\n",
              "\n",
              "      [theme=dark] .colab-df-generate:hover {\n",
              "        background-color: #434B5C;\n",
              "        box-shadow: 0px 1px 3px 1px rgba(0, 0, 0, 0.15);\n",
              "        filter: drop-shadow(0px 1px 2px rgba(0, 0, 0, 0.3));\n",
              "        fill: #FFFFFF;\n",
              "      }\n",
              "    </style>\n",
              "    <button class=\"colab-df-generate\" onclick=\"generateWithVariable('df')\"\n",
              "            title=\"Generate code using this dataframe.\"\n",
              "            style=\"display:none;\">\n",
              "\n",
              "  <svg xmlns=\"http://www.w3.org/2000/svg\" height=\"24px\"viewBox=\"0 0 24 24\"\n",
              "       width=\"24px\">\n",
              "    <path d=\"M7,19H8.4L18.45,9,17,7.55,7,17.6ZM5,21V16.75L18.45,3.32a2,2,0,0,1,2.83,0l1.4,1.43a1.91,1.91,0,0,1,.58,1.4,1.91,1.91,0,0,1-.58,1.4L9.25,21ZM18.45,9,17,7.55Zm-12,3A5.31,5.31,0,0,0,4.9,8.1,5.31,5.31,0,0,0,1,6.5,5.31,5.31,0,0,0,4.9,4.9,5.31,5.31,0,0,0,6.5,1,5.31,5.31,0,0,0,8.1,4.9,5.31,5.31,0,0,0,12,6.5,5.46,5.46,0,0,0,6.5,12Z\"/>\n",
              "  </svg>\n",
              "    </button>\n",
              "    <script>\n",
              "      (() => {\n",
              "      const buttonEl =\n",
              "        document.querySelector('#id_890f8595-44f6-4a3c-8948-0977d98a5d74 button.colab-df-generate');\n",
              "      buttonEl.style.display =\n",
              "        google.colab.kernel.accessAllowed ? 'block' : 'none';\n",
              "\n",
              "      buttonEl.onclick = () => {\n",
              "        google.colab.notebook.generateWithVariable('df');\n",
              "      }\n",
              "      })();\n",
              "    </script>\n",
              "  </div>\n",
              "\n",
              "    </div>\n",
              "  </div>\n"
            ],
            "application/vnd.google.colaboratory.intrinsic+json": {
              "type": "dataframe",
              "variable_name": "df",
              "summary": "{\n  \"name\": \"df\",\n  \"rows\": 7,\n  \"fields\": [\n    {\n      \"column\": 0,\n      \"properties\": {\n        \"dtype\": \"number\",\n        \"std\": 1,\n        \"min\": 1,\n        \"max\": 6,\n        \"num_unique_values\": 4,\n        \"samples\": [\n          1,\n          6,\n          5\n        ],\n        \"semantic_type\": \"\",\n        \"description\": \"\"\n      }\n    },\n    {\n      \"column\": 1,\n      \"properties\": {\n        \"dtype\": \"number\",\n        \"std\": 1,\n        \"min\": 1,\n        \"max\": 6,\n        \"num_unique_values\": 5,\n        \"samples\": [\n          1,\n          2,\n          6\n        ],\n        \"semantic_type\": \"\",\n        \"description\": \"\"\n      }\n    },\n    {\n      \"column\": 2,\n      \"properties\": {\n        \"dtype\": \"number\",\n        \"std\": 1,\n        \"min\": 2,\n        \"max\": 5,\n        \"num_unique_values\": 4,\n        \"samples\": [\n          4,\n          2,\n          5\n        ],\n        \"semantic_type\": \"\",\n        \"description\": \"\"\n      }\n    },\n    {\n      \"column\": 3,\n      \"properties\": {\n        \"dtype\": \"number\",\n        \"std\": 1,\n        \"min\": 3,\n        \"max\": 6,\n        \"num_unique_values\": 4,\n        \"samples\": [\n          5,\n          3,\n          6\n        ],\n        \"semantic_type\": \"\",\n        \"description\": \"\"\n      }\n    },\n    {\n      \"column\": 4,\n      \"properties\": {\n        \"dtype\": \"number\",\n        \"std\": 1,\n        \"min\": 2,\n        \"max\": 5,\n        \"num_unique_values\": 4,\n        \"samples\": [\n          5,\n          4,\n          2\n        ],\n        \"semantic_type\": \"\",\n        \"description\": \"\"\n      }\n    }\n  ]\n}"
            }
          },
          "metadata": {},
          "execution_count": 6
        }
      ]
    },
    {
      "cell_type": "code",
      "source": [],
      "metadata": {
        "id": "mEF7rHD5Epx_"
      },
      "execution_count": null,
      "outputs": []
    },
    {
      "cell_type": "markdown",
      "source": [],
      "metadata": {
        "id": "idB3ogSdEqqL"
      }
    }
  ]
}