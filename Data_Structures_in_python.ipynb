{
  "nbformat": 4,
  "nbformat_minor": 0,
  "metadata": {
    "colab": {
      "provenance": [],
      "authorship_tag": "ABX9TyMxfbb5ocgMPMNl/ywuBT0P",
      "include_colab_link": true
    },
    "kernelspec": {
      "name": "python3",
      "display_name": "Python 3"
    },
    "language_info": {
      "name": "python"
    }
  },
  "cells": [
    {
      "cell_type": "markdown",
      "metadata": {
        "id": "view-in-github",
        "colab_type": "text"
      },
      "source": [
        "<a href=\"https://colab.research.google.com/github/akr1701/assignment-2-data-assignment/blob/main/Data_Structures_in_python.ipynb\" target=\"_parent\"><img src=\"https://colab.research.google.com/assets/colab-badge.svg\" alt=\"Open In Colab\"/></a>"
      ]
    },
    {
      "cell_type": "code",
      "execution_count": null,
      "metadata": {
        "id": "YJXV_jX6fO1c"
      },
      "outputs": [],
      "source": []
    },
    {
      "cell_type": "markdown",
      "source": [
        "1. Write a code to reverse a string.\n",
        "\n",
        "Here is a simple Python code to reverse a string:\n",
        "\n",
        "```python\n",
        "def reverse_string(s):\n",
        "    return s[::-1]\n",
        "\n",
        "# Example usage:\n",
        "string = \"Hello, World!\"\n",
        "reversed_string = reverse_string(string)\n",
        "print(\"Reversed String:\", reversed_string)\n",
        "```\n",
        "\n",
        "### Output:\n",
        "```\n",
        "Reversed String: !dlroW ,olleH\n",
        "```\n",
        "\n",
        "The code uses slicing (`[::-1]`) to reverse the string."
      ],
      "metadata": {
        "id": "xv7vmIPrfPfq"
      }
    },
    {
      "cell_type": "code",
      "source": [
        "Here is a simple Python code to reverse a string:\n",
        "\n",
        "```python\n",
        "def reverse_string(s):\n",
        "    return s[::-1]\n",
        "\n",
        "# Example usage:\n",
        "string = \"Hello, World!\"\n",
        "reversed_string = reverse_string(string)\n",
        "print(\"Reversed String:\", reversed_string)\n",
        "```\n",
        "\n",
        "### Output:\n",
        "```\n",
        "Reversed String: !dlroW ,olleH\n",
        "```\n",
        "\n",
        "The code uses slicing (`[::-1]`) to reverse the string."
      ],
      "metadata": {
        "colab": {
          "base_uri": "https://localhost:8080/",
          "height": 106
        },
        "id": "JCSRTZiwffHy",
        "outputId": "51f22f95-df3a-4cb2-e556-7f833f4f344d"
      },
      "execution_count": 1,
      "outputs": [
        {
          "output_type": "error",
          "ename": "SyntaxError",
          "evalue": "invalid syntax (<ipython-input-1-b23d3c991cd1>, line 1)",
          "traceback": [
            "\u001b[0;36m  File \u001b[0;32m\"<ipython-input-1-b23d3c991cd1>\"\u001b[0;36m, line \u001b[0;32m1\u001b[0m\n\u001b[0;31m    Here is a simple Python code to reverse a string:\u001b[0m\n\u001b[0m              ^\u001b[0m\n\u001b[0;31mSyntaxError\u001b[0m\u001b[0;31m:\u001b[0m invalid syntax\n"
          ]
        }
      ]
    },
    {
      "cell_type": "code",
      "source": [],
      "metadata": {
        "id": "TkpK8YWBfgik"
      },
      "execution_count": null,
      "outputs": []
    },
    {
      "cell_type": "markdown",
      "source": [
        "2. Write a code to count the number of vowels in a string.\n",
        "\n",
        "Here's a Python code to count the number of vowels in a string:\n",
        "\n",
        "```python\n",
        "def count_vowels(s):\n",
        "    vowels = \"aeiouAEIOU\"\n",
        "    count = 0\n",
        "    for char in s:\n",
        "        if char in vowels:\n",
        "            count += 1\n",
        "    return count\n",
        "\n",
        "# Example usage:\n",
        "string = \"Hello, World!\"\n",
        "vowel_count = count_vowels(string)\n",
        "print(\"Number of vowels:\", vowel_count)\n",
        "```\n",
        "\n",
        "### Output:\n",
        "```\n",
        "Number of vowels: 3\n",
        "```\n",
        "\n",
        "This code checks each character in the string to see if it is a vowel (either uppercase or lowercase)."
      ],
      "metadata": {
        "id": "bq4UgrjGfhui"
      }
    },
    {
      "cell_type": "code",
      "source": [
        "def count_vowels(s):\n",
        "    vowels = \"aeiouAEIOU\"\n",
        "    count = 0\n",
        "    for char in s:\n",
        "        if char in vowels:\n",
        "            count += 1\n",
        "    return count\n",
        "\n",
        "# Example usage:\n",
        "string = \"Hello, World!\"\n",
        "vowel_count = count_vowels(string)\n",
        "print(\"Number of vowels:\", vowel_count)\n"
      ],
      "metadata": {
        "colab": {
          "base_uri": "https://localhost:8080/"
        },
        "id": "j8UNi0CugBZf",
        "outputId": "4982d24b-c282-4d35-a43f-d8be6e38a0ab"
      },
      "execution_count": 2,
      "outputs": [
        {
          "output_type": "stream",
          "name": "stdout",
          "text": [
            "Number of vowels: 3\n"
          ]
        }
      ]
    },
    {
      "cell_type": "code",
      "source": [],
      "metadata": {
        "id": "5qLUZuc6gEg3"
      },
      "execution_count": null,
      "outputs": []
    },
    {
      "cell_type": "markdown",
      "source": [
        "3. Write a code to check if a given string is a palindrome or not .\n",
        "\n",
        "Here's a Python code to check if a given string is a palindrome:\n",
        "\n",
        "```python\n",
        "def is_palindrome(s):\n",
        "    # Convert the string to lowercase and remove spaces for uniformity\n",
        "    s = s.replace(\" \", \"\").lower()\n",
        "    return s == s[::-1]\n",
        "\n",
        "# Example usage:\n",
        "string = \"A man a plan a canal Panama\"\n",
        "if is_palindrome(string):\n",
        "    print(f'\"{string}\" is a palindrome.')\n",
        "else:\n",
        "    print(f'\"{string}\" is not a palindrome.')\n",
        "```\n",
        "\n",
        "### Output:\n",
        "```\n",
        "\"A man a plan a canal Panama\" is a palindrome.\n",
        "```\n",
        "\n",
        "The code removes spaces and converts the string to lowercase before checking if it reads the same forward and backward."
      ],
      "metadata": {
        "id": "dWW_1iQigFmM"
      }
    },
    {
      "cell_type": "code",
      "source": [
        "def is_palindrome(s):\n",
        "    # Convert the string to lowercase and remove spaces for uniformity\n",
        "    s = s.replace(\" \", \"\").lower()\n",
        "    return s == s[::-1]\n",
        "\n",
        "# Example usage:\n",
        "string = \"A man a plan a canal Panama\"\n",
        "if is_palindrome(string):\n",
        "    print(f'\"{string}\" is a palindrome.')\n",
        "else:\n",
        "    print(f'\"{string}\" is not a palindrome.')\n"
      ],
      "metadata": {
        "colab": {
          "base_uri": "https://localhost:8080/"
        },
        "id": "IWGYoxXfgl-O",
        "outputId": "e9e30dc9-18a4-41b1-837a-3a2005b53b9c"
      },
      "execution_count": 3,
      "outputs": [
        {
          "output_type": "stream",
          "name": "stdout",
          "text": [
            "\"A man a plan a canal Panama\" is a palindrome.\n"
          ]
        }
      ]
    },
    {
      "cell_type": "code",
      "source": [],
      "metadata": {
        "id": "sBvmAB17gtnt"
      },
      "execution_count": null,
      "outputs": []
    },
    {
      "cell_type": "markdown",
      "source": [
        "4. Write a code to check if two given strings are anagrams of each other .\n",
        "\n",
        "Here's a Python code to check if two strings are anagrams of each other:\n",
        "\n",
        "```python\n",
        "def are_anagrams(str1, str2):\n",
        "    # Remove spaces and convert both strings to lowercase\n",
        "    str1 = str1.replace(\" \", \"\").lower()\n",
        "    str2 = str2.replace(\" \", \"\").lower()\n",
        "    \n",
        "    # Check if sorted characters of both strings are equal\n",
        "    return sorted(str1) == sorted(str2)\n",
        "\n",
        "# Example usage:\n",
        "string1 = \"Listen\"\n",
        "string2 = \"Silent\"\n",
        "\n",
        "if are_anagrams(string1, string2):\n",
        "    print(f'\"{string1}\" and \"{string2}\" are anagrams.')\n",
        "else:\n",
        "    print(f'\"{string1}\" and \"{string2}\" are not anagrams.')\n",
        "```\n",
        "\n",
        "### Output:\n",
        "```\n",
        "\"Listen\" and \"Silent\" are anagrams.\n",
        "```\n",
        "\n",
        "This code compares the sorted characters of both strings after removing spaces and converting them to lowercase. If the sorted versions are equal, the strings are anagrams."
      ],
      "metadata": {
        "id": "WhnydrcPgug3"
      }
    },
    {
      "cell_type": "code",
      "source": [
        "def are_anagrams(str1, str2):\n",
        "    # Remove spaces and convert both strings to lowercase\n",
        "    str1 = str1.replace(\" \", \"\").lower()\n",
        "    str2 = str2.replace(\" \", \"\").lower()\n",
        "\n",
        "    # Check if sorted characters of both strings are equal\n",
        "    return sorted(str1) == sorted(str2)\n",
        "\n",
        "# Example usage:\n",
        "string1 = \"Listen\"\n",
        "string2 = \"Silent\"\n",
        "\n",
        "if are_anagrams(string1, string2):\n",
        "    print(f'\"{string1}\" and \"{string2}\" are anagrams.')\n",
        "else:\n",
        "    print(f'\"{string1}\" and \"{string2}\" are not anagrams.')\n"
      ],
      "metadata": {
        "colab": {
          "base_uri": "https://localhost:8080/"
        },
        "id": "dPZ7U6VHhYzp",
        "outputId": "ad1e8026-2460-4a0a-8a73-612424dff9c7"
      },
      "execution_count": 4,
      "outputs": [
        {
          "output_type": "stream",
          "name": "stdout",
          "text": [
            "\"Listen\" and \"Silent\" are anagrams.\n"
          ]
        }
      ]
    },
    {
      "cell_type": "code",
      "source": [],
      "metadata": {
        "id": "Dw3KdjtchcCd"
      },
      "execution_count": null,
      "outputs": []
    },
    {
      "cell_type": "markdown",
      "source": [
        "5. Write a code to find all occurrences of a given substring within another string.\n",
        "\n",
        "\n"
      ],
      "metadata": {
        "id": "hp1F-m74hdgu"
      }
    },
    {
      "cell_type": "code",
      "source": [
        "def find_substring_occurrences(main_string, sub_string):\n",
        "    occurrences = []\n",
        "    start = 0\n",
        "    while True:\n",
        "        # Find the next occurrence of the substring\n",
        "        start = main_string.find(sub_string, start)\n",
        "\n",
        "        # If no more occurrences are found, break the loop\n",
        "        if start == -1:\n",
        "            break\n",
        "\n",
        "        # Append the index of the current occurrence to the list\n",
        "        occurrences.append(start)\n",
        "\n",
        "        # Move the start index ahead to avoid finding the same occurrence again\n",
        "        start += len(sub_string)\n",
        "\n",
        "    return occurrences\n",
        "\n",
        "# Example usage:\n",
        "main_string = \"abracadabra\"\n",
        "sub_string = \"abra\"\n",
        "\n",
        "occurrences = find_substring_occurrences(main_string, sub_string)\n",
        "print(f'Occurrences of \"{sub_string}\" found at indices: {occurrences}')\n"
      ],
      "metadata": {
        "colab": {
          "base_uri": "https://localhost:8080/"
        },
        "id": "MiyP1bb_h82D",
        "outputId": "def476a7-981c-4694-df9b-730e85afa7b6"
      },
      "execution_count": 5,
      "outputs": [
        {
          "output_type": "stream",
          "name": "stdout",
          "text": [
            "Occurrences of \"abra\" found at indices: [0, 7]\n"
          ]
        }
      ]
    },
    {
      "cell_type": "code",
      "source": [],
      "metadata": {
        "id": "5WyL2rFfh-el"
      },
      "execution_count": null,
      "outputs": []
    },
    {
      "cell_type": "markdown",
      "source": [
        "6. Write a code to perform basic string compression using the  counts of repeated characters .\n",
        "\n"
      ],
      "metadata": {
        "id": "mY1v3q_Gh_om"
      }
    },
    {
      "cell_type": "code",
      "source": [
        "def compress_string(s):\n",
        "    compressed = []\n",
        "    count = 1\n",
        "\n",
        "    # Iterate through the string\n",
        "    for i in range(1, len(s)):\n",
        "        if s[i] == s[i - 1]:\n",
        "            count += 1  # Increment the count if the current character matches the previous one\n",
        "        else:\n",
        "            # Append the character and its count to the compressed list\n",
        "            compressed.append(s[i - 1] + str(count))\n",
        "            count = 1  # Reset count for the next character\n",
        "\n",
        "    # Append the last character and its count\n",
        "    compressed.append(s[-1] + str(count))\n",
        "\n",
        "    # Convert the list to a string\n",
        "    compressed_string = ''.join(compressed)\n",
        "\n",
        "    # Return the compressed string only if it's shorter than the original, otherwise return the original string\n",
        "    return compressed_string if len(compressed_string) < len(s) else s\n",
        "\n",
        "# Example usage:\n",
        "string = \"aabcccccaaa\"\n",
        "compressed_string = compress_string(string)\n",
        "print(\"Compressed String:\", compressed_string)\n"
      ],
      "metadata": {
        "colab": {
          "base_uri": "https://localhost:8080/"
        },
        "id": "qRz5JtMnidg-",
        "outputId": "71f4c98b-4b62-424a-a6e9-d66294e56284"
      },
      "execution_count": 6,
      "outputs": [
        {
          "output_type": "stream",
          "name": "stdout",
          "text": [
            "Compressed String: a2b1c5a3\n"
          ]
        }
      ]
    },
    {
      "cell_type": "code",
      "source": [],
      "metadata": {
        "id": "4-j0DSjNierF"
      },
      "execution_count": null,
      "outputs": []
    },
    {
      "cell_type": "markdown",
      "source": [
        "7. Write a code to determine if a string has all unique characters.\n",
        "\n"
      ],
      "metadata": {
        "id": "0uNj1KbKifxH"
      }
    },
    {
      "cell_type": "code",
      "source": [
        "def has_unique_characters(s):\n",
        "    # Use a set to track characters we've seen\n",
        "    seen_chars = set()\n",
        "\n",
        "    for char in s:\n",
        "        if char in seen_chars:\n",
        "            return False  # If a character is repeated, return False\n",
        "        seen_chars.add(char)  # Add the character to the set\n",
        "\n",
        "    return True  # Return True if no character is repeated\n",
        "\n",
        "# Example usage:\n",
        "string = \"abcdefg\"\n",
        "if has_unique_characters(string):\n",
        "    print(f'\"{string}\" has all unique characters.')\n",
        "else:\n",
        "    print(f'\"{string}\" does not have all unique characters.')\n"
      ],
      "metadata": {
        "colab": {
          "base_uri": "https://localhost:8080/"
        },
        "id": "5mWG4nfui62N",
        "outputId": "912cd495-4947-41fb-b44b-92a7b9d48a74"
      },
      "execution_count": 7,
      "outputs": [
        {
          "output_type": "stream",
          "name": "stdout",
          "text": [
            "\"abcdefg\" has all unique characters.\n"
          ]
        }
      ]
    },
    {
      "cell_type": "code",
      "source": [],
      "metadata": {
        "id": "7VyOecp1i9uV"
      },
      "execution_count": null,
      "outputs": []
    },
    {
      "cell_type": "markdown",
      "source": [
        "8. Write a code to convert a given string to upper cases or lowecase."
      ],
      "metadata": {
        "id": "f4cV0fiei-vj"
      }
    },
    {
      "cell_type": "code",
      "source": [
        "def convert_case(s, to_upper=True):\n",
        "    if to_upper:\n",
        "        return s.upper()  # Convert to uppercase\n",
        "    else:\n",
        "        return s.lower()  # Convert to lowercase\n",
        "\n",
        "# Example usage:\n",
        "string = \"Hello, World!\"\n",
        "\n",
        "# Convert to uppercase\n",
        "upper_string = convert_case(string, to_upper=True)\n",
        "print(\"Uppercase:\", upper_string)\n",
        "\n",
        "# Convert to lowercase\n",
        "lower_string = convert_case(string, to_upper=False)\n",
        "print(\"Lowercase:\", lower_string)\n"
      ],
      "metadata": {
        "colab": {
          "base_uri": "https://localhost:8080/"
        },
        "id": "6qwwQQvrjaQe",
        "outputId": "428a938e-c326-45e9-cf0f-d9e54a3099a1"
      },
      "execution_count": 8,
      "outputs": [
        {
          "output_type": "stream",
          "name": "stdout",
          "text": [
            "Uppercase: HELLO, WORLD!\n",
            "Lowercase: hello, world!\n"
          ]
        }
      ]
    },
    {
      "cell_type": "code",
      "source": [],
      "metadata": {
        "id": "dQ3xJEJKjbib"
      },
      "execution_count": null,
      "outputs": []
    },
    {
      "cell_type": "markdown",
      "source": [
        "9. Write a code to count the number of words in a string.\n",
        "\n"
      ],
      "metadata": {
        "id": "w65wJ11OjcvO"
      }
    },
    {
      "cell_type": "code",
      "source": [
        "\n"
      ],
      "metadata": {
        "id": "gaGLnsidj2vE"
      },
      "execution_count": null,
      "outputs": []
    },
    {
      "cell_type": "code",
      "source": [
        "def count_words(s):\n",
        "    # Split the string by spaces (default) and return the length of the resulting list\n",
        "    words = s.split()\n",
        "    return len(words)\n",
        "\n",
        "# Example usage:\n",
        "string = \"Hello, how are you doing today?\"\n",
        "word_count = count_words(string)\n",
        "print(\"Number of words:\", word_count)\n"
      ],
      "metadata": {
        "colab": {
          "base_uri": "https://localhost:8080/"
        },
        "id": "7U9qUmi_j9Ql",
        "outputId": "ec7aac42-eadc-4153-8bc6-47d281b805eb"
      },
      "execution_count": 9,
      "outputs": [
        {
          "output_type": "stream",
          "name": "stdout",
          "text": [
            "Number of words: 6\n"
          ]
        }
      ]
    },
    {
      "cell_type": "code",
      "source": [],
      "metadata": {
        "id": "_xmr_Y3Uj-ij"
      },
      "execution_count": null,
      "outputs": []
    },
    {
      "cell_type": "markdown",
      "source": [
        "10.  Write a code to concatenate two  strings without using the + operator.\n",
        "\n"
      ],
      "metadata": {
        "id": "Srbi6iTGkikk"
      }
    },
    {
      "cell_type": "code",
      "source": [
        "def concatenate_strings(str1, str2):\n",
        "    return ''.join([str1, str2])\n",
        "\n",
        "# Example usage:\n",
        "string1 = \"Hello, \"\n",
        "string2 = \"World!\"\n",
        "concatenated_string = concatenate_strings(string1, string2)\n",
        "print(\"Concatenated String:\", concatenated_string)\n"
      ],
      "metadata": {
        "colab": {
          "base_uri": "https://localhost:8080/"
        },
        "id": "Lz8rkuOGktic",
        "outputId": "c0df99cc-92bb-459b-f73e-fdc720c290e4"
      },
      "execution_count": 10,
      "outputs": [
        {
          "output_type": "stream",
          "name": "stdout",
          "text": [
            "Concatenated String: Hello, World!\n"
          ]
        }
      ]
    },
    {
      "cell_type": "code",
      "source": [],
      "metadata": {
        "id": "c7y7tJKokuy8"
      },
      "execution_count": null,
      "outputs": []
    },
    {
      "cell_type": "markdown",
      "source": [
        "11. Write a code to remove all occurrences of a specific  . element from a list"
      ],
      "metadata": {
        "id": "rhEu7s0kkvsk"
      }
    },
    {
      "cell_type": "code",
      "source": [
        "def remove_element(lst, element):\n",
        "    return [item for item in lst if item != element]\n",
        "\n",
        "# Example usage:\n",
        "my_list = [1, 2, 3, 4, 2, 5, 2]\n",
        "element_to_remove = 2\n",
        "new_list = remove_element(my_list, element_to_remove)\n",
        "print(\"Updated List:\", new_list)\n"
      ],
      "metadata": {
        "colab": {
          "base_uri": "https://localhost:8080/"
        },
        "id": "I0a8fyl7lNAW",
        "outputId": "2d940a44-a698-4327-9603-faf9b9f3be8c"
      },
      "execution_count": 11,
      "outputs": [
        {
          "output_type": "stream",
          "name": "stdout",
          "text": [
            "Updated List: [1, 3, 4, 5]\n"
          ]
        }
      ]
    },
    {
      "cell_type": "code",
      "source": [],
      "metadata": {
        "id": "1iO2RLGLlOL7"
      },
      "execution_count": null,
      "outputs": []
    },
    {
      "cell_type": "markdown",
      "source": [
        "12. Implement a code to find the second laegest number in a given list of integers."
      ],
      "metadata": {
        "id": "IN7ac-GGlPrt"
      }
    },
    {
      "cell_type": "code",
      "source": [
        "def second_largest(numbers):\n",
        "    # Remove duplicates by converting to a set, then back to a list\n",
        "    unique_numbers = list(set(numbers))\n",
        "\n",
        "    # If the list has fewer than 2 unique numbers, return None\n",
        "    if len(unique_numbers) < 2:\n",
        "        return None\n",
        "\n",
        "    # Sort the list in descending order and return the second element\n",
        "    unique_numbers.sort(reverse=True)\n",
        "    return unique_numbers[1]\n",
        "\n",
        "# Example usage:\n",
        "my_list = [10, 5, 20, 20, 4, 10, 15]\n",
        "second_largest_num = second_largest(my_list)\n",
        "\n",
        "if second_largest_num is not None:\n",
        "    print(\"Second largest number:\", second_largest_num)\n",
        "else:\n",
        "    print(\"Not enough unique numbers to find the second largest.\")\n"
      ],
      "metadata": {
        "colab": {
          "base_uri": "https://localhost:8080/"
        },
        "id": "rtjADgaol3t9",
        "outputId": "106ae10d-d9e9-448d-bcc2-cfa4edfbdf9f"
      },
      "execution_count": 12,
      "outputs": [
        {
          "output_type": "stream",
          "name": "stdout",
          "text": [
            "Second largest number: 15\n"
          ]
        }
      ]
    },
    {
      "cell_type": "markdown",
      "source": [
        "13. Create a code to count the occurrences of each element in a list and return a dictionary with elements as keys and thir counts as values.\n",
        "\n"
      ],
      "metadata": {
        "id": "hIvV1uBll_FV"
      }
    },
    {
      "cell_type": "code",
      "source": [
        "def count_occurrences(lst):\n",
        "    occurrence_dict = {}\n",
        "\n",
        "    for item in lst:\n",
        "        if item in occurrence_dict:\n",
        "            occurrence_dict[item] += 1\n",
        "        else:\n",
        "            occurrence_dict[item] = 1\n",
        "\n",
        "    return occurrence_dict\n",
        "\n",
        "# Example usage:\n",
        "my_list = [1, 2, 2, 3, 4, 4, 4, 5, 2]\n",
        "occurrences = count_occurrences(my_list)\n",
        "print(\"Occurrences:\", occurrences)\n"
      ],
      "metadata": {
        "colab": {
          "base_uri": "https://localhost:8080/"
        },
        "id": "-8XUVrqVmvrd",
        "outputId": "4850de21-30ef-4077-fbd4-8776d581b1e3"
      },
      "execution_count": 13,
      "outputs": [
        {
          "output_type": "stream",
          "name": "stdout",
          "text": [
            "Occurrences: {1: 1, 2: 3, 3: 1, 4: 3, 5: 1}\n"
          ]
        }
      ]
    },
    {
      "cell_type": "markdown",
      "source": [
        "14. Write  a code to reverse  a list in-place without using  any built-in reverse  functions .\n",
        "\n"
      ],
      "metadata": {
        "id": "E6d8Pa58myM-"
      }
    },
    {
      "cell_type": "code",
      "source": [
        "def reverse_list_in_place(lst):\n",
        "    # Use two pointers, one starting from the beginning and the other from the end\n",
        "    left, right = 0, len(lst) - 1\n",
        "\n",
        "    while left < right:\n",
        "        # Swap the elements at the left and right pointers\n",
        "        lst[left], lst[right] = lst[right], lst[left]\n",
        "\n",
        "        # Move the pointers towards the center\n",
        "        left += 1\n",
        "        right -= 1\n",
        "\n",
        "# Example usage:\n",
        "my_list = [1, 2, 3, 4, 5]\n",
        "reverse_list_in_place(my_list)\n",
        "print(\"Reversed List:\", my_list)\n"
      ],
      "metadata": {
        "colab": {
          "base_uri": "https://localhost:8080/"
        },
        "id": "2NoLVQTan4qE",
        "outputId": "a74e2d57-4516-44d8-a49c-1c6847fc4562"
      },
      "execution_count": 14,
      "outputs": [
        {
          "output_type": "stream",
          "name": "stdout",
          "text": [
            "Reversed List: [5, 4, 3, 2, 1]\n"
          ]
        }
      ]
    },
    {
      "cell_type": "code",
      "source": [],
      "metadata": {
        "id": "ZQxPvTkxl5aa"
      },
      "execution_count": null,
      "outputs": []
    },
    {
      "cell_type": "markdown",
      "source": [
        "15. Implement a code to find and remove duplicates from a list while preserving the  original order of elements.\n",
        "\n"
      ],
      "metadata": {
        "id": "DGbSae3Tn6pD"
      }
    },
    {
      "cell_type": "code",
      "source": [
        "def remove_duplicates(lst):\n",
        "    seen = set()\n",
        "    result = []\n",
        "\n",
        "    for item in lst:\n",
        "        if item not in seen:\n",
        "            result.append(item)\n",
        "            seen.add(item)\n",
        "\n",
        "    return result\n",
        "\n",
        "# Example usage:\n",
        "my_list = [1, 2, 3, 2, 4, 5, 3, 6, 1]\n",
        "unique_list = remove_duplicates(my_list)\n",
        "print(\"List after removing duplicates:\", unique_list)\n"
      ],
      "metadata": {
        "colab": {
          "base_uri": "https://localhost:8080/"
        },
        "id": "0X14zjW8ol8q",
        "outputId": "1304fe94-1080-438d-e9d1-e4aeef906235"
      },
      "execution_count": 15,
      "outputs": [
        {
          "output_type": "stream",
          "name": "stdout",
          "text": [
            "List after removing duplicates: [1, 2, 3, 4, 5, 6]\n"
          ]
        }
      ]
    },
    {
      "cell_type": "code",
      "source": [],
      "metadata": {
        "id": "teaJsRQ-onLa"
      },
      "execution_count": null,
      "outputs": []
    },
    {
      "cell_type": "markdown",
      "source": [
        "16. Create a code to check if a given list is sorted (either in ascending or descending order )or not.\n",
        "\n"
      ],
      "metadata": {
        "id": "_pKfHs37ooHc"
      }
    },
    {
      "cell_type": "code",
      "source": [
        "def is_sorted(lst):\n",
        "    # Check if the list is sorted in ascending order\n",
        "    ascending = all(lst[i] <= lst[i+1] for i in range(len(lst) - 1))\n",
        "\n",
        "    # Check if the list is sorted in descending order\n",
        "    descending = all(lst[i] >= lst[i+1] for i in range(len(lst) - 1))\n",
        "\n",
        "    # Return True if either ascending or descending is True\n",
        "    return ascending or descending\n",
        "\n",
        "# Example usage:\n",
        "list1 = [1, 2, 3, 4, 5]\n",
        "list2 = [5, 4, 3, 2, 1]\n",
        "list3 = [3, 1, 4, 2]\n",
        "\n",
        "print(f\"Is list1 sorted? {is_sorted(list1)}\")  # True (ascending)\n",
        "print(f\"Is list2 sorted? {is_sorted(list2)}\")  # True (descending)\n",
        "print(f\"Is list3 sorted? {is_sorted(list3)}\")  # False\n"
      ],
      "metadata": {
        "colab": {
          "base_uri": "https://localhost:8080/"
        },
        "id": "arji9BVcpO7j",
        "outputId": "6c98d3ae-f22f-4285-d2da-46458a385468"
      },
      "execution_count": 16,
      "outputs": [
        {
          "output_type": "stream",
          "name": "stdout",
          "text": [
            "Is list1 sorted? True\n",
            "Is list2 sorted? True\n",
            "Is list3 sorted? False\n"
          ]
        }
      ]
    },
    {
      "cell_type": "code",
      "source": [],
      "metadata": {
        "id": "Ga32m_DApP3f"
      },
      "execution_count": null,
      "outputs": []
    },
    {
      "cell_type": "markdown",
      "source": [
        "17. Write a code to merge two sorted lists into a single sorted list.\n",
        "\n"
      ],
      "metadata": {
        "id": "Gt8SWBWkpQ7U"
      }
    },
    {
      "cell_type": "code",
      "source": [
        "def merge_sorted_lists(list1, list2):\n",
        "    merged_list = []\n",
        "    i, j = 0, 0\n",
        "\n",
        "    # Traverse both lists and merge them in sorted order\n",
        "    while i < len(list1) and j < len(list2):\n",
        "        if list1[i] <= list2[j]:\n",
        "            merged_list.append(list1[i])\n",
        "            i += 1\n",
        "        else:\n",
        "            merged_list.append(list2[j])\n",
        "            j += 1\n",
        "\n",
        "    # Append remaining elements from list1, if any\n",
        "    while i < len(list1):\n",
        "        merged_list.append(list1[i])\n",
        "        i += 1\n",
        "\n",
        "    # Append remaining elements from list2, if any\n",
        "    while j < len(list2):\n",
        "        merged_list.append(list2[j])\n",
        "        j += 1\n",
        "\n",
        "    return merged_list\n",
        "\n",
        "# Example usage:\n",
        "list1 = [1, 3, 5, 7]\n",
        "list2 = [2, 4, 6, 8]\n",
        "merged_list = merge_sorted_lists(list1, list2)\n",
        "print(\"Merged Sorted List:\", merged_list)\n"
      ],
      "metadata": {
        "colab": {
          "base_uri": "https://localhost:8080/"
        },
        "id": "STY5emPNpty6",
        "outputId": "ae6cdbc5-c051-428f-b20b-2252ca8b2aa0"
      },
      "execution_count": 17,
      "outputs": [
        {
          "output_type": "stream",
          "name": "stdout",
          "text": [
            "Merged Sorted List: [1, 2, 3, 4, 5, 6, 7, 8]\n"
          ]
        }
      ]
    },
    {
      "cell_type": "code",
      "source": [],
      "metadata": {
        "id": "Hyc7Z_dcpu9e"
      },
      "execution_count": null,
      "outputs": []
    },
    {
      "cell_type": "markdown",
      "source": [
        "18. Implement a code to find the intersection of two given lists.\n",
        "\n"
      ],
      "metadata": {
        "id": "xAr1tX24pvvA"
      }
    },
    {
      "cell_type": "code",
      "source": [
        "def find_intersection(list1, list2):\n",
        "    # Use a set for faster lookup and return only common elements\n",
        "    return list(set(list1) & set(list2))\n",
        "\n",
        "# Example usage:\n",
        "list1 = [1, 2, 3, 4, 5]\n",
        "list2 = [4, 5, 6, 7, 8]\n",
        "intersection = find_intersection(list1, list2)\n",
        "print(\"Intersection of the lists:\", intersection)\n"
      ],
      "metadata": {
        "colab": {
          "base_uri": "https://localhost:8080/"
        },
        "id": "g_FxEhQiqHxx",
        "outputId": "30aab68d-adca-4c4d-f4a0-7b7237a88737"
      },
      "execution_count": 18,
      "outputs": [
        {
          "output_type": "stream",
          "name": "stdout",
          "text": [
            "Intersection of the lists: [4, 5]\n"
          ]
        }
      ]
    },
    {
      "cell_type": "code",
      "source": [],
      "metadata": {
        "id": "a2Aa5EzcqI4u"
      },
      "execution_count": null,
      "outputs": []
    },
    {
      "cell_type": "markdown",
      "source": [
        "19. Create a code to find the union of two lists without duplicates.\n",
        "\n"
      ],
      "metadata": {
        "id": "IhM7xzp4qJ3a"
      }
    },
    {
      "cell_type": "code",
      "source": [
        "def find_union(list1, list2):\n",
        "    # Use a set to eliminate duplicates and combine both lists\n",
        "    return list(set(list1) | set(list2))\n",
        "\n",
        "# Example usage:\n",
        "list1 = [1, 2, 3, 4, 5]\n",
        "list2 = [4, 5, 6, 7, 8]\n",
        "union = find_union(list1, list2)\n",
        "print(\"Union of the lists:\", union)\n"
      ],
      "metadata": {
        "colab": {
          "base_uri": "https://localhost:8080/"
        },
        "id": "TxeGxnXDquBh",
        "outputId": "d5affdd0-4ee4-440f-a154-c3fed8dbc4a2"
      },
      "execution_count": 19,
      "outputs": [
        {
          "output_type": "stream",
          "name": "stdout",
          "text": [
            "Union of the lists: [1, 2, 3, 4, 5, 6, 7, 8]\n"
          ]
        }
      ]
    },
    {
      "cell_type": "code",
      "source": [],
      "metadata": {
        "id": "vPTFZlXCqvuf"
      },
      "execution_count": null,
      "outputs": []
    },
    {
      "cell_type": "markdown",
      "source": [
        "20. Write a code to shuffie a given list randomly without using any built - in shuffie function.\n",
        "\n"
      ],
      "metadata": {
        "id": "QTSB0xwoqxE1"
      }
    },
    {
      "cell_type": "code",
      "source": [
        "import random\n",
        "\n",
        "def custom_shuffle(lst):\n",
        "    # Get the length of the list\n",
        "    n = len(lst)\n",
        "\n",
        "    # Traverse the list and swap each element with a randomly chosen one\n",
        "    for i in range(n):\n",
        "        # Generate a random index to swap with\n",
        "        random_index = random.randint(0, n - 1)\n",
        "\n",
        "        # Swap the current element with the element at the random index\n",
        "        lst[i], lst[random_index] = lst[random_index], lst[i]\n",
        "\n",
        "# Example usage:\n",
        "my_list = [1, 2, 3, 4, 5]\n",
        "custom_shuffle(my_list)\n",
        "print(\"Shuffled List:\", my_list)\n"
      ],
      "metadata": {
        "colab": {
          "base_uri": "https://localhost:8080/"
        },
        "id": "EsWCXNL6rh55",
        "outputId": "f4bb8f17-6d00-4809-9d52-aef88c37ffa7"
      },
      "execution_count": 20,
      "outputs": [
        {
          "output_type": "stream",
          "name": "stdout",
          "text": [
            "Shuffled List: [1, 2, 5, 3, 4]\n"
          ]
        }
      ]
    },
    {
      "cell_type": "code",
      "source": [],
      "metadata": {
        "id": "SzumBgJvrjEf"
      },
      "execution_count": null,
      "outputs": []
    },
    {
      "cell_type": "markdown",
      "source": [
        "21. Write a code that takes two tuples as input and returns a new tuple containing elements that are common to both input tuples ."
      ],
      "metadata": {
        "id": "gFDwkJlFrj68"
      }
    },
    {
      "cell_type": "code",
      "source": [
        "def common_elements(tuple1, tuple2):\n",
        "    # Use set intersection to find common elements and convert it back to a tuple\n",
        "    return tuple(set(tuple1) & set(tuple2))\n",
        "\n",
        "# Example usage:\n",
        "tuple1 = (1, 2, 3, 4, 5)\n",
        "tuple2 = (4, 5, 6, 7, 8)\n",
        "common_tuple = common_elements(tuple1, tuple2)\n",
        "print(\"Common elements tuple:\", common_tuple)\n"
      ],
      "metadata": {
        "colab": {
          "base_uri": "https://localhost:8080/"
        },
        "id": "RHkZPVTVsPYz",
        "outputId": "72d9feb8-1f2d-42fc-a106-287c8b027258"
      },
      "execution_count": 21,
      "outputs": [
        {
          "output_type": "stream",
          "name": "stdout",
          "text": [
            "Common elements tuple: (4, 5)\n"
          ]
        }
      ]
    },
    {
      "cell_type": "code",
      "source": [],
      "metadata": {
        "id": "jHBZijlgsRp-"
      },
      "execution_count": null,
      "outputs": []
    },
    {
      "cell_type": "markdown",
      "source": [
        "22. Create a code that prompts the user to enter two sets of integers separated by commas. then, print the intersection of these two sets.\n",
        "\n"
      ],
      "metadata": {
        "id": "iMT3DdCMtFcj"
      }
    },
    {
      "cell_type": "code",
      "source": [
        "def get_set_input(prompt):\n",
        "    # Prompt user for input and convert it to a set of integers\n",
        "    user_input = input(prompt)\n",
        "    return set(int(num) for num in user_input.split(','))\n",
        "\n",
        "# Get two sets of integers from the user\n",
        "set1 = get_set_input(\"Enter the first set of integers (separated by commas): \")\n",
        "set2 = get_set_input(\"Enter the second set of integers (separated by commas): \")\n",
        "\n",
        "# Find the intersection of the two sets\n",
        "intersection = set1 & set2\n",
        "\n",
        "# Print the intersection\n",
        "print(\"Intersection of the two sets:\", intersection)\n"
      ],
      "metadata": {
        "id": "E6Cl2B0HtzgZ"
      },
      "execution_count": null,
      "outputs": []
    },
    {
      "cell_type": "code",
      "source": [],
      "metadata": {
        "id": "wCqGPEzit0kL"
      },
      "execution_count": null,
      "outputs": []
    },
    {
      "cell_type": "markdown",
      "source": [
        "23. 22. Write a code to concatenate two tuples. the function should take two tuples as input and return a new tuple containing elements from both input tuples."
      ],
      "metadata": {
        "id": "We3sdyw5t76_"
      }
    },
    {
      "cell_type": "code",
      "source": [
        "def concatenate_tuples(tuple1, tuple2):\n",
        "    # Return a new tuple containing elements from both input tuples\n",
        "    return tuple1 + tuple2\n",
        "\n",
        "# Example usage:\n",
        "tuple1 = (1, 2, 3)\n",
        "tuple2 = (4, 5, 6)\n",
        "result_tuple = concatenate_tuples(tuple1, tuple2)\n",
        "print(\"Concatenated Tuple:\", result_tuple)\n"
      ],
      "metadata": {
        "id": "iyju4EJ4u_IB"
      },
      "execution_count": null,
      "outputs": []
    },
    {
      "cell_type": "code",
      "source": [],
      "metadata": {
        "id": "dxYEZ0eQvA97"
      },
      "execution_count": null,
      "outputs": []
    },
    {
      "cell_type": "markdown",
      "source": [
        "24. Develop a code that  prompts the user to input two sets of strings. Then , print the elements that are present in the first set but not in the second set.\n",
        "\n"
      ],
      "metadata": {
        "id": "50izSxxuvFwe"
      }
    },
    {
      "cell_type": "code",
      "source": [
        "def get_set_input(prompt):\n",
        "    # Prompt user for input and convert it to a set of strings\n",
        "    user_input = input(prompt)\n",
        "    return set(user_input.split(','))\n",
        "\n",
        "# Get two sets of strings from the user\n",
        "set1 = get_set_input(\"Enter the first set of strings (separated by commas): \")\n",
        "set2 = get_set_input(\"Enter the second set of strings (separated by commas): \")\n",
        "\n",
        "# Find elements in set1 but not in set2\n",
        "difference = set1 - set2\n",
        "\n",
        "# Print the result\n",
        "print(\"Elements in the first set but not in the second set:\", difference)\n"
      ],
      "metadata": {
        "id": "HINvH-YCvvST"
      },
      "execution_count": null,
      "outputs": []
    },
    {
      "cell_type": "markdown",
      "source": [
        "25. Create a code that takes a tuple and two integers as input. the function should  return a new  tuple containing elements from the original tuples within the specified range of indices.\n"
      ],
      "metadata": {
        "id": "XX56rPICv2HY"
      }
    },
    {
      "cell_type": "code",
      "source": [
        "def slice_tuple(original_tuple, start_index, end_index):\n",
        "    # Return a new tuple containing elements within the specified range\n",
        "    return original_tuple[start_index:end_index]\n",
        "\n",
        "# Example usage:\n",
        "my_tuple = (10, 20, 30, 40, 50, 60, 70)\n",
        "start = 2\n",
        "end = 5\n",
        "result_tuple = slice_tuple(my_tuple, start, end)\n",
        "print(\"Sliced Tuple:\", result_tuple)\n"
      ],
      "metadata": {
        "id": "9I5N707Jwt_s"
      },
      "execution_count": null,
      "outputs": []
    },
    {
      "cell_type": "code",
      "source": [],
      "metadata": {
        "id": "4mjJmm4Fw-Dn"
      },
      "execution_count": null,
      "outputs": []
    },
    {
      "cell_type": "markdown",
      "source": [
        "26. Write a code that prompts the user to input two sets of characters. then, print the union of these two sets.\n",
        "\n"
      ],
      "metadata": {
        "id": "TvgA0blJw_Yc"
      }
    },
    {
      "cell_type": "code",
      "source": [
        "def get_set_input(prompt):\n",
        "    # Prompt user for input and convert it to a set of characters\n",
        "    user_input = input(prompt)\n",
        "    return set(user_input)\n",
        "\n",
        "# Get two sets of characters from the user\n",
        "set1 = get_set_input(\"Enter the first set of characters: \")\n",
        "set2 = get_set_input(\"Enter the second set of characters: \")\n",
        "\n",
        "# Find the union of the two sets\n",
        "union = set1 | set2\n",
        "\n",
        "# Print the result\n",
        "print(\"Union of the two sets:\", union)\n"
      ],
      "metadata": {
        "id": "n2tdia8Oxb43"
      },
      "execution_count": null,
      "outputs": []
    },
    {
      "cell_type": "code",
      "source": [],
      "metadata": {
        "id": "bX1MZJGDxdLU"
      },
      "execution_count": null,
      "outputs": []
    },
    {
      "cell_type": "markdown",
      "source": [
        "27. Develop a code that takes a tuple of intergers as input. the functions should   returns the maximum and minnimum values from the tuples using tuple unpacking .\n",
        "\n"
      ],
      "metadata": {
        "id": "1918UsosyIdk"
      }
    },
    {
      "cell_type": "code",
      "source": [
        "def min_max_tuple(input_tuple):\n",
        "    # Use built-in max() and min() to find maximum and minimum values\n",
        "    max_value = max(input_tuple)\n",
        "    min_value = min(input_tuple)\n",
        "\n",
        "    # Return the maximum and minimum values as a tuple\n",
        "    return max_value, min_value\n",
        "\n",
        "# Example usage:\n",
        "my_tuple = (10, 20, 5, 40, 15)\n",
        "max_value, min_value = min_max_tuple(my_tuple)\n",
        "print(\"Maximum Value:\", max_value)\n",
        "print(\"Minimum Value:\", min_value)\n"
      ],
      "metadata": {
        "id": "SmpL9ckwzD12"
      },
      "execution_count": null,
      "outputs": []
    },
    {
      "cell_type": "code",
      "source": [],
      "metadata": {
        "id": "8cByM6CNzFOa"
      },
      "execution_count": null,
      "outputs": []
    },
    {
      "cell_type": "markdown",
      "source": [
        "28. Create a code that define two sets of integers. Then, print the union , intersection, and  difference of these two sets.\n",
        "\n"
      ],
      "metadata": {
        "id": "r-3WdC5tzGi5"
      }
    },
    {
      "cell_type": "code",
      "source": [
        "# Define two sets of integers\n",
        "set1 = {1, 2, 3, 4, 5}\n",
        "set2 = {4, 5, 6, 7, 8}\n",
        "\n",
        "# Calculate the union, intersection, and difference\n",
        "union = set1 | set2\n",
        "intersection = set1 & set2\n",
        "difference = set1 - set2\n",
        "\n",
        "# Print the results\n",
        "print(\"Union of the two sets:\", union)\n",
        "print(\"Intersection of the two sets:\", intersection)\n",
        "print(\"Difference of the first set from the second set:\", difference)\n"
      ],
      "metadata": {
        "id": "kUVDB8G3zzgH"
      },
      "execution_count": null,
      "outputs": []
    },
    {
      "cell_type": "code",
      "source": [],
      "metadata": {
        "id": "rJ98tbxCzzyU"
      },
      "execution_count": null,
      "outputs": []
    },
    {
      "cell_type": "markdown",
      "source": [
        "29. Write a code that takes a tuple and an element as input . The function should return the count of occurrences of the given element in the tuple.\n",
        "\n"
      ],
      "metadata": {
        "id": "Sy4CzffOz2OB"
      }
    },
    {
      "cell_type": "code",
      "source": [
        "def count_occurrences(input_tuple, element):\n",
        "    # Use the count() method to count occurrences of the element\n",
        "    return input_tuple.count(element)\n",
        "\n",
        "# Example usage:\n",
        "my_tuple = (1, 2, 3, 1, 4, 1, 5)\n",
        "element_to_count = 1\n",
        "occurrences = count_occurrences(my_tuple, element_to_count)\n",
        "print(f\"The element {element_to_count} occurs {occurrences} times in the tuple.\")\n"
      ],
      "metadata": {
        "id": "SbEQxRgP0kOW"
      },
      "execution_count": null,
      "outputs": []
    },
    {
      "cell_type": "code",
      "source": [],
      "metadata": {
        "id": "XMDbAxOl0miq"
      },
      "execution_count": null,
      "outputs": []
    },
    {
      "cell_type": "markdown",
      "source": [
        "30. Develop a code that prompts the user to input two sets of strings . Then, print the symmetric difference of thses two sets.\n",
        "\n"
      ],
      "metadata": {
        "id": "pkgPrCAJ0nqm"
      }
    },
    {
      "cell_type": "code",
      "source": [
        "def get_set_input(prompt):\n",
        "    # Prompt user for input and convert it to a set of strings\n",
        "    user_input = input(prompt)\n",
        "    return set(user_input.split(','))\n",
        "\n",
        "# Get two sets of strings from the user\n",
        "set1 = get_set_input(\"Enter the first set of strings (separated by commas): \")\n",
        "set2 = get_set_input(\"Enter the second set of strings (separated by commas): \")\n",
        "\n",
        "# Calculate the symmetric difference of the two sets\n",
        "symmetric_difference = set1 ^ set2\n",
        "\n",
        "# Print the result\n",
        "print(\"Symmetric difference of the two sets:\", symmetric_difference)\n"
      ],
      "metadata": {
        "id": "JabwkL9N1LR9"
      },
      "execution_count": null,
      "outputs": []
    },
    {
      "cell_type": "code",
      "source": [],
      "metadata": {
        "id": "L7b6SxCd1NL8"
      },
      "execution_count": null,
      "outputs": []
    },
    {
      "cell_type": "markdown",
      "source": [
        "31. Write a code that takes a list of words as input and returns a dictionary where the keys are unique words and the values are the frequencies of those words in the input list.\n",
        "\n"
      ],
      "metadata": {
        "id": "L68dNKoD1PUw"
      }
    },
    {
      "cell_type": "code",
      "source": [
        "def word_frequencies(word_list):\n",
        "    frequency_dict = {}\n",
        "\n",
        "    for word in word_list:\n",
        "        if word in frequency_dict:\n",
        "            frequency_dict[word] += 1\n",
        "        else:\n",
        "            frequency_dict[word] = 1\n",
        "\n",
        "    return frequency_dict\n",
        "\n",
        "# Example usage:\n",
        "words = input(\"Enter a list of words separated by spaces: \").split()\n",
        "frequencies = word_frequencies(words)\n",
        "print(\"Word Frequencies:\", frequencies)\n"
      ],
      "metadata": {
        "id": "c5BtoN643Ane"
      },
      "execution_count": null,
      "outputs": []
    },
    {
      "cell_type": "code",
      "source": [
        "\n"
      ],
      "metadata": {
        "id": "qgSqg_cQ3DDM"
      },
      "execution_count": null,
      "outputs": []
    },
    {
      "cell_type": "markdown",
      "source": [
        "32. Write a code tjat takes two dictionaries as input and merges them into a single dictiomary . if there are common leys, the balues should be added together.\n",
        "\n"
      ],
      "metadata": {
        "id": "Gwt1PT_r3NU0"
      }
    },
    {
      "cell_type": "code",
      "source": [
        "def merge_dictionaries(dict1, dict2):\n",
        "    merged_dict = dict1.copy()  # Start with a copy of the first dictionary\n",
        "\n",
        "    for key, value in dict2.items():\n",
        "        if key in merged_dict:\n",
        "            merged_dict[key] += value  # Add the values if the key exists\n",
        "        else:\n",
        "            merged_dict[key] = value  # Otherwise, just set the value\n",
        "\n",
        "    return merged_dict\n",
        "\n",
        "# Example usage:\n",
        "dict1 = {'a': 1, 'b': 2, 'c': 3}\n",
        "dict2 = {'b': 3, 'c': 4, 'd': 5}\n",
        "merged = merge_dictionaries(dict1, dict2)\n",
        "print(\"Merged Dictionary:\", merged)\n"
      ],
      "metadata": {
        "id": "czWyURO33879"
      },
      "execution_count": null,
      "outputs": []
    },
    {
      "cell_type": "code",
      "source": [],
      "metadata": {
        "id": "_xOCrFqL3GJo"
      },
      "execution_count": null,
      "outputs": []
    },
    {
      "cell_type": "markdown",
      "source": [
        "33. Write a code to acces a value in a nested dictionary. The function should take the dictionary and a list of keys as input, the  corresponding values. if any of keys do not exits in the dictionary , the function should return None.\n",
        "\n"
      ],
      "metadata": {
        "id": "P3T7ld1l3--a"
      }
    },
    {
      "cell_type": "code",
      "source": [
        "def access_nested_value(nested_dict, keys):\n",
        "    current_value = nested_dict\n",
        "\n",
        "    for key in keys:\n",
        "        if key in current_value:\n",
        "            current_value = current_value[key]  # Move to the next level\n",
        "        else:\n",
        "            return None  # Key does not exist\n",
        "\n",
        "    return current_value\n",
        "\n",
        "# Example usage:\n",
        "nested_dict = {\n",
        "    'a': {\n",
        "        'b': {\n",
        "            'c': 10\n",
        "        },\n",
        "        'd': 20\n",
        "    },\n",
        "    'e': 30\n",
        "}\n",
        "\n",
        "keys = ['a', 'b', 'c']\n",
        "value = access_nested_value(nested_dict, keys)\n",
        "print(\"Accessed Value:\", value)  # Output: 10\n",
        "\n",
        "# Example with a non-existing key\n",
        "keys_invalid = ['a', 'x', 'c']\n",
        "value_invalid = access_nested_value(nested_dict, keys_invalid)\n",
        "print(\"Accessed Value with invalid keys:\", value_invalid)  # Output: None\n"
      ],
      "metadata": {
        "id": "rbcYfJWO5Osi"
      },
      "execution_count": null,
      "outputs": []
    },
    {
      "cell_type": "code",
      "source": [],
      "metadata": {
        "id": "8hpD-XSd5PqI"
      },
      "execution_count": null,
      "outputs": []
    },
    {
      "cell_type": "markdown",
      "source": [
        "34. Write a code takes a dictionary as input and retruns a sorted  version of it baaed on the values . you can choose whether to sort in ascending or descending order.\n",
        "\n"
      ],
      "metadata": {
        "id": "5ACgQk-_5QgM"
      }
    },
    {
      "cell_type": "code",
      "source": [
        "def sort_dict_by_value(input_dict, ascending=True):\n",
        "    # Sort the dictionary based on its values\n",
        "    sorted_dict = dict(sorted(input_dict.items(), key=lambda item: item[1], reverse=not ascending))\n",
        "    return sorted_dict\n",
        "\n",
        "# Example usage:\n",
        "my_dict = {'a': 3, 'b': 1, 'c': 2}\n",
        "sorted_ascending = sort_dict_by_value(my_dict, ascending=True)\n",
        "sorted_descending = sort_dict_by_value(my_dict, ascending=False)\n",
        "\n",
        "print(\"Sorted Dictionary (Ascending):\", sorted_ascending)\n",
        "print(\"Sorted Dictionary (Descending):\", sorted_descending)\n"
      ],
      "metadata": {
        "id": "FlHNnKzx52Ds"
      },
      "execution_count": null,
      "outputs": []
    },
    {
      "cell_type": "code",
      "source": [],
      "metadata": {
        "id": "6cR-rkXI53A1"
      },
      "execution_count": null,
      "outputs": []
    },
    {
      "cell_type": "markdown",
      "source": [
        "35. Write a code that inerts a dictionary , swapping keys and values . Ensure that the inverted dictionary corretly handles cases where multiple keys have the same values by storing the keys as lists im the inverted dictionary.\n",
        "\n"
      ],
      "metadata": {
        "id": "qESExSUc53_v"
      }
    },
    {
      "cell_type": "code",
      "source": [
        "def invert_dictionary(input_dict):\n",
        "    inverted_dict = {}\n",
        "\n",
        "    for key, value in input_dict.items():\n",
        "        # If the value is already a key in the inverted dictionary\n",
        "        if value in inverted_dict:\n",
        "            # Append the key to the existing list\n",
        "            inverted_dict[value].append(key)\n",
        "        else:\n",
        "            # Create a new entry with the key as a list\n",
        "            inverted_dict[value] = [key]\n",
        "\n",
        "    return inverted_dict\n",
        "\n",
        "# Example usage:\n",
        "original_dict = {'a': 1, 'b': 2, 'c': 1}\n",
        "inverted = invert_dictionary(original_dict)\n",
        "print(\"Inverted Dictionary:\", inverted)\n"
      ],
      "metadata": {
        "id": "qo9zmigC6rBh"
      },
      "execution_count": null,
      "outputs": []
    },
    {
      "cell_type": "code",
      "source": [],
      "metadata": {
        "id": "LICUXzdd6tNz"
      },
      "execution_count": null,
      "outputs": []
    }
  ]
}