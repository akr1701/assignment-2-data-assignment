{
  "nbformat": 4,
  "nbformat_minor": 0,
  "metadata": {
    "colab": {
      "provenance": [],
      "authorship_tag": "ABX9TyPsL8kFq/GquVjzQ0yyOBC2",
      "include_colab_link": true
    },
    "kernelspec": {
      "name": "python3",
      "display_name": "Python 3"
    },
    "language_info": {
      "name": "python"
    }
  },
  "cells": [
    {
      "cell_type": "markdown",
      "metadata": {
        "id": "view-in-github",
        "colab_type": "text"
      },
      "source": [
        "<a href=\"https://colab.research.google.com/github/akr1701/assignment-2-data-assignment/blob/main/Function_Assignment.ipynb\" target=\"_parent\"><img src=\"https://colab.research.google.com/assets/colab-badge.svg\" alt=\"Open In Colab\"/></a>"
      ]
    },
    {
      "cell_type": "code",
      "execution_count": null,
      "metadata": {
        "id": "tjG7ldyfu-4Q"
      },
      "outputs": [],
      "source": []
    },
    {
      "cell_type": "markdown",
      "source": [
        "1. whatis the different a function and a meethod in python ?\n",
        "\n",
        " In Python, **functions** and **methods** are both callable objects, but there are key differences between them:\n",
        "\n",
        "### 1. **Function**\n",
        "- A function is a block of code that performs a specific task.\n",
        "- Functions are defined using the `def` keyword and can be called independently.\n",
        "- Functions are not tied to any specific object or class.\n",
        "  \n",
        "### 2. **Method**\n",
        "- A method is a function that is associated with an object (instance) of a class.\n",
        "- Methods are defined within a class and typically operate on the data contained in the object (i.e., instance variables).\n",
        "- The first parameter of a method is usually `self`, which refers to the instance of the class.\n",
        "### Key Differences:\n",
        "| **Aspect**        | **Function**                                   | **Method**                                           |\n",
        "|-------------------|------------------------------------------------|------------------------------------------------------|\n",
        "| **Defined in**     | Independent, outside of a class               | Inside a class                                       |\n",
        "| **Called on**      | Can be called directly                        | Called on an instance of the class                   |\n",
        "| **Binding**        | Not associated with any object or class       | Associated with an instance (or class for class methods) |\n",
        "| **First Parameter**| No need for `self` parameter                  | First parameter is usually `self` (for instance methods) |\n",
        "\n"
      ],
      "metadata": {
        "id": "C0BzqSadvJI3"
      }
    },
    {
      "cell_type": "code",
      "source": [
        "def my_function():\n",
        "    print(\"This is a function\")\n",
        "\n",
        "my_function()  # Can be called directly\n"
      ],
      "metadata": {
        "colab": {
          "base_uri": "https://localhost:8080/"
        },
        "id": "H_WnKIiSww5b",
        "outputId": "cc6af585-fb1f-4a94-9fec-480cb02ade4d"
      },
      "execution_count": 1,
      "outputs": [
        {
          "output_type": "stream",
          "name": "stdout",
          "text": [
            "This is a function\n"
          ]
        }
      ]
    },
    {
      "cell_type": "code",
      "source": [],
      "metadata": {
        "id": "UNwS5jxcw2Y7"
      },
      "execution_count": null,
      "outputs": []
    },
    {
      "cell_type": "markdown",
      "source": [
        "2. Explain the concept of function arguments and parameters in python .\n",
        "\n",
        "In Python, **arguments** and **parameters** are terms often used interchangeably, but they refer to different concepts when it comes to functions.\n",
        "\n",
        "### 1. **Parameters**\n",
        "- **Parameters** are the variables that appear in a function's definition.\n",
        "- They act as placeholders for the values that the function will operate on.\n",
        "- Parameters are specified when you define a function, and they determine how many arguments the function can accept\n",
        "\n",
        "### 2. **Arguments**\n",
        "- **Arguments** are the actual values or data you pass into a function when calling it.\n",
        "- They replace the parameters in the function definition when the function is executed.\n",
        "\n",
        "In this case, `\"Alice\"` is the **argument** passed to the `greet` function, which corresponds to the `name` parameter.\n",
        "\n",
        "### Types of Function Arguments and Parameters in Python:\n",
        "\n",
        "Python supports several types of parameters and arguments. These are used to define how values can be passed into and handled by a function.\n",
        "\n",
        "1. **Positional Arguments**:\n",
        "   - The simplest type of argument where values are assigned to parameters based on their position.\n",
        "\n",
        "2. **Keyword Arguments**:\n",
        "   - Keyword arguments are passed by explicitly naming the parameter. This allows for clearer code and flexibility in argument ordering.\n",
        "\n",
        "3. **Default Parameters**:\n",
        "   - You can assign default values to parameters, so if an argument is not provided when calling the function, the default value is used.\n",
        "   \n",
        "4. **Variable-length Arguments**:\n",
        "   - These allow a function to accept any number of arguments.\n",
        "\n",
        "   - **`*args` (Non-keyword variable-length arguments)**: Used to pass a variable number of non-keyword arguments.\n",
        "     \n",
        "     \n"
      ],
      "metadata": {
        "id": "cbuKumgTw-E1"
      }
    },
    {
      "cell_type": "code",
      "source": [
        "def introduce(name, age):\n",
        "    print(f\"My name is {name} and I am {age} years old.\")\n",
        "\n",
        "introduce(age=25, name=\"John\")  # Keyword arguments\n"
      ],
      "metadata": {
        "colab": {
          "base_uri": "https://localhost:8080/"
        },
        "id": "zuGFDYt_zO3r",
        "outputId": "02e45037-ede8-4422-aabf-38abae208954"
      },
      "execution_count": 2,
      "outputs": [
        {
          "output_type": "stream",
          "name": "stdout",
          "text": [
            "My name is John and I am 25 years old.\n"
          ]
        }
      ]
    },
    {
      "cell_type": "code",
      "source": [],
      "metadata": {
        "id": "rjd_-8Y9zVUS"
      },
      "execution_count": null,
      "outputs": []
    },
    {
      "cell_type": "markdown",
      "source": [
        "3. what are the different ways to define and call a function in python ?\n",
        "\n",
        "In Python, functions can be defined and called in various ways, depending on the structure and the behavior required. Below are the most common methods to define and call functions:\n",
        "\n",
        "---\n",
        "\n",
        "### **1. Standard Function Definition and Call**\n",
        "\n",
        "This is the basic way to define and call a function using the `def` keyword.\n",
        "\n",
        "#### **Definition:**\n",
        "```python\n",
        "def greet(name):\n",
        "    print(f\"Hello, {name}!\")\n",
        "```\n",
        "\n",
        "#### **Call:**\n",
        "```python\n",
        "greet(\"Alice\")  # Output: Hello, Alice!\n",
        "```\n",
        "\n",
        "---\n",
        "\n",
        "### **2. Function with Default Arguments**\n",
        "\n",
        "You can define default values for parameters. If the caller does not provide arguments, the default values are used.\n",
        "\n",
        "#### **Definition:**\n",
        "```python\n",
        "def greet(name=\"Stranger\"):\n",
        "    print(f\"Hello, {name}!\")\n",
        "```\n",
        "\n",
        "#### **Call:**\n",
        "```python\n",
        "greet()           # Output: Hello, Stranger!\n",
        "greet(\"Alice\")    # Output: Hello, Alice!\n",
        "```\n",
        "\n",
        "---\n",
        "\n",
        "### **3. Function with Variable-Length Arguments**\n",
        "\n",
        "You can define functions that accept a variable number of arguments using `*args` (for positional arguments) or `**kwargs` (for keyword arguments).\n",
        "\n",
        "#### **With `*args` (Positional Arguments):**\n",
        "\n",
        "This allows the function to accept any number of positional arguments.\n",
        "\n",
        "#### **Definition:**\n",
        "```python\n",
        "def add(*numbers):\n",
        "    return sum(numbers)\n",
        "```\n",
        "\n",
        "#### **Call:**\n",
        "```python\n",
        "add(1, 2, 3)  # Output: 6\n",
        "add(4, 5)     # Output: 9\n",
        "```\n",
        "\n",
        "#### **With `**kwargs` (Keyword Arguments):**\n",
        "\n",
        "This allows the function to accept any number of keyword arguments.\n",
        "\n",
        "#### **Definition:**\n",
        "```python\n",
        "def print_info(**kwargs):\n",
        "    for key, value in kwargs.items():\n",
        "        print(f\"{key}: {value}\")\n",
        "```\n",
        "\n",
        "#### **Call:**\n",
        "```python\n",
        "print_info(name=\"Alice\", age=25)  \n",
        "# Output:\n",
        "# name: Alice\n",
        "# age: 25\n",
        "```\n",
        "\n",
        "---\n",
        "\n",
        "### **4. Lambda Functions (Anonymous Functions)**\n",
        "\n",
        "Lambda functions are small anonymous functions defined using the `lambda` keyword. They are typically used for short, single-use functions.\n",
        "\n",
        "#### **Definition:**\n",
        "```python\n",
        "add = lambda x, y: x + y\n",
        "```\n",
        "\n",
        "#### **Call:**\n",
        "```python\n",
        "add(3, 4)  # Output: 7\n",
        "```\n",
        "\n",
        "---\n",
        "\n",
        "### **5. Function as an Argument to Another Function**\n",
        "\n",
        "In Python, functions are first-class objects, meaning you can pass them as arguments to other functions.\n",
        "\n",
        "#### **Definition:**\n",
        "```python\n",
        "def greet():\n",
        "    return \"Hello!\"\n",
        "\n",
        "def call_function(func):\n",
        "    print(func())\n",
        "```\n",
        "\n",
        "#### **Call:**\n",
        "```python\n",
        "call_function(greet)  # Output: Hello!\n",
        "```\n",
        "\n",
        "---\n",
        "\n",
        "### **6. Nested Functions**\n",
        "\n",
        "You can define functions inside other functions, known as nested functions or inner functions.\n",
        "\n",
        "#### **Definition:**\n",
        "```python\n",
        "def outer_function():\n",
        "    def inner_function():\n",
        "        print(\"This is the inner function\")\n",
        "    inner_function()\n",
        "```\n",
        "\n",
        "#### **Call:**\n",
        "```python\n",
        "outer_function()  # Output: This is the inner function\n",
        "```\n",
        "\n",
        "---\n",
        "\n",
        "### **7. Function with Keyword-Only Arguments**\n",
        "\n",
        "You can enforce that certain arguments must be passed as keyword arguments by using a `*` symbol in the function signature.\n",
        "\n",
        "#### **Definition:**\n",
        "```python\n",
        "def greet(*, name):\n",
        "    print(f\"Hello, {name}!\")\n",
        "```\n",
        "\n",
        "#### **Call:**\n",
        "```python\n",
        "greet(name=\"Alice\")  # Output: Hello, Alice!\n",
        "# greet(\"Alice\")     # Error: TypeError: greet() takes 0 positional arguments but 1 was given\n",
        "```\n",
        "\n",
        "---\n",
        "\n",
        "### **8. Function Returning Another Function**\n",
        "\n",
        "Functions can return other functions, enabling the creation of function factories or decorators.\n",
        "\n",
        "#### **Definition:**\n",
        "```python\n",
        "def outer_function():\n",
        "    def inner_function():\n",
        "        return \"Inner function\"\n",
        "    return inner_function\n",
        "```\n",
        "\n",
        "#### **Call:**\n",
        "```python\n",
        "func = outer_function()\n",
        "print(func())  # Output: Inner function\n",
        "```\n",
        "\n",
        "---\n",
        "\n",
        "### **9. Recursive Functions**\n",
        "\n",
        "A function can call itself, which is known as recursion. This is useful for problems like factorial or Fibonacci calculations.\n",
        "\n",
        "#### **Definition:**\n",
        "```python\n",
        "def factorial(n):\n",
        "    if n == 1:\n",
        "        return 1\n",
        "    else:\n",
        "        return n * factorial(n-1)\n",
        "```\n",
        "\n",
        "#### **Call:**\n",
        "```python\n",
        "factorial(5)  # Output: 120\n",
        "```\n",
        "\n",
        "---\n",
        "\n",
        "### **10. Function with Type Annotations**\n",
        "\n",
        "Python supports type annotations for function parameters and return types. While these annotations are not enforced at runtime, they help make the code more readable and understandable.\n"
      ],
      "metadata": {
        "id": "SwnzS6uJzZDV"
      }
    },
    {
      "cell_type": "code",
      "source": [
        "def factorial(n):\n",
        "    if n == 1:\n",
        "        return 1\n",
        "    else:\n",
        "        return n * factorial(n-1)\n"
      ],
      "metadata": {
        "id": "Z7clf1nX1ksW"
      },
      "execution_count": 3,
      "outputs": []
    },
    {
      "cell_type": "code",
      "source": [
        "def add(x: int, y: int) -> int:\n",
        "    return x + y\n"
      ],
      "metadata": {
        "id": "IfQF64DG1qxo"
      },
      "execution_count": 4,
      "outputs": []
    },
    {
      "cell_type": "code",
      "source": [],
      "metadata": {
        "id": "ayipdF631zXU"
      },
      "execution_count": 4,
      "outputs": []
    },
    {
      "cell_type": "markdown",
      "source": [
        "4. What is the  purpose  ofthe 'return' statement in a python  function ?\n",
        "\n",
        "The `return` statement in a Python function serves the following key purposes:\n",
        "\n",
        "### 1. **Return a Value to the Caller**\n",
        "   - The primary purpose of the `return` statement is to send a value back to the function's caller. When a function is called, it can perform operations, and `return` is used to pass the result of those operations back to the point where the function was called\n",
        "   ```\n",
        "\n",
        "   In this example, the `return` statement sends the sum of `a` and `b` back to the calling code, which stores it in the variable `result`.\n",
        "\n",
        "### 2. **End the Function's Execution**\n",
        "   - The `return` statement immediately ends the execution of the function. Once a `return` statement is executed, the function stops running and returns control to the caller, even if there is more code after the `return` statement.\n",
        "\n",
        "### 3. **Return Multiple Values**\n",
        "   - Python allows functions to return multiple values by returning them as a tuple. The caller can then unpack these values.\n",
        "\n",
        "### 4. **Return Nothing (Implicit `None`)**\n",
        "   - If a function does not have an explicit `return` statement, or the `return` statement is used without a value, Python implicitly returns `None`.\n",
        "\n",
        "   If no value is provided in the `return` statement, Python implicitly returns `None`.\n",
        "print_info(name=\"Alice\", age=25)  \n",
        "# Output:\n",
        "# name: Alice\n",
        "# age: 25\n"
      ],
      "metadata": {
        "id": "RTKvcVHm18N2"
      }
    },
    {
      "cell_type": "code",
      "source": [
        "def greet():\n",
        "    return \"Hello!\"\n",
        "\n",
        "def call_function(func):\n",
        "    print(func())\n"
      ],
      "metadata": {
        "id": "AFPnX9Ds3yxr"
      },
      "execution_count": 5,
      "outputs": []
    },
    {
      "cell_type": "code",
      "source": [],
      "metadata": {
        "id": "8WgkHtip34B6"
      },
      "execution_count": null,
      "outputs": []
    },
    {
      "cell_type": "markdown",
      "source": [],
      "metadata": {
        "id": "LJyAuloL35t5"
      }
    },
    {
      "cell_type": "markdown",
      "source": [],
      "metadata": {
        "id": "6kRmeFt536hB"
      }
    },
    {
      "cell_type": "markdown",
      "source": [
        "5. What are literators in python and how do they differ from iterables ?\n",
        "\n",
        "### Iterators and Iterables in Python\n",
        "\n",
        "In Python, **iterators** and **iterables** are two related concepts, but they serve different purposes and have distinct behaviors.\n",
        "\n",
        "---\n",
        "\n",
        "### 1. **Iterable**\n",
        "An **iterable** is any Python object that can return an iterator. In simple terms, an iterable is an object that contains a collection of items and can be iterated (looped) over.\n",
        "\n",
        "- **Examples of iterables**: Lists, tuples, dictionaries, strings, sets, and other sequence types.\n",
        "- An iterable object implements the **`__iter__()`** method, which returns an **iterator** object.\n",
        "\n",
        "#### **Examples of Iterables:**\n",
        "```python\n",
        "my_list = [1, 2, 3]  # List is an iterable\n",
        "my_string = \"Hello\"  # String is an iterable\n",
        "```\n",
        "\n",
        "#### **How to Use an Iterable:**\n",
        "You can loop through an iterable using a `for` loop:\n",
        "```python\n",
        "for item in my_list:\n",
        "    print(item)\n",
        "# Output: 1, 2, 3\n",
        "```\n",
        "\n",
        "### 2. **Iterator**\n",
        "An **iterator** is an object that represents a stream of data. It is returned by calling the `__iter__()` method on an iterable object and has two key characteristics:\n",
        "- It implements the **`__iter__()`** method (to make it iterable itself).\n",
        "- It also implements the **`__next__()`** method, which returns the next item in the sequence or raises a **`StopIteration`** exception when there are no more items.\n",
        "\n",
        "Once an iterator is created, it **remembers its position** in the iterable and yields one item at a time when `__next__()` is called. Unlike iterables, iterators **exhaust** their elements once they've been iterated over.\n",
        "\n",
        "### **Key Differences Between Iterables and Iterators:**\n",
        "\n",
        "| **Feature**        | **Iterable**                                      | **Iterator**                                    |\n",
        "|--------------------|---------------------------------------------------|-------------------------------------------------|\n",
        "| **Definition**      | An object that can be looped over (produces an iterator) | An object that iterates over an iterable |\n",
        "| **Method**          | Must implement `__iter__()`                       | Must implement both `__iter__()` and `__next__()` |\n",
        "| **Memory Usage**    | Can represent the entire collection               | Yields one item at a time, often saving memory   |\n",
        "| **Exhaustibility**  | Can be looped over multiple times                 | Once exhausted, cannot be reused without resetting |\n",
        "| **Usage**           | Used with loops like `for`                        | Used to fetch values one by one (`next()`)       |\n",
        "\n",
        "### 3. **Creating Custom Iterators**\n",
        "You can create custom iterator objects by defining a class that implements the `__iter__()` and `__next__()` methods.\n",
        "\n"
      ],
      "metadata": {
        "id": "6qUOHoAQ3-Mv"
      }
    },
    {
      "cell_type": "code",
      "source": [
        "class Counter:\n",
        "    def __init__(self, low, high):\n",
        "        self.current = low\n",
        "        self.high = high\n",
        "\n",
        "    def __iter__(self):\n",
        "        return self\n",
        "\n",
        "    def __next__(self):\n",
        "        if self.current > self.high:\n",
        "            raise StopIteration\n",
        "        else:\n",
        "            self.current += 1\n",
        "            return self.current - 1\n",
        "\n",
        "counter = Counter(1, 3)\n",
        "for num in counter:\n",
        "    print(num)\n",
        "# Output: 1, 2, 3\n"
      ],
      "metadata": {
        "colab": {
          "base_uri": "https://localhost:8080/"
        },
        "id": "VCsZvyij5Y0c",
        "outputId": "9125c3bc-24f1-41a8-c7b2-a9acd6a191e6"
      },
      "execution_count": 6,
      "outputs": [
        {
          "output_type": "stream",
          "name": "stdout",
          "text": [
            "1\n",
            "2\n",
            "3\n"
          ]
        }
      ]
    },
    {
      "cell_type": "code",
      "source": [],
      "metadata": {
        "id": "nYufonlc5b4r"
      },
      "execution_count": null,
      "outputs": []
    },
    {
      "cell_type": "markdown",
      "source": [
        "6. Expain the concept  of generators in  python and how they are defined .\n",
        "\n",
        "In Python, **generations** usually refer to **garbage collection (GC) generations** in the context of memory management and the automatic cleanup of unused objects. Python uses a technique called **generational garbage collection** to manage memory efficiently.\n",
        "\n",
        "### Concept of Generations in Python Garbage Collection\n",
        "\n",
        "Python's memory management system employs **automatic garbage collection**, which involves tracking objects in memory and automatically deallocating objects that are no longer in use. The Python garbage collector is part of the **Python's memory management system**, implemented in the `gc` module.\n",
        "\n",
        "#### Key Concepts of Generational Garbage Collection:\n",
        "\n",
        "1. **Generations**:\n",
        "   - Python groups objects in memory into different **generations** based on their **age** (how long they have survived without being garbage collected).\n",
        "   - The garbage collector assumes that **younger objects** (recently created) are more likely to become unreachable (and thus eligible for collection) sooner than older objects.\n",
        "   - The longer an object survives without being collected, the more likely it will survive in the future. This is why Python uses generations to prioritize collecting younger objects more frequently.\n",
        "\n",
        "2. **Three Generations**:\n",
        "   - Python uses **three generations** (0, 1, and 2) to organize objects based on their lifespan:\n",
        "     - **Generation 0 (youngest)**: New objects are allocated in generation 0. This generation is collected most frequently because young objects are most likely to be short-lived.\n",
        "     - **Generation 1 (middle)**: Objects that survive a garbage collection in generation 0 are promoted to generation 1. Generation 1 is collected less frequently than generation 0.\n",
        "     - **Generation 2 (oldest)**: Objects that survive collection in generation 1 are promoted to generation 2. This generation is collected the least frequently, as objects in generation 2 are assumed to have longer lifespans.\n",
        "\n",
        "   **Summary**:\n",
        "   - Newly created objects start in **generation 0**.\n",
        "   - Surviving objects are promoted to **generation 1**.\n",
        "   - Objects that survive further are promoted to **generation 2**.\n",
        "   - Garbage collection runs more frequently on generation 0 and less frequently on generation 2.\n",
        "\n",
        "3. **Garbage Collection Process**:\n",
        "   - Python's garbage collector periodically collects objects in generation 0, generation 1, and generation 2.\n",
        "   - If a collection in a generation finds that the memory usage of that generation exceeds a threshold, the collector will run on the next higher generation as well.\n",
        "   - Objects in **generation 0** are collected most frequently since many objects are created and disposed of quickly.\n",
        "   - Objects in **generation 2** (the oldest generation) are considered \"long-lived\" and are only collected when necessary.\n",
        "\n",
        "### How Generations are Defined and Controlled in Python\n",
        "\n",
        "Python's **`gc` module** provides control over the garbage collector and allows users to interact with the garbage collection system. You can view and modify thresholds, trigger collections manually, and manage how often each generation is collected.\n",
        "\n",
        "#### 1. **Viewing and Setting Garbage Collection Thresholds**:\n",
        "\n",
        "The frequency of garbage collection depends on threshold values for each generation. You can retrieve and modify these thresholds using the `gc.get_threshold()` and `gc.set_threshold()` functions.\n",
        "\n",
        "#### 2. **Manual Garbage Collection**:\n",
        "You can manually trigger garbage collection on a specific generation (or all generations) using `gc.collect()`.\n",
        "\n",
        "\n",
        "#### 3. **Disabling and Enabling the Garbage Collector**:\n",
        "If you want to disable automatic garbage collection, you can use `gc.disable()`. You can re-enable it with `gc.enable()`.\n",
        "\n",
        "### Why Use Generations?\n",
        "\n",
        "- **Efficiency**: Since younger objects are more likely to be short-lived, focusing on younger generations (0 and 1) helps collect garbage more frequently without scanning all objects in memory.\n",
        "- **Performance**: By collecting objects that are more likely to be garbage (those in generation 0), Python reduces the performance overhead of garbage collection for older objects that are more likely to be needed.\n",
        "\n"
      ],
      "metadata": {
        "id": "GTgIw8D05dR4"
      }
    },
    {
      "cell_type": "code",
      "source": [
        "\n",
        "import gc\n",
        "print(gc.get_threshold())  # Output: (700, 10, 10)\n"
      ],
      "metadata": {
        "colab": {
          "base_uri": "https://localhost:8080/"
        },
        "id": "CJSoYHQ37Ibj",
        "outputId": "22a3628a-c611-44b2-f14e-8f75b87701ed"
      },
      "execution_count": 8,
      "outputs": [
        {
          "output_type": "stream",
          "name": "stdout",
          "text": [
            "(700, 10, 10)\n"
          ]
        }
      ]
    },
    {
      "cell_type": "code",
      "source": [],
      "metadata": {
        "id": "v3xmSw257N41"
      },
      "execution_count": null,
      "outputs": []
    },
    {
      "cell_type": "markdown",
      "source": [
        "7. What are the advantages of using  generation over regular function?\n",
        "\n",
        "Generators in Python offer several advantages over regular functions, particularly in terms of memory efficiency and handling large data streams. Here's a breakdown of the key advantages:\n",
        "\n",
        "### 1. **Memory Efficiency**\n",
        "   - **Generators** are **memory-efficient** because they do not store the entire sequence in memory at once. Instead, they **generate values on the fly** (one at a time) using the `yield` keyword. This is especially useful when working with large datasets or infinite sequences.\n",
        "   - **Regular functions**, on the other hand, return the entire result at once, which can lead to high memory usage if the result is large.\n",
        "\n",
        "   - If `n` is a large number, the **regular function** will create a large list in memory, consuming more resources. The **generator function**, however, yields values one by one, making it much more memory-efficient.\n",
        "\n",
        "### 2. **Lazy Evaluation (On-Demand Computation)**\n",
        "   - Generators use **lazy evaluation**, meaning they produce items **only when requested**. This allows for computations to be deferred until needed, reducing initial computation time and memory usage.\n",
        "   - Regular functions compute and return all values at once, which can be inefficient if not all values are needed.\n",
        "\n",
        "   - Here, the generator produces values **one at a time** and only when requested. This \"on-demand\" approach minimizes memory use and processing time.\n",
        "\n",
        "### 3. **Improved Performance with Large Datasets**\n",
        "   - Because generators only produce one item at a time, they are more **efficient** for **iterating over large datasets or streams**. Regular functions that return large data structures (like lists) might slow down your program due to the time and memory required to generate and store the entire dataset upfront.\n",
        "\n",
        "   - With a large file, the **regular function** would load all the lines into memory, potentially causing memory overflow. The **generator version** reads one line at a time, which is more efficient.\n",
        "\n",
        "### 4. **Infinite Sequences**\n",
        "   - Generators can be used to produce **infinite sequences** without exhausting memory, since they only generate items when needed.\n",
        "   - Regular functions cannot handle infinite sequences because they attempt to generate all the values at once, which would result in memory errors.\n",
        "   \n",
        "\n",
        "   - A regular function would not be able to handle this infinite loop without running out of memory or crashing the program.\n",
        "\n",
        "### 5. **Pipelining Operations**\n",
        "   - Generators allow for **pipelining** of operations. You can chain multiple generators together, processing data step by step, which leads to more modular and efficient code.\n",
        "   - Regular functions typically compute all data in one step, which can be less efficient and harder to maintain in complex data processing pipelines.\n",
        "\n",
        "\n",
        "   - In this example, one generator feeds values to the next, processing data in a pipeline without ever storing all results in memory at once.\n",
        "\n",
        "### 6. **State Preservation**\n",
        "   - Generators automatically **preserve state** between calls, allowing them to \"pause\" execution and resume from where they left off.\n",
        "   - Regular functions do not have this capability, as they start fresh on each call.\n",
        "\n",
        "   - Here, the generator **remembers** where it left off, resuming at the next `yield` statement, whereas a regular function would restart from the beginning each time it's called.\n",
        "\n",
        "### 7. **Simpler Code for Certain Iteration Patterns**\n",
        "   - Generators allow you to **write less code** for complex iteration patterns like producing an infinite sequence or filtering items on the fly, compared to using lists or regular functions.\n",
        "   - Regular functions can require more boilerplate code, such as managing state or handling large data manually.\n",
        "\n",
        "   - This generator succinctly yields Fibonacci numbers indefinitely, while a regular function would require more code and may struggle with large numbers.\n",
        "\n"
      ],
      "metadata": {
        "id": "X1bPCUFW7ats"
      }
    },
    {
      "cell_type": "code",
      "source": [
        "def fibonacci():\n",
        "    a, b = 0, 1\n",
        "    while True:\n",
        "        yield a\n",
        "        a, b = b, a + b\n"
      ],
      "metadata": {
        "id": "qkUksiLr99TO"
      },
      "execution_count": 9,
      "outputs": []
    },
    {
      "cell_type": "code",
      "source": [],
      "metadata": {
        "id": "ByzSOvwP-AiX"
      },
      "execution_count": null,
      "outputs": []
    },
    {
      "cell_type": "markdown",
      "source": [
        "8. What is a lambda function in python and when is it typically used ?\n",
        "\n",
        "A **lambda function** in Python is a small, anonymous function defined with the `lambda` keyword. Unlike regular functions, which are defined using the `def` keyword, a lambda function can have any number of arguments but can only contain a single expression. Lambda functions are often used for short, simple operations that don't require a full function definition.\n",
        "\n",
        "### Syntax of a Lambda Function:\n",
        "```python\n",
        "lambda arguments: expression\n",
        "```\n",
        "\n",
        "- **arguments**: The input values for the lambda function.\n",
        "- **expression**: A single expression that is evaluated and returned.\n",
        "\n",
        "### Example:\n",
        "```python\n",
        "# Regular function\n",
        "def add(a, b):\n",
        "    return a + b\n",
        "\n",
        "# Equivalent lambda function\n",
        "add_lambda = lambda a, b: a + b\n",
        "\n",
        "# Using the lambda function\n",
        "print(add_lambda(5, 3))  # Output: 8\n",
        "```\n",
        "\n",
        "Here, `lambda a, b: a + b` creates a function that takes two arguments (`a` and `b`) and returns their sum. It is essentially a shorter, inline version of the regular `add()` function.\n",
        "\n",
        "### Characteristics of Lambda Functions:\n",
        "1. **Anonymous**: Lambda functions do not have a name (though you can assign them to a variable).\n",
        "2. **Single Expression**: Lambda functions can only contain one expression, which is evaluated and returned automatically.\n",
        "3. **No Statements**: You cannot include statements like `if`, `for`, `while`, or `print` inside a lambda function. Only expressions are allowed.\n",
        "\n",
        "---\n",
        "\n",
        "### When Are Lambda Functions Typically Used?\n",
        "\n",
        "Lambda functions are commonly used in scenarios where a simple function is needed for a short period, typically as an argument to higher-order functions. Here are some common use cases:\n",
        "\n",
        "### 1. **Used with `map()`, `filter()`, and `reduce()`**\n",
        "\n",
        "These functions often require a small function to be passed as an argument, and a lambda function provides a concise way to define it.\n",
        "\n",
        "- **`map()`**: Applies a function to all items in an iterable.\n",
        "\n",
        "- **`filter()`**: Filters items based on a condition.\n",
        "\n",
        "- **`reduce()`**: Applies a function cumulatively to items in an iterable (requires `functools`).\n",
        "\n",
        "### 2. **Short, One-Time Use Functions**\n",
        "\n",
        "Lambda functions are useful when you need a small, one-time-use function without the overhead of defining a regular function.\n",
        "\n",
        "- **Sorting by custom key\n",
        "\n",
        "  In this case, `lambda x: x[1]` extracts the second element of each tuple for sorting.\n",
        "\n",
        "### 3. **Inline Function Definitions**\n",
        "\n",
        "When passing functions as arguments, lambda functions allow you to define them inline, without cluttering your code with extra function definitions.\n",
        "\n",
        "- **Event handling in GUI programming**:\n",
        "  \n",
        "  In graphical user interfaces, lambda functions are often used to define small callback functions.\n",
        "\n",
        "### 4. **Using with `sorted()` and `min()`/`max()`**\n",
        "\n",
        "Lambda functions are often used with `sorted()`, `min()`, and `max()` to specify a custom sorting or comparison key.\n",
        "\n",
        "### 5. **Simple Mathematical Functions**\n",
        "\n",
        "For simple mathematical operations, lambda functions can provide a quick way to define small calculations.\n",
        "\n",
        "### 6. **Functions that Return Functions (Higher-Order Functions)**\n",
        "\n",
        "Lambda functions can be used in higher-order functions (functions that return other functions) to define dynamic, small behaviors.\n",
        "\n",
        "### When Not to Use Lambda Functions:\n",
        "\n",
        "- **Complex Logic**: If your function has multiple lines or involves complex logic, a regular function is preferable for readability.\n",
        "- **Code Reusability**: If the function will be used multiple times, a named function (defined with `def`) is better than an anonymous lambda function.\n",
        "- **Debugging**: Lambda functions are harder to debug since they are anonymous and lack a name or proper traceback.\n",
        "\n"
      ],
      "metadata": {
        "id": "rwrHW_LW-Bt0"
      }
    },
    {
      "cell_type": "code",
      "source": [
        "def power(n):\n",
        "    return lambda x: x ** n\n",
        "\n",
        "square = power(2)\n",
        "cube = power(3)\n",
        "print(square(4))  # Output: 16\n",
        "print(cube(2))    # Output: 8\n"
      ],
      "metadata": {
        "colab": {
          "base_uri": "https://localhost:8080/"
        },
        "id": "1KNhSNm9_zmP",
        "outputId": "03f54f8f-304b-4f7b-8383-e83b466f11e8"
      },
      "execution_count": 10,
      "outputs": [
        {
          "output_type": "stream",
          "name": "stdout",
          "text": [
            "16\n",
            "8\n"
          ]
        }
      ]
    },
    {
      "cell_type": "code",
      "source": [],
      "metadata": {
        "id": "6hOta6sz_472"
      },
      "execution_count": null,
      "outputs": []
    },
    {
      "cell_type": "markdown",
      "source": [
        "9. Explain the purpose and usages of the 'map ();function in python .\n",
        "\n",
        "The `map()` function in Python is a built-in higher-order function used to apply a given function to all the items in an iterable (such as a list, tuple, or string) and return a new iterable (typically a map object). The primary purpose of `map()` is to **transform** each element in an iterable according to a function without writing an explicit loop.\n",
        "\n",
        "### Syntax:\n",
        "```python\n",
        "map(function, iterable, ...)\n",
        "```\n",
        "\n",
        "- **function**: A function that defines how to transform each item. It can be a built-in function, user-defined function, or a lambda function.\n",
        "- **iterable**: One or more iterables (like lists, tuples, etc.) whose elements will be passed to the function.\n",
        "\n",
        "The result of `map()` is an iterator (a **map object**) that yields transformed values when iterated over.\n",
        "\n",
        "### Example Usage:\n",
        "\n",
        "#### 1. **Simple Transformation with a Single Iterable**:\n",
        "The most common usage of `map()` is applying a function to each element of a single iterable.\n",
        "\n",
        "In this example, the lambda function `lambda x: x ** 2` is applied to each element in the `numbers` list, and `map()` returns a map object that is converted into a list to see the result.\n",
        "\n",
        "#### 2. **Using `map()` with Multiple Iterables**:\n",
        "If you pass multiple iterables to `map()`, the function should accept that many arguments. The function is applied to the corresponding elements from each iterable\n",
        "\n",
        "Here, the lambda function takes two arguments (`x` from `list1` and `y` from `list2`) and returns their sum. The result is a new iterable with the sums of corresponding elements.\n",
        "\n",
        "#### 3. **Using Built-in Functions with `map()`**:\n",
        "You can use built-in functions instead of defining your own.\n",
        "\n",
        "In this case, the `str.upper` method is applied to each element of the `strings` list, transforming them to uppercase.\n",
        "\n",
        "#### 4. **Working with Functions**:\n",
        "`map()` can also work with user-defined or pre-defined functions.\n",
        "\n",
        "In this example, `map()` applies the `double()` function to each element in the `numbers` list, returning a new iterable with the doubled values.\n",
        "\n",
        "### Benefits of `map()`:\n",
        "\n",
        "1. **Cleaner Code**: Using `map()` often leads to more concise and readable code by eliminating the need for explicit loops.\n",
        "\n",
        "2. **Lazy Evaluation**: `map()` returns an iterator (a map object), meaning values are produced lazily, i.e., only when needed. This is more memory-efficient when working with large datasets.\n",
        "\n",
        "3. **Functional Programming Style**: `map()` encourages a functional programming approach by applying a function directly to iterable data, which can lead to clearer and more declarative code.\n",
        "\n",
        "### Common Use Cases for `map()`:\n",
        "\n",
        "#### 1. **Transforming Data**:\n",
        "A common use case is transforming or converting data, like converting strings to numbers, or applying mathematical operations.\n",
        "\n",
        "#### 2. **Applying Functions to Data Structures**:\n",
        "You can use `map()` to apply a function to more complex data structures, such as lists of dictionaries.\n",
        "\n",
        "#### 3. **Processing Multiple Sequences Together**:\n",
        "When you have multiple iterables, you can use `map()` to process them simultaneously, like performing element-wise operations on two lists.\n",
        "\n",
        "### Differences Between `map()` and `for` Loops:\n",
        "While both `map()` and `for` loops can be used to iterate over data and apply transformations, `map()` has advantages in certain situations:\n",
        "\n",
        "- **Code Readability**: `map()` is often more concise, especially for simple transformations.\n",
        "- **Functional Style**: `map()` aligns with a functional programming paradigm, where operations are applied directly to data.\n",
        "- **Memory Efficiency**: `map()` produces values lazily (on-demand), which is beneficial for working with large datasets, unlike `for` loops which process all elements immediately."
      ],
      "metadata": {
        "id": "rOq0YnWI_6L1"
      }
    },
    {
      "cell_type": "code",
      "source": [
        "# Lists of numbers\n",
        "a = [1, 2, 3]\n",
        "b = [4, 5, 6]\n",
        "\n",
        "# Add corresponding elements\n",
        "result = map(lambda x, y: x + y, a, b)\n",
        "print(list(result))  # Output: [5, 7, 9]\n"
      ],
      "metadata": {
        "colab": {
          "base_uri": "https://localhost:8080/"
        },
        "id": "OyituOhpCXwA",
        "outputId": "b17c2958-7a64-44f2-b65e-b59f811ee8aa"
      },
      "execution_count": 11,
      "outputs": [
        {
          "output_type": "stream",
          "name": "stdout",
          "text": [
            "[5, 7, 9]\n"
          ]
        }
      ]
    },
    {
      "cell_type": "code",
      "source": [],
      "metadata": {
        "id": "YsGyxKTiCbAU"
      },
      "execution_count": null,
      "outputs": []
    },
    {
      "cell_type": "markdown",
      "source": [
        "1O.  What is the difference between 'map ()';reduce ()',and 'filter ()' functions  in python ?\n",
        "\n",
        "In Python, the functions `map()`, `reduce()`, and `filter()` are all higher-order functions that allow you to apply operations to iterables like lists or tuples. They are part of Python's functional programming capabilities. Each of these functions serves a different purpose and has a unique behavior:\n",
        "\n",
        "### 1. **`map()` Function**\n",
        "\n",
        "- **Purpose**: The `map()` function is used to apply a given function to **each element** in an iterable and return an iterator (map object) of the results.\n",
        "- **How it Works**: It applies the function to every item in the iterable(s) you pass to it, transforming the elements.\n",
        "  \n",
        "- **function**: A function that is applied to each element in the iterable.\n",
        "- **iterable(s)**: One or more iterables (e.g., list, tuple) whose elements are passed to the function\n",
        "\n",
        "# Apply a function to square each number\n",
        "squared = map(lambda x: x ** 2, numbers)\n",
        "print(list(squared))  # Output: [1, 4, 9, 16]\n",
        "```\n",
        "\n",
        "- **Result**: `map()` returns a new iterable where each element is the result of applying the function to the corresponding element in the original iterable.\n",
        "- **Multiple Iterables**: `map()` can take multiple iterables as arguments, and it applies the function pairwise (or n-wise).\n",
        "\n",
        "\n",
        "### 2. **`filter()` Function**\n",
        "\n",
        "- **Purpose**: The `filter()` function is used to filter elements of an iterable based on a **condition**. It returns only those elements for which the provided function returns `True`.\n",
        "- **How it Works**: It passes each element of the iterable to a function, and only elements that satisfy the condition (i.e., the function returns `True`) are included in the result.\n",
        "- **function**: A function that returns `True` or `False`.\n",
        "- **iterable**: The iterable (e.g., list, tuple) to be filtered\n",
        "\n",
        "- **Result**: `filter()` returns a new iterable with only those elements that meet the condition specified by the function.\n",
        "- **Use Case**: Use `filter()` when you need to extract a subset of data from an iterable based on certain criteria.\n",
        "\n",
        "---\n",
        "\n",
        "### 3. **`reduce()` Function** (from `functools`)\n",
        "\n",
        "- **Purpose**: The `reduce()` function is used to **reduce** a sequence of elements to a single value by applying a function cumulatively to the items.\n",
        "- **How it Works**: It repeatedly applies the given function to the first two elements, then to the result and the next element, and so on, until a single result is obtained.\n",
        "- **Important**: `reduce()` is not built into Python's core functions. You need to import it from the `functools` module.\n",
        "\n",
        "#### Syntax:\n",
        "```python\n",
        "from functools import reduce\n",
        "reduce(function, iterable)\n",
        "```\n",
        "- **function**: A function that takes two arguments and returns a single value.\n",
        "- **iterable**: The iterable to be reduced\n",
        "\n",
        "- **Result**: `reduce()` applies the function cumulatively to the items in the iterable, reducing the iterable to a single value.\n",
        "- **Use Case**: Use `reduce()` when you need to combine the elements of an iterable into a single cumulative result, like finding the sum or product of all elements.\n",
        "\n",
        "---\n",
        "\n",
        "### Key Differences Between `map()`, `filter()`, and `reduce()`:\n",
        "\n",
        "| **Aspect**               | **`map()`**                                           | **`filter()`**                                       | **`reduce()`**                                       |\n",
        "|--------------------------|-------------------------------------------------------|------------------------------------------------------|------------------------------------------------------|\n",
        "| **Purpose**               | Transforms each element by applying a function        | Filters elements based on a condition                | Combines all elements into a single value             |\n",
        "| **Function Behavior**     | Applies the function to every element                 | Applies the function to test each element            | Applies the function cumulatively to reduce the list  |\n",
        "| **Number of Iterables**   | Can accept multiple iterables                         | Accepts only one iterable                            | Accepts only one iterable                            |\n",
        "| **Return Type**           | Returns an iterator of transformed elements           | Returns an iterator of filtered elements             | Returns a single cumulative value                    |\n",
        "| **Use Case**              | When you need to transform data                       | When you need to filter data based on a condition    | When you need to aggregate or combine data           |\n",
        "| **Example**               | `map(lambda x: x * 2, [1, 2, 3])` → `[2, 4, 6]`      | `filter(lambda x\n"
      ],
      "metadata": {
        "id": "IG3uF8Z_CcKd"
      }
    },
    {
      "cell_type": "code",
      "source": [
        "# Lists of numbers\n",
        "a = [1, 2, 3]\n",
        "b = [4, 5, 6]\n",
        "\n",
        "# Add corresponding elements\n",
        "result = map(lambda x, y: x + y, a, b)\n",
        "print(list(result))  # Output: [5, 7, 9]\n"
      ],
      "metadata": {
        "colab": {
          "base_uri": "https://localhost:8080/"
        },
        "id": "Df6p7nkxE7J6",
        "outputId": "3476cfca-e87e-4856-ba3d-2ec8b4a21c04"
      },
      "execution_count": 12,
      "outputs": [
        {
          "output_type": "stream",
          "name": "stdout",
          "text": [
            "[5, 7, 9]\n"
          ]
        }
      ]
    },
    {
      "cell_type": "code",
      "source": [],
      "metadata": {
        "id": "Pc-479YPE9qA"
      },
      "execution_count": null,
      "outputs": []
    },
    {
      "cell_type": "markdown",
      "source": [],
      "metadata": {
        "id": "CwucyklwFbXq"
      }
    },
    {
      "cell_type": "markdown",
      "source": [],
      "metadata": {
        "id": "ZLJQ2DaqOkV5"
      }
    },
    {
      "cell_type": "markdown",
      "source": [
        "11.  Using pen $ paper write the internal mechanism for sum operation usingh reduce function on this given list :[47,11, 42,13];\n",
        "![paper pen 1.jpg](data:image/jpeg;base64,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)"
      ],
      "metadata": {
        "id": "XEnkIoaxOkor"
      }
    },
    {
      "cell_type": "markdown",
      "source": [],
      "metadata": {
        "id": "HrsSO6cEO4US"
      }
    },
    {
      "cell_type": "markdown",
      "source": [],
      "metadata": {
        "id": "3EbK_DKgPCMO"
      }
    },
    {
      "cell_type": "markdown",
      "source": [
        "PRACTICAL  QOUESTION\n",
        "\n",
        "1. Write a python function that takes a list of numbers as input and returns and the sumof all even numbers in the lists.\n",
        "\n"
      ],
      "metadata": {
        "id": "nkixAnd5PWvZ"
      }
    },
    {
      "cell_type": "markdown",
      "source": [],
      "metadata": {
        "id": "18vKmelIUldo"
      }
    },
    {
      "cell_type": "markdown",
      "source": [],
      "metadata": {
        "id": "TOrOlzROUsAL"
      }
    },
    {
      "cell_type": "code",
      "source": [
        "def sum_of_even_numbers(numbers):\n",
        "    \"\"\"\n",
        "    This function takes a list of numbers as input and returns the sum of all even numbers in the list.\n",
        "\n",
        "    :param numbers: List of integers.\n",
        "    :return: Sum of all even integers in the list.\n",
        "    \"\"\"\n",
        "    # Filter out even numbers using filter() and lambda\n",
        "    even_numbers = filter(lambda x: x % 2 == 0, numbers)\n",
        "\n",
        "    # Calculate the sum of the filtered even numbers\n",
        "    total_sum = sum(even_numbers)\n",
        "\n",
        "    return total_sum\n",
        "\n",
        "# Example usage:\n",
        "numbers = [1, 2, 3, 4, 5, 6]\n",
        "result = sum_of_even_numbers(numbers)\n",
        "print(result)  # Output: 12 (2 + 4 + 6)\n",
        "\n"
      ],
      "metadata": {
        "colab": {
          "base_uri": "https://localhost:8080/"
        },
        "id": "L7iCm_u9Qm-f",
        "outputId": "4b8f92c7-e86d-4cef-fad4-bb9f9f4ea7cd"
      },
      "execution_count": 14,
      "outputs": [
        {
          "output_type": "stream",
          "name": "stdout",
          "text": [
            "12\n"
          ]
        }
      ]
    },
    {
      "cell_type": "code",
      "source": [],
      "metadata": {
        "id": "PKFwXK4GUzrI"
      },
      "execution_count": null,
      "outputs": []
    },
    {
      "cell_type": "markdown",
      "source": [
        "2. Create a python function that accepts a string abd returns the reverse of that string.\n",
        "\n"
      ],
      "metadata": {
        "id": "UKSf1Sa2U3yS"
      }
    },
    {
      "cell_type": "code",
      "source": [
        "def reverse_string(s):\n",
        "    \"\"\"\n",
        "    This function takes a string as input and returns its reverse.\n",
        "\n",
        "    :param s: The input string to be reversed.\n",
        "    :return: The reversed string.\n",
        "    \"\"\"\n",
        "    # Reverse the string using slicing\n",
        "    reversed_s = s[::-1]\n",
        "\n",
        "    return reversed_s\n",
        "\n",
        "# Example usage:\n",
        "input_string = \"hello\"\n",
        "result = reverse_string(input_string)\n",
        "print(result)  # Output: \"olleh\"\n"
      ],
      "metadata": {
        "colab": {
          "base_uri": "https://localhost:8080/"
        },
        "id": "sRFWqaZHVrmE",
        "outputId": "19b8758b-ca5f-4eb6-889d-20b28084e38a"
      },
      "execution_count": 15,
      "outputs": [
        {
          "output_type": "stream",
          "name": "stdout",
          "text": [
            "olleh\n"
          ]
        }
      ]
    },
    {
      "cell_type": "code",
      "source": [],
      "metadata": {
        "id": "FQU-OostQnyD"
      },
      "execution_count": null,
      "outputs": []
    },
    {
      "cell_type": "markdown",
      "source": [
        "3. Implement a python function that takes a list of integers and returns a new list containing the squares of each number .\n",
        "\n"
      ],
      "metadata": {
        "id": "QN7cVgIpVt5N"
      }
    },
    {
      "cell_type": "code",
      "source": [
        "def square_numbers(numbers):\n",
        "    \"\"\"\n",
        "    This function takes a list of integers and returns a new list containing the squares of each number.\n",
        "\n",
        "    :param numbers: List of integers.\n",
        "    :return: List of squares of each integer in the input list.\n",
        "    \"\"\"\n",
        "    # Use map() to apply the squaring function to each element\n",
        "    squared_numbers = map(lambda x: x ** 2, numbers)\n",
        "\n",
        "    # Convert the map object to a list\n",
        "    return list(squared_numbers)\n",
        "\n",
        "# Example usage:\n",
        "input_list = [1, 2, 3, 4, 5]\n",
        "result = square_numbers(input_list)\n",
        "print(result)  # Output: [1, 4, 9, 16, 25]\n"
      ],
      "metadata": {
        "colab": {
          "base_uri": "https://localhost:8080/"
        },
        "id": "IFkc46URWTqR",
        "outputId": "ff34991b-c153-4ac0-8ad8-9da37dfdb202"
      },
      "execution_count": 16,
      "outputs": [
        {
          "output_type": "stream",
          "name": "stdout",
          "text": [
            "[1, 4, 9, 16, 25]\n"
          ]
        }
      ]
    },
    {
      "cell_type": "markdown",
      "source": [],
      "metadata": {
        "id": "HxkbQ_oPUekh"
      }
    },
    {
      "cell_type": "markdown",
      "source": [
        "4. Write a python function that checks if a given number is prime or not from 1 to 200.\n",
        "\n"
      ],
      "metadata": {
        "id": "7xf_SL_uWV8w"
      }
    },
    {
      "cell_type": "code",
      "source": [
        "import math\n",
        "\n",
        "def is_prime(num):\n",
        "    \"\"\"\n",
        "    This function checks if a given number is prime or not.\n",
        "\n",
        "    :param num: Integer value to be checked\n",
        "    :return: True if the number is prime, False otherwise\n",
        "    \"\"\"\n",
        "    # Check if the number is less than or equal to 1\n",
        "    if num <= 1:\n",
        "        return False\n",
        "\n",
        "    # Check divisibility from 2 to the square root of the number\n",
        "    for i in range(2, int(math.sqrt(num)) + 1):\n",
        "        if num % i == 0:\n",
        "            return False\n",
        "\n",
        "    return True\n",
        "\n",
        "# Example usage:\n",
        "for number in range(1, 201):\n",
        "    if is_prime(number):\n",
        "        print(f\"{number} is a prime number.\")\n"
      ],
      "metadata": {
        "colab": {
          "base_uri": "https://localhost:8080/"
        },
        "id": "1iiYUtCJW7fP",
        "outputId": "62ff4ef3-0a5d-4d0b-dcae-be4e5539d517"
      },
      "execution_count": 17,
      "outputs": [
        {
          "output_type": "stream",
          "name": "stdout",
          "text": [
            "2 is a prime number.\n",
            "3 is a prime number.\n",
            "5 is a prime number.\n",
            "7 is a prime number.\n",
            "11 is a prime number.\n",
            "13 is a prime number.\n",
            "17 is a prime number.\n",
            "19 is a prime number.\n",
            "23 is a prime number.\n",
            "29 is a prime number.\n",
            "31 is a prime number.\n",
            "37 is a prime number.\n",
            "41 is a prime number.\n",
            "43 is a prime number.\n",
            "47 is a prime number.\n",
            "53 is a prime number.\n",
            "59 is a prime number.\n",
            "61 is a prime number.\n",
            "67 is a prime number.\n",
            "71 is a prime number.\n",
            "73 is a prime number.\n",
            "79 is a prime number.\n",
            "83 is a prime number.\n",
            "89 is a prime number.\n",
            "97 is a prime number.\n",
            "101 is a prime number.\n",
            "103 is a prime number.\n",
            "107 is a prime number.\n",
            "109 is a prime number.\n",
            "113 is a prime number.\n",
            "127 is a prime number.\n",
            "131 is a prime number.\n",
            "137 is a prime number.\n",
            "139 is a prime number.\n",
            "149 is a prime number.\n",
            "151 is a prime number.\n",
            "157 is a prime number.\n",
            "163 is a prime number.\n",
            "167 is a prime number.\n",
            "173 is a prime number.\n",
            "179 is a prime number.\n",
            "181 is a prime number.\n",
            "191 is a prime number.\n",
            "193 is a prime number.\n",
            "197 is a prime number.\n",
            "199 is a prime number.\n"
          ]
        }
      ]
    },
    {
      "cell_type": "code",
      "source": [],
      "metadata": {
        "id": "NsjVte1_W9yZ"
      },
      "execution_count": null,
      "outputs": []
    },
    {
      "cell_type": "markdown",
      "source": [
        "5. Create an iterator clss in python that generates the fibonacci sequence up to a specified numberof terms.\n",
        "\n"
      ],
      "metadata": {
        "id": "oeW2SBxpW_AO"
      }
    },
    {
      "cell_type": "code",
      "source": [
        "class FibonacciIterator:\n",
        "    def __init__(self, num_terms):\n",
        "        \"\"\"\n",
        "        Initialize the FibonacciIterator with the number of terms.\n",
        "\n",
        "        :param num_terms: Number of terms in the Fibonacci sequence to generate.\n",
        "        \"\"\"\n",
        "        self.num_terms = num_terms\n",
        "        self.current_index = 0\n",
        "        self.a, self.b = 0, 1  # First two terms of Fibonacci sequence\n",
        "\n",
        "    def __iter__(self):\n",
        "        \"\"\"\n",
        "        Return the iterator object itself.\n",
        "        \"\"\"\n",
        "        return self\n",
        "\n",
        "    def __next__(self):\n",
        "        \"\"\"\n",
        "        Return the next term in the Fibonacci sequence.\n",
        "\n",
        "        :return: The next Fibonacci number.\n",
        "        :raises StopIteration: When the specified number of terms is reached.\n",
        "        \"\"\"\n",
        "        if self.current_index >= self.num_terms:\n",
        "            raise StopIteration\n",
        "\n",
        "        # Return the current Fibonacci number\n",
        "        fib_number = self.a\n",
        "\n",
        "        # Update the Fibonacci numbers\n",
        "        self.a, self.b = self.b, self.a + self.b\n",
        "        self.current_index += 1\n",
        "\n",
        "        return fib_number\n",
        "\n",
        "# Example usage:\n",
        "num_terms = 10\n",
        "fibonacci_iterator = FibonacciIterator(num_terms)\n",
        "\n",
        "for number in fibonacci_iterator:\n",
        "    print(number)\n"
      ],
      "metadata": {
        "colab": {
          "base_uri": "https://localhost:8080/"
        },
        "id": "v_HE7OBRXnWY",
        "outputId": "a75a24f8-c0ba-4843-e84e-053d02fefe28"
      },
      "execution_count": 18,
      "outputs": [
        {
          "output_type": "stream",
          "name": "stdout",
          "text": [
            "0\n",
            "1\n",
            "1\n",
            "2\n",
            "3\n",
            "5\n",
            "8\n",
            "13\n",
            "21\n",
            "34\n"
          ]
        }
      ]
    },
    {
      "cell_type": "code",
      "source": [],
      "metadata": {
        "id": "UUPIl4VfXoVk"
      },
      "execution_count": null,
      "outputs": []
    },
    {
      "cell_type": "markdown",
      "source": [
        "6. Write a generator function in python that yields the powers of 2 up to a given expanent.\n",
        "\n"
      ],
      "metadata": {
        "id": "aHOvAeJ4Xpbu"
      }
    },
    {
      "cell_type": "code",
      "source": [
        "def powers_of_two(exponent):\n",
        "    \"\"\"\n",
        "    Generator function that yields powers of 2 up to the given exponent.\n",
        "\n",
        "    :param exponent: The maximum exponent (inclusive) to generate powers of 2.\n",
        "    \"\"\"\n",
        "    for exp in range(exponent + 1):\n",
        "        yield 2 ** exp\n",
        "\n",
        "# Example usage:\n",
        "for power in powers_of_two(5):\n",
        "    print(power)\n"
      ],
      "metadata": {
        "colab": {
          "base_uri": "https://localhost:8080/"
        },
        "id": "9GvF2bJqYHVb",
        "outputId": "e7774be8-d888-47a4-f2cc-a3e3636e8b26"
      },
      "execution_count": 19,
      "outputs": [
        {
          "output_type": "stream",
          "name": "stdout",
          "text": [
            "1\n",
            "2\n",
            "4\n",
            "8\n",
            "16\n",
            "32\n"
          ]
        }
      ]
    },
    {
      "cell_type": "code",
      "source": [],
      "metadata": {
        "id": "md8SuVMyYIg1"
      },
      "execution_count": null,
      "outputs": []
    },
    {
      "cell_type": "markdown",
      "source": [
        "7. Implement a generator function that reads a file line and yeilds each line as a string .\n",
        "\n"
      ],
      "metadata": {
        "id": "EepvhWiNYJpY"
      }
    },
    {
      "cell_type": "code",
      "source": [
        "def read_lines(filename):\n",
        "    \"\"\"\n",
        "    Generator function that reads a file line by line and yields each line as a string.\n",
        "\n",
        "    :param filename: Path to the file to be read.\n",
        "    \"\"\"\n",
        "    try:\n",
        "        with open(filename, 'r') as file:\n",
        "            for line in file:\n",
        "                yield line\n",
        "    except FileNotFoundError:\n",
        "        print(f\"Error: The file '{filename}' was not found.\")\n",
        "    except IOError:\n",
        "        print(f\"Error: Could not read the file '{filename}'.\")\n",
        "\n",
        "# Example usage:\n",
        "filename = 'example.txt'\n",
        "\n",
        "for line in read_lines(filename):\n",
        "    print(line, end='')\n",
        "\n",
        "\n"
      ],
      "metadata": {
        "colab": {
          "base_uri": "https://localhost:8080/"
        },
        "id": "cjFO2fIMYqyg",
        "outputId": "27499fae-b4da-482b-9660-ba39481263b9"
      },
      "execution_count": 22,
      "outputs": [
        {
          "output_type": "stream",
          "name": "stdout",
          "text": [
            "Error: The file 'example.txt' was not found.\n"
          ]
        }
      ]
    },
    {
      "cell_type": "code",
      "source": [],
      "metadata": {
        "id": "wFbFIqjjYrtc"
      },
      "execution_count": null,
      "outputs": []
    },
    {
      "cell_type": "markdown",
      "source": [
        "8. Use a lambda function in python to sort a list of tuples based on the second  element of each tuple .\n",
        "\n"
      ],
      "metadata": {
        "id": "13fgzpBOZImE"
      }
    },
    {
      "cell_type": "code",
      "source": [
        "data = [(5, 2), (1, 9), (3, 7), (4, 6)]\n",
        "\n",
        "# Sort based on the second element\n",
        "sorted_data = sorted(data, key=lambda x: x[1])\n",
        "\n",
        "print(sorted_data)\n"
      ],
      "metadata": {
        "colab": {
          "base_uri": "https://localhost:8080/"
        },
        "id": "y4AnEC37Zv8d",
        "outputId": "8fd37ced-ef2f-4968-cbe5-8047069b98fb"
      },
      "execution_count": 23,
      "outputs": [
        {
          "output_type": "stream",
          "name": "stdout",
          "text": [
            "[(5, 2), (4, 6), (3, 7), (1, 9)]\n"
          ]
        }
      ]
    },
    {
      "cell_type": "code",
      "source": [],
      "metadata": {
        "id": "3VYOwP_2Zw1-"
      },
      "execution_count": null,
      "outputs": []
    },
    {
      "cell_type": "markdown",
      "source": [
        "9. Write a python  that  uses 'map ()' to convert a list of temperatures from celsius to fahrenheit .\n",
        "\n"
      ],
      "metadata": {
        "id": "IOerCLCxZx-W"
      }
    },
    {
      "cell_type": "code",
      "source": [
        "# List of temperatures in Celsius\n",
        "celsius_temperatures = [0, 20, 37, 100]\n",
        "\n",
        "# Use map() with a lambda function to convert Celsius to Fahrenheit\n",
        "fahrenheit_temperatures = list(map(lambda c: (c * 9/5) + 32, celsius_temperatures))\n",
        "\n",
        "print(fahrenheit_temperatures)\n"
      ],
      "metadata": {
        "colab": {
          "base_uri": "https://localhost:8080/"
        },
        "id": "yIk_qwCcacfH",
        "outputId": "5b5a49ca-fefb-4e6f-ec15-47374dadab2e"
      },
      "execution_count": 24,
      "outputs": [
        {
          "output_type": "stream",
          "name": "stdout",
          "text": [
            "[32.0, 68.0, 98.6, 212.0]\n"
          ]
        }
      ]
    },
    {
      "cell_type": "code",
      "source": [],
      "metadata": {
        "id": "AAGI-bipaduj"
      },
      "execution_count": null,
      "outputs": []
    },
    {
      "cell_type": "markdown",
      "source": [
        "10. Create a python program that uses ' filter  () ' TO remove all the vowels from a given  string.\n",
        "\n"
      ],
      "metadata": {
        "id": "Ddl1Dsq0all5"
      }
    },
    {
      "cell_type": "code",
      "source": [
        "def remove_vowels(input_string):\n",
        "    \"\"\"\n",
        "    Remove all vowels from the given string.\n",
        "\n",
        "    :param input_string: The string from which vowels will be removed.\n",
        "    :return: The string with all vowels removed.\n",
        "    \"\"\"\n",
        "    # Use filter() with a lambda function to remove vowels\n",
        "    filtered_chars = filter(lambda char: char.lower() not in 'aeiou', input_string)\n",
        "\n",
        "    # Join the filtered characters back into a string\n",
        "    result = ''.join(filtered_chars)\n",
        "\n",
        "    return result\n",
        "\n",
        "# Example usage:\n",
        "input_string = \"Hello, World!\"\n",
        "result = remove_vowels(input_string)\n",
        "print(result)\n"
      ],
      "metadata": {
        "colab": {
          "base_uri": "https://localhost:8080/"
        },
        "id": "tI66nJytb1yV",
        "outputId": "204239bd-b467-4728-b52c-0681452acec5"
      },
      "execution_count": 25,
      "outputs": [
        {
          "output_type": "stream",
          "name": "stdout",
          "text": [
            "Hll, Wrld!\n"
          ]
        }
      ]
    },
    {
      "cell_type": "code",
      "source": [],
      "metadata": {
        "id": "ttLJJ7R2b3dE"
      },
      "execution_count": null,
      "outputs": []
    },
    {
      "cell_type": "markdown",
      "source": [],
      "metadata": {
        "id": "liVj5o0Tb453"
      }
    },
    {
      "cell_type": "markdown",
      "source": [
        "11. ) Imagine an accounting routine used in a book shop. It works on a list with sublists, which look like this:\n",
        "Order Number   Book Tittle and Author                             Quantity                   Price  per Item\n",
        "34587                 Learning python, Mark Lutz                           4                             40.95\n",
        "98762                 Programming python, Mark Lutz                  5                             56.80\n",
        "77226                 Head First python , paul Barry                      3                              32.95\n",
        "88112                 Einfuhrung in python 3, Bernd Klein           3                              24.99\n",
        "\n",
        "\n",
        "Write a Python program, which returns a list with 2-tuples. Each tuple consists of the order number and the\n",
        "product of the price per item and the quantity. The product should be increased by 10,- € if the value of the\n",
        "order is smaller than 100,00 €.\n",
        "\n",
        "Write a Python program using lambda and map.\n",
        "\n",
        "\n"
      ],
      "metadata": {
        "id": "IUDJ3vXpkOat"
      }
    },
    {
      "cell_type": "code",
      "source": [
        "# Define the data\n",
        "orders = [\n",
        "    [34587, \"Learning Python, Mark Lutz\", 4, 40.95],\n",
        "    [98762, \"Programming Python, Mark Lutz\", 5, 56.80],\n",
        "    [77226, \"Head First Python, Paul Barry\", 3, 32.95],\n",
        "    [88112, \"Einführung in Python 3, Bernd Klein\", 3, 24.99]\n",
        "]\n",
        "\n",
        "# Function to calculate the total with possible adjustment\n",
        "def calculate_total(order):\n",
        "    order_number, _, quantity, price_per_item = order\n",
        "    total = quantity * price_per_item\n",
        "    if total < 100:\n",
        "        total += 10\n",
        "    return (order_number, total)\n",
        "\n",
        "# Use map() and lambda to apply the calculation to each order\n",
        "result = list(map(lambda order: calculate_total(order), orders))\n",
        "\n",
        "# Print the result\n",
        "print(result)\n"
      ],
      "metadata": {
        "colab": {
          "base_uri": "https://localhost:8080/"
        },
        "id": "GFY25015knqz",
        "outputId": "68992913-6422-4754-8277-ef0d5026bda0"
      },
      "execution_count": 26,
      "outputs": [
        {
          "output_type": "stream",
          "name": "stdout",
          "text": [
            "[(34587, 163.8), (98762, 284.0), (77226, 108.85000000000001), (88112, 84.97)]\n"
          ]
        }
      ]
    },
    {
      "cell_type": "markdown",
      "source": [],
      "metadata": {
        "id": "9HUmQG82kKrD"
      }
    }
  ]
}