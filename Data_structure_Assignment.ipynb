{
  "nbformat": 4,
  "nbformat_minor": 0,
  "metadata": {
    "colab": {
      "provenance": [],
      "authorship_tag": "ABX9TyNfc0Ls3+yA7lZcNK1QPARF",
      "include_colab_link": true
    },
    "kernelspec": {
      "name": "python3",
      "display_name": "Python 3"
    },
    "language_info": {
      "name": "python"
    }
  },
  "cells": [
    {
      "cell_type": "markdown",
      "metadata": {
        "id": "view-in-github",
        "colab_type": "text"
      },
      "source": [
        "<a href=\"https://colab.research.google.com/github/akr1701/assignment-2-data-assignment/blob/main/Data_structure_Assignment.ipynb\" target=\"_parent\"><img src=\"https://colab.research.google.com/assets/colab-badge.svg\" alt=\"Open In Colab\"/></a>"
      ]
    },
    {
      "cell_type": "code",
      "execution_count": null,
      "metadata": {
        "id": "ZjkTdG9l8jtJ"
      },
      "outputs": [],
      "source": []
    },
    {
      "cell_type": "markdown",
      "source": [
        "Q 1. Discuss string silicing and provide examples .\n",
        "ans -  String slicing is a powerful feature in Python that allows you to extract specific parts of a string by specifying a range of indices. The basic syntax for slicing is:\n",
        "\n",
        "```python\n",
        "string[start:end:step]\n",
        "```\n",
        "\n",
        "- **`start`**: The index where the slice begins (inclusive).\n",
        "- **`end`**: The index where the slice ends (exclusive).\n",
        "- **`step`**: The step size, which indicates how many characters to skip. If omitted, the default step size is 1.\n",
        "\n",
        "### Basic Examples:\n",
        "\n",
        "1. **Slicing with `start` and `end`:**\n",
        "   ```python\n",
        "   text = \"Hello, World!\"\n",
        "   print(text[0:5])  # Output: \"Hello\"\n",
        "   ```\n",
        "   - This slices the string starting from index `0` and goes up to (but not including) index `5`.\n",
        "\n",
        "2. **Omitting `start` or `end`:**\n",
        "   - You can omit the `start` or `end` indices, and Python will automatically assume the start or end of the string.\n",
        "   ```python\n",
        "   print(text[:5])   # Output: \"Hello\" (starts from the beginning)\n",
        "   print(text[7:])   # Output: \"World!\" (goes till the end)\n",
        "   ```\n",
        "\n",
        "3. **Using a `step`:**\n",
        "   - You can specify a step size to skip characters.\n",
        "   ```python\n",
        "   print(text[::2])  # Output: \"Hlo ol!\"\n",
        "   ```\n",
        "   - Here, the step size is `2`, so every second character is selected.\n",
        "\n",
        "4. **Negative Indices:**\n",
        "   - You can use negative indices to slice from the end of the string.\n",
        "   ```python\n",
        "   print(text[-6:-1])  # Output: \"World\"\n",
        "   ```\n",
        "   - This slices from index `-6` to `-1` (which is the second-to-last character, since `-1` is the last character in Python strings).\n",
        "\n",
        "5. **Reversing a String:**\n",
        "   - To reverse a string, you can use slicing with a negative step.\n",
        "   ```python\n",
        "   print(text[::-1])  # Output: \"!dlroW ,olleH\"\n",
        "   \n",
        "  \n",
        "\n"
      ],
      "metadata": {
        "id": "e_xrmBrq9GOg"
      }
    },
    {
      "cell_type": "code",
      "source": [
        "text = \"Hello, World!\"\n",
        "print(text[0:5])  # Output: \"Hello\"\n"
      ],
      "metadata": {
        "colab": {
          "base_uri": "https://localhost:8080/"
        },
        "id": "N4Cq6uVaGiwW",
        "outputId": "48b73827-6f25-43ea-ea32-382026794cfd"
      },
      "execution_count": 1,
      "outputs": [
        {
          "output_type": "stream",
          "name": "stdout",
          "text": [
            "Hello\n"
          ]
        }
      ]
    },
    {
      "cell_type": "markdown",
      "source": [],
      "metadata": {
        "id": "PB_sbvxNGwX6"
      }
    },
    {
      "cell_type": "code",
      "source": [
        "print(text[:5])   # Output: \"Hello\" (starts from the beginning)\n",
        "print(text[7:])   # Output: \"World!\" (goes till the end)\n"
      ],
      "metadata": {
        "colab": {
          "base_uri": "https://localhost:8080/"
        },
        "id": "Eky9o7TvHK3J",
        "outputId": "9a543cc5-b233-451e-ad83-5a10974a62aa"
      },
      "execution_count": 2,
      "outputs": [
        {
          "output_type": "stream",
          "name": "stdout",
          "text": [
            "Hello\n",
            "World!\n"
          ]
        }
      ]
    },
    {
      "cell_type": "markdown",
      "source": [],
      "metadata": {
        "id": "YlinAC2HHTtC"
      }
    },
    {
      "cell_type": "code",
      "source": [
        "sentence = \"Python slicing is fun!\"\n",
        "word = sentence[7:14]\n",
        "print(word)  # Output: \"slicing\"\n"
      ],
      "metadata": {
        "colab": {
          "base_uri": "https://localhost:8080/"
        },
        "id": "NQhmG7YdKx5-",
        "outputId": "605dcf22-081d-461b-f23f-71c046e197cb"
      },
      "execution_count": 3,
      "outputs": [
        {
          "output_type": "stream",
          "name": "stdout",
          "text": [
            "slicing\n"
          ]
        }
      ]
    },
    {
      "cell_type": "code",
      "source": [
        "print(sentence[::3])  # Output: \"Ph i i u\"\n"
      ],
      "metadata": {
        "colab": {
          "base_uri": "https://localhost:8080/"
        },
        "id": "oHHPCH6vLK86",
        "outputId": "50d9a2f3-3d6f-4dd7-b1ee-b88e0aa06b86"
      },
      "execution_count": 4,
      "outputs": [
        {
          "output_type": "stream",
          "name": "stdout",
          "text": [
            "Ph inif!\n"
          ]
        }
      ]
    },
    {
      "cell_type": "code",
      "source": [],
      "metadata": {
        "id": "QT2BzxiUGkDQ"
      },
      "execution_count": null,
      "outputs": []
    },
    {
      "cell_type": "markdown",
      "source": [
        "Q 2. Explain the key features of lits in python.\n",
        "Ans --Lists in Python are one of the most versatile and commonly used data structures. They are ordered, mutable (modifiable), and can contain elements of different data types. Below are the key features of lists in Python, along with examples:\n",
        "\n",
        "### 1. **Ordered**\n",
        "   - Lists maintain the order of elements as they are inserted. This means that when you access elements, they will appear in the same order in which they were added.\n",
        "   ```python\n",
        "   my_list = [10, 20, 30, 40]\n",
        "   print(my_list)  # Output: [10, 20, 30, 40]\n",
        "   ```\n",
        "\n",
        "### 2. **Mutable**\n",
        "   - Lists are mutable, meaning you can change their content after creation by modifying, adding, or removing elements.\n",
        "   ```python\n",
        "   my_list[0] = 100  # Modify an element\n",
        "   print(my_list)  # Output: [100, 20, 30, 40]\n",
        "   \n",
        "   my_list.append(50)  # Add an element\n",
        "   print(my_list)  # Output: [100, 20, 30, 40, 50]\n",
        "   \n",
        "   del my_list[1]  # Remove an element\n",
        "   print(my_list)  # Output: [100, 30, 40, 50]\n",
        "   ```\n",
        "\n",
        "### 3. **Dynamic Size**\n",
        "   - Lists in Python can grow or shrink dynamically as elements are added or removed.\n",
        "   ```python\n",
        "   my_list = []  # Start with an empty list\n",
        "   my_list.append(\"a\")  # Add elements\n",
        "   my_list.append(\"b\")\n",
        "   my_list.append(\"c\")\n",
        "   print(my_list)  # Output: ['a', 'b', 'c']\n",
        "   ```\n",
        "\n",
        "### 4. **Can Contain Different Data Types**\n",
        "   - Lists can hold elements of different types, including integers, strings, floats, and even other lists or objects.\n",
        "   ```python\n",
        "   mixed_list = [1, \"hello\", 3.14, [10, 20, 30]]\n",
        "   print(mixed_list)  # Output: [1, 'hello', 3.14, [10, 20, 30]]\n",
        "   ```\n",
        "\n",
        "### 5. **Indexing and Slicing**\n",
        "   - You can access individual elements by their index (starting from 0) and slice lists to extract a range of elements.\n",
        "   ```python\n",
        "   my_list = [10, 20, 30, 40, 50]\n",
        "   print(my_list[1])  # Output: 20 (access element at index 1)\n",
        "   \n",
        "   print(my_list[1:4])  # Output: [20, 30, 40] (slice from index 1 to 4, excluding 4)\n",
        "   ```\n",
        "\n",
        "### 6. **Support for Common Operations**\n",
        "   - Lists support common operations like concatenation, repetition, and membership tests.\n",
        "   ```python\n",
        "   list1 = [1, 2, 3]\n",
        "   list2 = [4, 5, 6]\n",
        "   \n",
        "   # Concatenation\n",
        "   combined = list1 + list2\n",
        "   print(combined)  # Output: [1, 2, 3, 4, 5, 6]\n",
        "   \n",
        "   # Repetition\n",
        "   repeated = list1 * 2\n",
        "   print(repeated)  # Output: [1, 2, 3, 1, 2, 3]\n",
        "   \n",
        "   # Membership test\n",
        "   print(3 in list1)  # Output: True\n",
        "   ```\n",
        "\n",
        "### 7. **List Comprehensions**\n",
        "   - List comprehensions provide a concise way to create lists by applying expressions to each element of an iterable.\n",
        "   ```python\n",
        "   squares = [x**2 for x in range(5)]\n",
        "   print(squares)  # Output: [0, 1, 4, 9, 16]\n",
        "   ```\n",
        "\n",
        "### 8. **Built-in Functions and Methods**\n",
        "   - Lists come with a variety of useful built-in methods for adding, removing, and manipulating elements.\n",
        "   ```python\n",
        "   my_list = [3, 1, 4, 1, 5, 9]\n",
        "   \n",
        "   # Append an element\n",
        "   my_list.append(2)\n",
        "   print(my_list)  # Output: [3, 1, 4, 1, 5, 9, 2]\n",
        "   \n",
        "   # Sort the list\n",
        "   my_list.sort()\n",
        "   print(my_list)  # Output: [1, 1, 2, 3, 4, 5, 9]\n",
        "   \n",
        "   # Reverse the list\n",
        "   my_list.reverse()\n",
        "   print(my_list)  # Output: [9, 5, 4, 3, 2, 1, 1]\n",
        "   \n",
        "   # Get the length of the list\n",
        "   print(len(my_list))  # Output: 7\n",
        "   ```\n",
        "\n",
        "### 9. **Nested Lists**\n",
        "   - Lists can contain other lists, allowing the creation of multi-dimensional arrays.\n",
        "   ```python\n",
        "   nested_list = [[1, 2], [3, 4], [5, 6]]\n",
        "   print(nested_list[1][0])  # Output: 3 (access the first element of the second list)\n",
        "   ```\n"
      ],
      "metadata": {
        "id": "3ky03fJWNRwL"
      }
    },
    {
      "cell_type": "code",
      "source": [
        "\n",
        "my_list = []  # Start with an empty list\n",
        "my_list.append(\"a\")  # Add elements\n",
        "my_list.append(\"b\")\n",
        "my_list.append(\"c\")\n",
        "print(my_list)  # Output: ['a', 'b', 'c']\n"
      ],
      "metadata": {
        "colab": {
          "base_uri": "https://localhost:8080/"
        },
        "id": "Gf_vaHGwPnzn",
        "outputId": "b3b65cfd-233c-4554-a5f9-0684942599dc"
      },
      "execution_count": 7,
      "outputs": [
        {
          "output_type": "stream",
          "name": "stdout",
          "text": [
            "['a', 'b', 'c']\n"
          ]
        }
      ]
    },
    {
      "cell_type": "code",
      "source": [
        "mixed_list = [1, \"hello\", 3.14, [10, 20, 30]]\n",
        "print(mixed_list)  # Output: [1, 'hello', 3.14, [10, 20, 30]]\n"
      ],
      "metadata": {
        "colab": {
          "base_uri": "https://localhost:8080/"
        },
        "id": "Cet5FprZPp5W",
        "outputId": "109f2286-fd6b-4b1b-ee84-6ae039f9a087"
      },
      "execution_count": 8,
      "outputs": [
        {
          "output_type": "stream",
          "name": "stdout",
          "text": [
            "[1, 'hello', 3.14, [10, 20, 30]]\n"
          ]
        }
      ]
    },
    {
      "cell_type": "code",
      "source": [
        "list1 = [1, 2, 3]\n",
        "list2 = [4, 5, 6]\n",
        "\n",
        "# Concatenation\n",
        "combined = list1 + list2\n",
        "print(combined)  # Output: [1, 2, 3, 4, 5, 6]\n",
        "\n",
        "# Repetition\n",
        "repeated = list1 * 2\n",
        "print(repeated)  # Output: [1, 2, 3, 1, 2, 3]\n",
        "\n",
        "# Membership test\n",
        "print(3 in list1)  # Output: True\n"
      ],
      "metadata": {
        "colab": {
          "base_uri": "https://localhost:8080/"
        },
        "id": "30qdl0q_QKNB",
        "outputId": "62c9a93c-d671-404d-9a37-87202cf39e8f"
      },
      "execution_count": 9,
      "outputs": [
        {
          "output_type": "stream",
          "name": "stdout",
          "text": [
            "[1, 2, 3, 4, 5, 6]\n",
            "[1, 2, 3, 1, 2, 3]\n",
            "True\n"
          ]
        }
      ]
    },
    {
      "cell_type": "code",
      "source": [
        "my_list = [3, 1, 4, 1, 5, 9]\n",
        "\n",
        "# Append an element\n",
        "my_list.append(2)\n",
        "print(my_list)  # Output: [3, 1, 4, 1, 5, 9, 2]\n",
        "\n",
        "# Sort the list\n",
        "my_list.sort()\n",
        "print(my_list)  # Output: [1, 1, 2, 3, 4, 5, 9]\n",
        "\n",
        "# Reverse the list\n",
        "my_list.reverse()\n",
        "print(my_list)  # Output: [9, 5, 4, 3, 2, 1, 1]\n",
        "\n",
        "# Get the length of the list\n",
        "print(len(my_list))  # Output: 7\n"
      ],
      "metadata": {
        "colab": {
          "base_uri": "https://localhost:8080/"
        },
        "id": "fIGkvcBmQQCO",
        "outputId": "3c80d473-3544-4dcb-8243-5cfbfb7f8176"
      },
      "execution_count": 10,
      "outputs": [
        {
          "output_type": "stream",
          "name": "stdout",
          "text": [
            "[3, 1, 4, 1, 5, 9, 2]\n",
            "[1, 1, 2, 3, 4, 5, 9]\n",
            "[9, 5, 4, 3, 2, 1, 1]\n",
            "7\n"
          ]
        }
      ]
    },
    {
      "cell_type": "code",
      "source": [
        "nested_list = [[1, 2], [3, 4], [5, 6]]\n",
        "print(nested_list[1][0])  # Output: 3 (access the first element of the second list)\n"
      ],
      "metadata": {
        "colab": {
          "base_uri": "https://localhost:8080/"
        },
        "id": "iSx2hJBGQUPJ",
        "outputId": "0b18352d-15ce-4e39-c01d-a134c4d4f60a"
      },
      "execution_count": 11,
      "outputs": [
        {
          "output_type": "stream",
          "name": "stdout",
          "text": [
            "3\n"
          ]
        }
      ]
    },
    {
      "cell_type": "markdown",
      "source": [
        "Q3. Describe how to access, modifiy , and delete elements in a list with examples.\n",
        "Ans --  ### Accessing, Modifying, and Deleting Elements in a List\n",
        "\n",
        "In Python, lists allow easy access, modification, and deletion of elements. Here's how you can perform these operations:\n",
        "\n",
        "---\n",
        "\n",
        "### 1. **Accessing Elements in a List**\n",
        "   - You can access elements in a list using **indexing** and **slicing**.\n",
        "\n",
        "#### **Example of Indexing:**\n",
        "   - Lists are **zero-indexed**, so the first element is at index `0`, the second at `1`, and so on.\n",
        "   ```python\n",
        "   my_list = [10, 20, 30, 40, 50]\n",
        "   print(my_list[0])   # Output: 10 (first element)\n",
        "   print(my_list[3])   # Output: 40 (fourth element)\n",
        "   ```\n",
        "\n",
        "#### **Example of Slicing:**\n",
        "   - Slicing allows you to access a range of elements.\n",
        "   ```python\n",
        "   print(my_list[1:4])  # Output: [20, 30, 40] (elements from index 1 to 3)\n",
        "   print(my_list[:3])   # Output: [10, 20, 30] (first three elements)\n",
        "   print(my_list[-1])   # Output: 50 (last element using negative index)\n",
        "   ```\n",
        "\n",
        "---\n",
        "\n",
        "### 2. **Modifying Elements in a List**\n",
        "   - Lists are **mutable**, so you can modify individual elements or a range of elements by using indexing and slicing.\n",
        "\n",
        "#### **Example of Modifying Single Elements:**\n",
        "   ```python\n",
        "   my_list[1] = 100\n",
        "   print(my_list)  # Output: [10, 100, 30, 40, 50]\n",
        "   ```\n",
        "\n",
        "#### **Example of Modifying a Slice (Multiple Elements):**\n",
        "   - You can assign new values to multiple elements using slicing.\n",
        "   ```python\n",
        "   my_list[1:3] = [200, 300]\n",
        "   print(my_list)  # Output: [10, 200, 300, 40, 50]\n",
        "   ```\n",
        "\n",
        "---\n",
        "\n",
        "### 3. **Deleting Elements from a List**\n",
        "   - You can delete elements using the `del` statement, the `pop()` method, or the `remove()` method.\n",
        "\n",
        "#### **Deleting with `del` Statement (by Index):**\n",
        "   - The `del` statement allows you to delete specific elements or a range of elements by their index.\n",
        "   ```python\n",
        "   del my_list[1]  # Delete the second element\n",
        "   print(my_list)  # Output: [10, 300, 40, 50]\n",
        "   \n",
        "   del my_list[1:3]  # Delete elements from index 1 to 2\n",
        "   print(my_list)  # Output: [10, 50]\n",
        "   ```\n",
        "\n",
        "#### **Deleting with `pop()` Method:**\n",
        "   - The `pop()` method removes an element at a specific index (if provided) and returns it. By default, it removes the last element.\n",
        "   ```python\n",
        "   my_list = [10, 20, 30, 40, 50]\n",
        "   popped_element = my_list.pop()  # Removes and returns the last element\n",
        "   print(popped_element)  # Output: 50\n",
        "   print(my_list)  # Output: [10, 20, 30, 40]\n",
        "   \n",
        "   popped_element = my_list.pop(1)  # Removes the element at index 1\n",
        "   print(popped_element)  # Output: 20\n",
        "   print(my_list)  # Output: [10, 30, 40]\n",
        "   ```\n",
        "\n",
        "#### **Deleting with `remove()` Method:**\n",
        "   - The `remove()` method deletes the first occurrence of a specific value (not based on the index).\n",
        "   ```python\n",
        "   my_list = [10, 20, 30, 20, 40]\n",
        "   my_list.remove(20)  # Removes the first occurrence of 20\n",
        "   print(my_list)  # Output: [10, 30, 20, 40]"
      ],
      "metadata": {
        "id": "k2s4oz9UQyYU"
      }
    },
    {
      "cell_type": "code",
      "source": [
        "my_list = [10, 20, 30, 40, 50]\n",
        "print(my_list[0])   # Output: 10 (first element)\n",
        "print(my_list[3])   # Output: 40 (fourth element)\n"
      ],
      "metadata": {
        "colab": {
          "base_uri": "https://localhost:8080/"
        },
        "id": "LiA8MuOxRY2y",
        "outputId": "83d4adce-65d5-4d2f-a132-4a8253d7cfa9"
      },
      "execution_count": 12,
      "outputs": [
        {
          "output_type": "stream",
          "name": "stdout",
          "text": [
            "10\n",
            "40\n"
          ]
        }
      ]
    },
    {
      "cell_type": "code",
      "source": [
        "print(my_list[1:4])  # Output: [20, 30, 40] (elements from index 1 to 3)\n",
        "print(my_list[:3])   # Output: [10, 20, 30] (first three elements)\n",
        "print(my_list[-1])   # Output: 50 (last element using negative index)\n"
      ],
      "metadata": {
        "colab": {
          "base_uri": "https://localhost:8080/"
        },
        "id": "dkkqzD4SQZ3K",
        "outputId": "70b90014-52c4-46fb-bd5b-1a2567886c5c"
      },
      "execution_count": 13,
      "outputs": [
        {
          "output_type": "stream",
          "name": "stdout",
          "text": [
            "[20, 30, 40]\n",
            "[10, 20, 30]\n",
            "50\n"
          ]
        }
      ]
    },
    {
      "cell_type": "code",
      "source": [
        "my_list[1] = 100\n",
        "print(my_list)  # Output: [10, 100, 30, 40, 50]\n"
      ],
      "metadata": {
        "colab": {
          "base_uri": "https://localhost:8080/"
        },
        "id": "u0rLBwNKRsSy",
        "outputId": "91880a48-61e0-41ad-9a7c-650e22ac439d"
      },
      "execution_count": 14,
      "outputs": [
        {
          "output_type": "stream",
          "name": "stdout",
          "text": [
            "[10, 100, 30, 40, 50]\n"
          ]
        }
      ]
    },
    {
      "cell_type": "code",
      "source": [
        "del my_list[1]  # Delete the second element\n",
        "print(my_list)  # Output: [10, 300, 40, 50]\n",
        "\n",
        "del my_list[1:3]  # Delete elements from index 1 to 2\n",
        "print(my_list)  # Output: [10, 50]\n"
      ],
      "metadata": {
        "colab": {
          "base_uri": "https://localhost:8080/"
        },
        "id": "hofSAqSORwlR",
        "outputId": "3e7a0c85-b6ee-40a5-c9f8-8e349e2d78ee"
      },
      "execution_count": 15,
      "outputs": [
        {
          "output_type": "stream",
          "name": "stdout",
          "text": [
            "[10, 30, 40, 50]\n",
            "[10, 50]\n"
          ]
        }
      ]
    },
    {
      "cell_type": "code",
      "source": [
        "my_list = [10, 20, 30, 40, 50]\n",
        "popped_element = my_list.pop()  # Removes and returns the last element\n",
        "print(popped_element)  # Output: 50\n",
        "print(my_list)  # Output: [10, 20, 30, 40]\n",
        "\n",
        "popped_element = my_list.pop(1)  # Removes the element at index 1\n",
        "print(popped_element)  # Output: 20\n",
        "print(my_list)  # Output: [10, 30, 40]\n"
      ],
      "metadata": {
        "colab": {
          "base_uri": "https://localhost:8080/"
        },
        "id": "qSMS53nYR2nO",
        "outputId": "a93f1d40-4870-46e1-858b-5002da4e3782"
      },
      "execution_count": 16,
      "outputs": [
        {
          "output_type": "stream",
          "name": "stdout",
          "text": [
            "50\n",
            "[10, 20, 30, 40]\n",
            "20\n",
            "[10, 30, 40]\n"
          ]
        }
      ]
    },
    {
      "cell_type": "code",
      "source": [
        "my_list = [10, 20, 30, 20, 40]\n",
        "my_list.remove(20)  # Removes the first occurrence of 20\n",
        "print(my_list)  # Output: [10, 30, 20, 40]\n"
      ],
      "metadata": {
        "colab": {
          "base_uri": "https://localhost:8080/"
        },
        "id": "ERIs_-ugR7c6",
        "outputId": "7a0bc6be-e8ad-4a2e-e0a8-e788e612b6a1"
      },
      "execution_count": 17,
      "outputs": [
        {
          "output_type": "stream",
          "name": "stdout",
          "text": [
            "[10, 30, 20, 40]\n"
          ]
        }
      ]
    },
    {
      "cell_type": "code",
      "source": [],
      "metadata": {
        "id": "nmVPo7S3SMI6"
      },
      "execution_count": null,
      "outputs": []
    },
    {
      "cell_type": "markdown",
      "source": [
        "Q 4. Compare and contrast tuples and lists with examples.\n",
        "\n",
        "Ana--**Tuples** and **Lists** are both sequence data types in Python, but they differ in several ways. Let's compare and contrast them with examples:\n",
        "\n",
        "### 1. **Mutability**\n",
        "   - **Lists** are mutable, meaning they can be modified (elements can be added, removed, or changed).\n",
        "   - **Tuples** are immutable, meaning once they are created, their elements cannot be changed.\n",
        "\n",
        "**Example:**\n",
        "```python\n",
        "# List example (mutable)\n",
        "my_list = [1, 2, 3]\n",
        "my_list[0] = 10  # Modifying the first element\n",
        "my_list.append(4)  # Adding an element\n",
        "print(my_list)  # Output: [10, 2, 3, 4]\n",
        "\n",
        "# Tuple example (immutable)\n",
        "my_tuple = (1, 2, 3)\n",
        "# my_tuple[0] = 10  # This will raise a TypeError\n",
        "# my_tuple.append(4)  # This will also raise an AttributeError\n",
        "```\n",
        "\n",
        "### 2. **Syntax**\n",
        "   - **Lists** are defined using square brackets `[]`.\n",
        "   - **Tuples** are defined using parentheses `()`.\n",
        "\n",
        "**Example:**\n",
        "```python\n",
        "# List\n",
        "my_list = [1, 2, 3]\n",
        "\n",
        "# Tuple\n",
        "my_tuple = (1, 2, 3)\n",
        "```\n",
        "\n",
        "### 3. **Performance**\n",
        "   - **Tuples** are generally faster than **lists** because of their immutability. If you need a collection of items that won’t change, using a tuple can be more efficient.\n",
        "   \n",
        "**Example:**\n",
        "```python\n",
        "import timeit\n",
        "\n",
        "# Timing list creation\n",
        "print(timeit.timeit(stmt=\"[1, 2, 3, 4, 5]\", number=1000000))  # Output: Time taken to create lists\n",
        "\n",
        "# Timing tuple creation\n",
        "print(timeit.timeit(stmt=\"(1, 2, 3, 4, 5)\", number=1000000))  # Output: Time taken to create tuples\n",
        "```\n",
        "\n",
        "### 4. **Use Cases**\n",
        "   - **Lists** are used when you need a dynamic collection that can grow and shrink.\n",
        "   - **Tuples** are used for fixed data collections where the data should not change, such as coordinates or database records.\n",
        "\n",
        "**Example:**\n",
        "```python\n",
        "# List: Dynamic data that might change\n",
        "shopping_list = ['apples', 'bananas', 'oranges']\n",
        "shopping_list.append('grapes')\n",
        "\n",
        "# Tuple: Fixed data like coordinates\n",
        "coordinates = (40.7128, 74.0060)  # Latitude and Longitude for NYC\n",
        "```\n",
        "\n",
        "### 5. **Functions Available**\n",
        "   - **Lists** have many more built-in methods like `append()`, `remove()`, `sort()`, etc.\n",
        "   - **Tuples** have fewer methods since they cannot be modified. They mostly support basic operations like counting elements (`count()`) and finding indices (`index()`).\n",
        "\n",
        "**Example:**\n",
        "```python\n",
        "# List methods\n",
        "my_list = [3, 1, 2]\n",
        "my_list.sort()  # Sorts the list\n",
        "print(my_list)  # Output: [1, 2, 3]\n",
        "\n",
        "# Tuple methods\n",
        "my_tuple = (1, 2, 3, 1)\n",
        "print(my_tuple.count(1))  # Output: 2 (counts how many times 1 appears)\n",
        "```\n",
        "\n",
        "### 6. **Packing and Unpacking**\n",
        "   - Both **tuples** and **lists** can be \"packed\" or \"unpacked,\" meaning you can assign multiple variables at once.\n",
        "\n"
      ],
      "metadata": {
        "id": "xELdVvodSNTB"
      }
    },
    {
      "cell_type": "code",
      "source": [
        "# Tuple packing and unpacking\n",
        "my_tuple = (1, 2, 3)\n",
        "a, b, c = my_tuple\n",
        "print(a, b, c)  # Output: 1 2 3\n",
        "\n",
        "# List packing and unpacking\n",
        "my_list = [4, 5, 6]\n",
        "x, y, z = my_list\n",
        "print(x, y, z)  # Output: 4 5 6\n"
      ],
      "metadata": {
        "colab": {
          "base_uri": "https://localhost:8080/"
        },
        "id": "ck11vJXTUVaB",
        "outputId": "414e6504-65e6-491e-f406-32eb8819faa3"
      },
      "execution_count": 18,
      "outputs": [
        {
          "output_type": "stream",
          "name": "stdout",
          "text": [
            "1 2 3\n",
            "4 5 6\n"
          ]
        }
      ]
    },
    {
      "cell_type": "code",
      "source": [
        "# List methods\n",
        "my_list = [3, 1, 2]\n",
        "my_list.sort()  # Sorts the list\n",
        "print(my_list)  # Output: [1, 2, 3]\n",
        "\n",
        "# Tuple methods\n",
        "my_tuple = (1, 2, 3, 1)\n",
        "print(my_tuple.count(1))  # Output: 2 (counts how many times 1 appears)\n"
      ],
      "metadata": {
        "colab": {
          "base_uri": "https://localhost:8080/"
        },
        "id": "wj9q8pqlUcfK",
        "outputId": "374434c6-b95d-45c4-ab2c-272eaf8f91b5"
      },
      "execution_count": 19,
      "outputs": [
        {
          "output_type": "stream",
          "name": "stdout",
          "text": [
            "[1, 2, 3]\n",
            "2\n"
          ]
        }
      ]
    },
    {
      "cell_type": "code",
      "source": [],
      "metadata": {
        "id": "O5NwdtmDUiUL"
      },
      "execution_count": null,
      "outputs": []
    },
    {
      "cell_type": "markdown",
      "source": [
        "  Q 5. Describe the key features of sets and provide example of their uses.\n",
        "\n",
        "  Ans--**Sets** in Python are a powerful data structure with unique characteristics that make them useful for a variety of tasks. Here are the key features of sets, along with examples of their use:\n",
        "\n",
        "### Key Features of Sets\n",
        "\n",
        "1. **Unordered Collection**\n",
        "   - Sets do not maintain the order of elements. This means that elements are not indexed, and their order can appear arbitrary.\n",
        "   \n",
        "   **Example:**\n",
        "   ```python\n",
        "   my_set = {1, 2, 3}\n",
        "   print(my_set)  # Output might be {1, 2, 3} or {3, 2, 1}\n",
        "   ```\n",
        "\n",
        "2. **Unique Elements**\n",
        "   - Sets automatically eliminate duplicate values. Each element in a set is unique.\n",
        "\n",
        "   **Example:**\n",
        "   ```python\n",
        "   my_set = {1, 2, 2, 3, 4, 4}\n",
        "   print(my_set)  # Output: {1, 2, 3, 4}\n",
        "   ```\n",
        "\n",
        "3. **Mutable**\n",
        "   - Sets are mutable, which means you can add or remove elements. However, the elements themselves must be immutable types (e.g., integers, strings, tuples).\n",
        "\n",
        "   **Example:**\n",
        "   ```python\n",
        "   my_set = {1, 2, 3}\n",
        "   my_set.add(4)  # Add an element\n",
        "   my_set.remove(2)  # Remove an element\n",
        "   print(my_set)  # Output: {1, 3, 4}\n",
        "   ```\n",
        "\n",
        "4. **No Indexing or Slicing**\n",
        "   - Unlike lists or tuples, sets do not support indexing or slicing since they are unordered.\n",
        "\n",
        "   **Example:**\n",
        "   ```python\n",
        "   my_set = {1, 2, 3}\n",
        "   # my_set[0]  # This will raise a TypeError\n",
        "   ```\n",
        "\n",
        "5. **Efficient Membership Testing**\n",
        "   - Sets are optimized for fast membership testing, making it quick to check if an item is in the set.\n",
        "\n",
        "   **Example:**\n",
        "   ```python\n",
        "   my_set = {1, 2, 3}\n",
        "   print(2 in my_set)  # Output: True\n",
        "   ```\n",
        "\n",
        "6. **Set Operations**\n",
        "   - Sets support various mathematical operations like union, intersection, difference, and symmetric difference.\n",
        "\n",
        "   **Examples:**\n",
        "   ```python\n",
        "   set1 = {1, 2, 3}\n",
        "   set2 = {3, 4, 5}\n",
        "\n",
        "   # Union: Combines elements from both sets\n",
        "   print(set1 | set2)  # Output: {1, 2, 3, 4, 5}\n",
        "\n",
        "   # Intersection: Common elements between both sets\n",
        "   print(set1 & set2)  # Output: {3}\n",
        "\n",
        "   # Difference: Elements in set1 but not in set2\n",
        "   print(set1 - set2)  # Output: {1, 2}\n",
        "\n",
        "   # Symmetric Difference: Elements in either set but not in both\n",
        "   print(set1 ^ set2)  # Output: {1, 2, 4, 5}\n",
        "   ```\n",
        "\n",
        "7. **Set Comprehensions**\n",
        "   - Similar to list comprehensions, you can use set comprehensions to create sets.\n",
        "\n",
        "   **Example:**\n",
        "   ```python\n",
        "   my_set = {x for x in range(10) if x % 2 == 0}\n",
        "   print(my_set)  # Output: {0, 2, 4, 6, 8}\n",
        "   ```\n",
        "\n",
        "8. **Immutable Sets: `frozenset`**\n",
        "   - `frozenset` is an immutable version of a set. Once created, you cannot modify its elements.\n",
        "\n",
        "   **Example:**\n",
        "   ```python\n",
        "   frozen_set = frozenset([1, 2, 3])\n",
        "   # frozen_set.add(4)  # This will raise an AttributeError\n",
        "   ```\n",
        "\n",
        "\n",
        "   "
      ],
      "metadata": {
        "id": "LfXgejrtUjSE"
      }
    },
    {
      "cell_type": "code",
      "source": [
        "friends = {\"Alice\", \"Bob\", \"Charlie\"}\n",
        "coworkers = {\"Bob\", \"Dave\", \"Charlie\"}\n",
        "\n",
        "# Common people\n",
        "common = friends & coworkers\n",
        "print(common)  # Output: {'Charlie', 'Bob'}\n",
        "\n",
        "# People who are either friends or coworkers but not both\n",
        "unique_people = friends ^ coworkers\n",
        "print(unique_people)  # Output: {'Alice', 'Dave'}\n"
      ],
      "metadata": {
        "colab": {
          "base_uri": "https://localhost:8080/"
        },
        "id": "7mzyv3Q-WuAV",
        "outputId": "5c68918f-2279-4ef2-8690-d554297d8dfb"
      },
      "execution_count": 20,
      "outputs": [
        {
          "output_type": "stream",
          "name": "stdout",
          "text": [
            "{'Charlie', 'Bob'}\n",
            "{'Alice', 'Dave'}\n"
          ]
        }
      ]
    },
    {
      "cell_type": "code",
      "source": [
        "allowed_ids = {1001, 1002, 1003}\n",
        "user_id = 1002\n",
        "if user_id in allowed_ids:\n",
        "    print(\"Access granted\")  # Output: Access granted\n"
      ],
      "metadata": {
        "colab": {
          "base_uri": "https://localhost:8080/"
        },
        "id": "6QQhlnpCWzmW",
        "outputId": "fc99571f-b3c2-4e43-aa99-9859bf0525f4"
      },
      "execution_count": 21,
      "outputs": [
        {
          "output_type": "stream",
          "name": "stdout",
          "text": [
            "Access granted\n"
          ]
        }
      ]
    },
    {
      "cell_type": "code",
      "source": [
        "unique_visitors = set()\n",
        "unique_visitors.add(\"User1\")\n",
        "unique_visitors.add(\"User2\")\n",
        "unique_visitors.add(\"User1\")  # This will not be added again\n",
        "print(unique_visitors)  # Output: {'User1', 'User2'}\n"
      ],
      "metadata": {
        "colab": {
          "base_uri": "https://localhost:8080/"
        },
        "id": "kOabHPKbW2ui",
        "outputId": "9ff123f1-1839-42aa-8439-f98b5e2fcdee"
      },
      "execution_count": 22,
      "outputs": [
        {
          "output_type": "stream",
          "name": "stdout",
          "text": [
            "{'User2', 'User1'}\n"
          ]
        }
      ]
    },
    {
      "cell_type": "code",
      "source": [
        "even_numbers = {x for x in range(20) if x % 2 == 0}\n",
        "print(even_numbers)  # Output: {0, 2, 4, 6, 8, 10, 12, 14, 16, 18}\n"
      ],
      "metadata": {
        "colab": {
          "base_uri": "https://localhost:8080/"
        },
        "id": "8R5kCu3IW6LT",
        "outputId": "80ba66ab-1e0a-42ef-87ab-2108e7d83a77"
      },
      "execution_count": 23,
      "outputs": [
        {
          "output_type": "stream",
          "name": "stdout",
          "text": [
            "{0, 2, 4, 6, 8, 10, 12, 14, 16, 18}\n"
          ]
        }
      ]
    },
    {
      "cell_type": "code",
      "source": [],
      "metadata": {
        "id": "lQYHqvHrXArG"
      },
      "execution_count": null,
      "outputs": []
    },
    {
      "cell_type": "markdown",
      "source": [
        "Q 6. Discuss the use cases of tuples and sets in python programming .\n",
        "\n",
        "Ans -- Both **tuples** and **sets** are essential data structures in Python, each with unique properties that make them suitable for different scenarios. Here’s a detailed discussion on their use cases:\n",
        "\n",
        "### Tuples\n",
        "\n",
        "**Tuples** are immutable sequences in Python, meaning once created, they cannot be modified. They are useful in situations where you need to ensure that the data remains constant. Here are some common use cases:\n",
        "\n",
        "1. **Fixed Data Collections**\n",
        "   - Tuples are ideal for grouping related data that shouldn’t change. For example, representing a point in a 2D or 3D coordinate system, or returning multiple values from a function.\n",
        "\n",
        "   **Example:**\n",
        "   ```python\n",
        "   def get_coordinates():\n",
        "       return (40.7128, -74.0060)  # Latitude and Longitude for NYC\n",
        "\n",
        "   coordinates = get_coordinates()\n",
        "   print(coordinates)  # Output: (40.7128, -74.0060)\n",
        "   ```\n",
        "\n",
        "2. **Unchanging Configuration Data**\n",
        "   - Use tuples to store configuration data or constants that shouldn’t be altered throughout the program.\n",
        "\n",
        "   **Example:**\n",
        "   ```python\n",
        "   HTTP_METHODS = ('GET', 'POST', 'PUT', 'DELETE')\n",
        "   ```\n",
        "\n",
        "3. **Data Integrity**\n",
        "   - Tuples are used when you want to ensure data integrity, preventing accidental modification. For example, tuples can be used as keys in dictionaries because they are hashable (provided their elements are also hashable).\n",
        "\n",
        "   **Example:**\n",
        "   ```python\n",
        "   location = (40.7128, -74.0060)  # Tuple can be a key in a dictionary\n",
        "   location_info = {\n",
        "       location: \"New York City\"\n",
        "   }\n",
        "   print(location_info[location])  # Output: New York City\n",
        "   ```\n",
        "\n",
        "4. **Returning Multiple Values**\n",
        "   - Functions often return tuples to provide multiple results from a single function call.\n",
        "\n",
        "   **Example:**\n",
        "   ```python\n",
        "   def min_max(numbers):\n",
        "       return (min(numbers), max(numbers))\n",
        "\n",
        "   result = min_max([1, 3, 5, 7, 9])\n",
        "   print(result)  # Output: (1, 9)\n",
        "   ```\n",
        "\n",
        "5. **Packing and Unpacking**\n",
        "   - Tuples are used to pack and unpack multiple values in a single operation. This is especially useful in loops or when dealing with sequences of values.\n",
        "\n",
        "   **Example:**\n",
        "   ```python\n",
        "   # Packing\n",
        "   person = (\"Alice\", 30, \"Engineer\")\n",
        "\n",
        "   # Unpacking\n",
        "   name, age, profession = person\n",
        "   print(name, age, profession)  # Output: Alice 30 Engineer\n",
        "   ```\n",
        "\n",
        "### Sets\n",
        "\n",
        "**Sets** are collections of unique, unordered elements. They are particularly useful when you need to manage distinct items or perform set operations. Here are some common use cases:\n",
        "\n",
        "1. **Removing Duplicates**\n",
        "   - Sets are perfect for eliminating duplicate values from a list or other iterable.\n",
        "\n",
        "   **Example:**\n",
        "   ```python\n",
        "   numbers = [1, 2, 2, 3, 4, 4, 5]\n",
        "   unique_numbers = set(numbers)\n",
        "   print(unique_numbers)  # Output: {1, 2, 3, 4, 5}\n",
        "   ```\n",
        "\n",
        "2. **Membership Testing**\n",
        "   - Sets are optimized for fast membership testing, making them ideal for scenarios where you need to check the presence of an item frequently.\n",
        "\n",
        "   **Example:**\n",
        "   ```python\n",
        "   allowed_users = {\"alice\", \"bob\", \"charlie\"}\n",
        "   print(\"alice\" in allowed_users)  # Output: True\n",
        "   print(\"david\" in allowed_users)  # Output: False\n",
        "   ```\n",
        "\n",
        "3. **Set Operations**\n",
        "   - Use sets for mathematical operations like union, intersection, difference, and symmetric difference to compare and combine collections of items.\n",
        "\n",
        "   **Example:**\n",
        "   ```python\n",
        "   set1 = {1, 2, 3, 4}\n",
        "   set2 = {3, 4, 5, 6}\n",
        "\n",
        "   # Union\n",
        "   print(set1 | set2)  # Output: {1, 2, 3, 4, 5, 6}\n",
        "\n",
        "   # Intersection\n",
        "   print(set1 & set2)  # Output: {3, 4}\n",
        "\n",
        "   # Difference\n",
        "   print(set1 - set2)  # Output: {1, 2}\n",
        "\n",
        "   # Symmetric Difference\n",
        "   print(set1 ^ set2)  # Output: {1, 2, 5, 6}\n",
        "   ```\n",
        "\n",
        "4. **Ensuring Uniqueness**\n",
        "   - Use sets to ensure that a collection of items remains unique, such as tracking unique visitors to a website or distinct items in a database.\n",
        "\n",
        "   **Example:**\n",
        "   ```python\n",
        "   visitor_log = set()\n",
        "   visitor_log.add(\"User1\")\n",
        "   visitor_log.add(\"User2\")\n",
        "   visitor_log.add(\"User1\")  # Duplicate, won't be added\n",
        "   print(visitor_log)  # Output: {'User1', 'User2'}\n",
        "   ```\n",
        "\n",
        "5. **Set Comprehensions**\n",
        "   - Create sets using set comprehensions for concise and readable code when generating sets based on conditions.\n",
        "\n",
        "   **Example:**\n",
        "   ```python\n",
        "   squares = {x**2 for x in range(10)}\n",
        "   print(squares)  # Output: {0, 1, 4, 9, 16, 25, 36, 49, 64, 81}\n",
        "  "
      ],
      "metadata": {
        "id": "BbOIJDQ4XB5s"
      }
    },
    {
      "cell_type": "code",
      "source": [
        "squares = {x**2 for x in range(10)}\n",
        "print(squares)  # Output: {0, 1, 4, 9, 16, 25, 36, 49, 64, 81}\n"
      ],
      "metadata": {
        "colab": {
          "base_uri": "https://localhost:8080/"
        },
        "id": "hMFqihQrX_pn",
        "outputId": "99a7472a-b78e-4284-ce9a-7969a35bfead"
      },
      "execution_count": 24,
      "outputs": [
        {
          "output_type": "stream",
          "name": "stdout",
          "text": [
            "{0, 1, 64, 4, 36, 9, 16, 49, 81, 25}\n"
          ]
        }
      ]
    },
    {
      "cell_type": "code",
      "source": [
        "visitor_log = set()\n",
        "visitor_log.add(\"User1\")\n",
        "visitor_log.add(\"User2\")\n",
        "visitor_log.add(\"User1\")  # Duplicate, won't be added\n",
        "print(visitor_log)  # Output: {'User1', 'User2'}\n"
      ],
      "metadata": {
        "colab": {
          "base_uri": "https://localhost:8080/"
        },
        "id": "l28YFJywYEVg",
        "outputId": "03f1d191-e87c-4b90-8630-2768828ac7b8"
      },
      "execution_count": 25,
      "outputs": [
        {
          "output_type": "stream",
          "name": "stdout",
          "text": [
            "{'User2', 'User1'}\n"
          ]
        }
      ]
    },
    {
      "cell_type": "code",
      "source": [],
      "metadata": {
        "id": "dAdvY8mDYIvZ"
      },
      "execution_count": null,
      "outputs": []
    },
    {
      "cell_type": "markdown",
      "source": [
        "Q 7. Describe how to add , modify , and delete item in a dictionary with examples .\n",
        "\n",
        "Ans -- Dictionaries in Python are mutable data structures that store key-value pairs. You can easily add, modify, and delete items in a dictionary. Here’s how you can do each of these operations with examples:\n",
        "\n",
        "### 1. Adding Items to a Dictionary\n",
        "\n",
        "You can add a new key-value pair to a dictionary by simply assigning a value to a new key. If the key already exists, the value will be updated.\n",
        "\n",
        "**Example:**\n",
        "```python\n",
        "# Initial dictionary\n",
        "my_dict = {'name': 'Alice', 'age': 25}\n",
        "\n",
        "# Adding a new key-value pair\n",
        "my_dict['city'] = 'New York'\n",
        "\n",
        "print(my_dict)  # Output: {'name': 'Alice', 'age': 25, 'city': 'New York'}\n",
        "```\n",
        "\n",
        "### 2. Modifying Items in a Dictionary\n",
        "\n",
        "To modify an existing item in a dictionary, you access the dictionary using the key and assign a new value to it.\n",
        "\n",
        "**Example:**\n",
        "```python\n",
        "# Initial dictionary\n",
        "my_dict = {'name': 'Alice', 'age': 25, 'city': 'New York'}\n",
        "\n",
        "# Modifying the value of an existing key\n",
        "my_dict['age'] = 26\n",
        "\n",
        "print(my_dict)  # Output: {'name': 'Alice', 'age': 26, 'city': 'New York'}\n",
        "```\n",
        "\n",
        "### 3. Deleting Items from a Dictionary\n",
        "\n",
        "You can delete items from a dictionary using several methods:\n",
        "\n",
        "- **Using the `del` keyword:** Removes the key-value pair specified by the key.\n",
        "- **Using the `pop()` method:** Removes the key-value pair specified by the key and returns the value.\n",
        "- **Using the `popitem()` method:** Removes and returns the last inserted key-value pair as a tuple.\n",
        "- **Using the `clear()` method:** Removes all items from the dictionary.\n",
        "\n",
        "\n",
        "\n",
        "\n"
      ],
      "metadata": {
        "id": "nFaCqdRuYKYj"
      }
    },
    {
      "cell_type": "code",
      "source": [
        "# Initial dictionary\n",
        "my_dict = {'name': 'Alice', 'age': 26, 'city': 'New York'}\n",
        "\n",
        "# Deleting an item\n",
        "del my_dict['city']\n",
        "\n",
        "print(my_dict)  # Output: {'name': 'Alice', 'age': 26}\n"
      ],
      "metadata": {
        "colab": {
          "base_uri": "https://localhost:8080/"
        },
        "id": "oGodLYdBZfen",
        "outputId": "d30a929d-fef6-405a-f741-6f7ffab3036f"
      },
      "execution_count": 26,
      "outputs": [
        {
          "output_type": "stream",
          "name": "stdout",
          "text": [
            "{'name': 'Alice', 'age': 26}\n"
          ]
        }
      ]
    },
    {
      "cell_type": "code",
      "source": [
        "# Initial dictionary\n",
        "my_dict = {'name': 'Alice', 'age': 26, 'city': 'New York'}\n",
        "\n",
        "# Removing and getting the value of a key\n",
        "age = my_dict.pop('age')\n",
        "\n",
        "print(my_dict)  # Output: {'name': 'Alice', 'city': 'New York'}\n",
        "print(age)      # Output: 26\n"
      ],
      "metadata": {
        "colab": {
          "base_uri": "https://localhost:8080/"
        },
        "id": "GPYkWQRgZmwF",
        "outputId": "a2a32986-124e-4ed9-ded6-97790930a0fc"
      },
      "execution_count": 27,
      "outputs": [
        {
          "output_type": "stream",
          "name": "stdout",
          "text": [
            "{'name': 'Alice', 'city': 'New York'}\n",
            "26\n"
          ]
        }
      ]
    },
    {
      "cell_type": "code",
      "source": [
        "# Initial dictionary\n",
        "my_dict = {'name': 'Alice', 'age': 26, 'city': 'New York'}\n",
        "\n",
        "# Removing and getting the last item\n",
        "item = my_dict.popitem()\n",
        "\n",
        "print(my_dict)  # Output: {'name': 'Alice', 'age': 26}\n",
        "print(item)     # Output: ('city', 'New York')  # Note: The last item may vary in different Python versions\n"
      ],
      "metadata": {
        "colab": {
          "base_uri": "https://localhost:8080/"
        },
        "id": "G0QmIvJDZ1aS",
        "outputId": "87d6b755-384a-4415-99fb-1d85e75e6182"
      },
      "execution_count": 28,
      "outputs": [
        {
          "output_type": "stream",
          "name": "stdout",
          "text": [
            "{'name': 'Alice', 'age': 26}\n",
            "('city', 'New York')\n"
          ]
        }
      ]
    },
    {
      "cell_type": "code",
      "source": [
        "# Initial dictionary\n",
        "my_dict = {'name': 'Alice', 'age': 26, 'city': 'New York'}\n",
        "\n",
        "# Removing all items\n",
        "my_dict.clear()\n",
        "\n",
        "print(my_dict)  # Output: {}\n"
      ],
      "metadata": {
        "colab": {
          "base_uri": "https://localhost:8080/"
        },
        "id": "bua1DayrZ5dn",
        "outputId": "29b823b9-bbc7-4bd8-f2fa-a2472b602f32"
      },
      "execution_count": 29,
      "outputs": [
        {
          "output_type": "stream",
          "name": "stdout",
          "text": [
            "{}\n"
          ]
        }
      ]
    },
    {
      "cell_type": "code",
      "source": [],
      "metadata": {
        "id": "NUsYYnJPZ8aF"
      },
      "execution_count": null,
      "outputs": []
    },
    {
      "cell_type": "markdown",
      "source": [
        "Q 8. Discuss the importance of  dictionary keys beings immutable and provide examples .\n",
        "\n",
        "Ans --In Python, dictionary keys must be immutable. This is a crucial property because it ensures that the keys remain constant and their hash values do not change during their lifetime. This immutability is important for several reasons:\n",
        "\n",
        "### Importance of Dictionary Key Immutability\n",
        "\n",
        "1. **Hashing Consistency**\n",
        "   - Dictionaries use hash tables to manage and retrieve key-value pairs efficiently. The hash value of a key is computed once and used to locate the key in the hash table. If keys were mutable, their hash value could change, leading to inconsistencies and difficulties in finding the key in the dictionary.\n",
        "\n",
        "2. **Key Uniqueness**\n",
        "   - Immutability guarantees that each key in a dictionary remains unique. If keys were mutable, it would be possible for the same logical key to be treated as different entries if its value changed, which would violate the unique key constraint.\n",
        "\n",
        "3. **Reliability in Data Management**\n",
        "   - Immutable keys ensure that the integrity of data remains intact. This is important for maintaining the accuracy and consistency of the data structure. For instance, when using dictionaries to manage configurations or settings, you want to ensure that keys representing specific settings don’t change unpredictably.\n",
        "\n",
        "### Examples of Immutable and Mutable Keys\n",
        "\n",
        "**Immutable Keys**\n",
        "\n",
        "- **Strings, Numbers, and Tuples (containing only immutable elements) are valid keys.**\n",
        "\n",
        "  **Example with Strings:**\n",
        "  ```python\n",
        "  my_dict = {'name': 'Alice', 'age': 30}\n",
        "  print(my_dict['name'])  # Output: Alice\n",
        "  ```\n",
        "\n",
        "  **Example with Tuples:**\n",
        "  ```python\n",
        "  my_dict = {(1, 2): 'point1', (3, 4): 'point2'}\n",
        "  print(my_dict[(1, 2)])  # Output: point1\n",
        "  ```\n",
        "\n",
        "**Mutable Keys**\n",
        "\n",
        "- **Lists, Sets, and Dictionaries themselves are mutable and therefore cannot be used as dictionary keys.**\n",
        "\n",
        "  **Example with List (will raise an error):**\n",
        "  ```python\n",
        "  my_dict = {[1, 2]: 'list_key'}  # This will raise a TypeError\n",
        "  ```\n",
        "\n",
        "  "
      ],
      "metadata": {
        "id": "mTdz2wYKajVX"
      }
    },
    {
      "cell_type": "code",
      "source": [
        "my_dict = {'name': 'Alice', 'age': 30}\n",
        "print(my_dict['name'])  # Output: Alice\n"
      ],
      "metadata": {
        "colab": {
          "base_uri": "https://localhost:8080/"
        },
        "id": "NZUMP84vb14A",
        "outputId": "d31b0345-f860-40f3-d101-9f4457e51b09"
      },
      "execution_count": 30,
      "outputs": [
        {
          "output_type": "stream",
          "name": "stdout",
          "text": [
            "Alice\n"
          ]
        }
      ]
    },
    {
      "cell_type": "code",
      "source": [
        "my_dict = {(1, 2): 'point1', (3, 4): 'point2'}\n",
        "print(my_dict[(1, 2)])  # Output: point1\n"
      ],
      "metadata": {
        "colab": {
          "base_uri": "https://localhost:8080/"
        },
        "id": "9EuOzuURb7_f",
        "outputId": "cbc92dad-b0b5-407f-a344-003566285aaf"
      },
      "execution_count": 31,
      "outputs": [
        {
          "output_type": "stream",
          "name": "stdout",
          "text": [
            "point1\n"
          ]
        }
      ]
    },
    {
      "cell_type": "code",
      "source": [
        "my_dict = {{\"key\": \"value\"}: 'dict_key'}  # This will raise a TypeError\n",
        "\n"
      ],
      "metadata": {
        "colab": {
          "base_uri": "https://localhost:8080/",
          "height": 158
        },
        "id": "2dP2YxKsb-xj",
        "outputId": "b77b2398-9645-4bd0-e555-ff4095711b35"
      },
      "execution_count": 33,
      "outputs": [
        {
          "output_type": "error",
          "ename": "TypeError",
          "evalue": "unhashable type: 'dict'",
          "traceback": [
            "\u001b[0;31m---------------------------------------------------------------------------\u001b[0m",
            "\u001b[0;31mTypeError\u001b[0m                                 Traceback (most recent call last)",
            "\u001b[0;32m<ipython-input-33-db272fbb81ee>\u001b[0m in \u001b[0;36m<cell line: 1>\u001b[0;34m()\u001b[0m\n\u001b[0;32m----> 1\u001b[0;31m \u001b[0mmy_dict\u001b[0m \u001b[0;34m=\u001b[0m \u001b[0;34m{\u001b[0m\u001b[0;34m{\u001b[0m\u001b[0;34m\"key\"\u001b[0m\u001b[0;34m:\u001b[0m \u001b[0;34m\"value\"\u001b[0m\u001b[0;34m}\u001b[0m\u001b[0;34m:\u001b[0m \u001b[0;34m'dict_key'\u001b[0m\u001b[0;34m}\u001b[0m  \u001b[0;31m# This will raise a TypeError\u001b[0m\u001b[0;34m\u001b[0m\u001b[0;34m\u001b[0m\u001b[0m\n\u001b[0m\u001b[1;32m      2\u001b[0m \u001b[0;34m\u001b[0m\u001b[0m\n",
            "\u001b[0;31mTypeError\u001b[0m: unhashable type: 'dict'"
          ]
        }
      ]
    },
    {
      "cell_type": "code",
      "source": [],
      "metadata": {
        "id": "7I6Wy0c3cCeC"
      },
      "execution_count": null,
      "outputs": []
    },
    {
      "cell_type": "markdown",
      "source": [],
      "metadata": {
        "id": "Tt-xi_K5cSCU"
      }
    }
  ]
}