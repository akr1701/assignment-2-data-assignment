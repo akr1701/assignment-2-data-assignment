{
  "nbformat": 4,
  "nbformat_minor": 0,
  "metadata": {
    "colab": {
      "provenance": [],
      "authorship_tag": "ABX9TyM/FJTEi/fQPwKj5SynzH7l",
      "include_colab_link": true
    },
    "kernelspec": {
      "name": "python3",
      "display_name": "Python 3"
    },
    "language_info": {
      "name": "python"
    }
  },
  "cells": [
    {
      "cell_type": "markdown",
      "metadata": {
        "id": "view-in-github",
        "colab_type": "text"
      },
      "source": [
        "<a href=\"https://colab.research.google.com/github/akr1701/assignment-2-data-assignment/blob/main/NUMPY_ASSIGNMENT.ipynb\" target=\"_parent\"><img src=\"https://colab.research.google.com/assets/colab-badge.svg\" alt=\"Open In Colab\"/></a>"
      ]
    },
    {
      "cell_type": "code",
      "execution_count": null,
      "metadata": {
        "id": "dy5wnAB7oKG0"
      },
      "outputs": [],
      "source": []
    },
    {
      "cell_type": "markdown",
      "source": [
        "1. Explain  the purpose and advantages of Numpy in scientific computing and data analysis. How does it enhance  python 's capabilites for numerical operations ?\n",
        "\n",
        "NumPy is a powerful library in Python designed specifically for numerical and scientific computing. It provides support for large, multi-dimensional arrays and matrices, along with a vast collection of mathematical functions to operate on these arrays. Here's how it enhances Python's capabilities for numerical operations and its benefits for scientific computing and data analysis:\n",
        "\n",
        "### Purpose of NumPy:\n",
        "1. **Efficient Handling of Multi-dimensional Arrays**:\n",
        "   - At its core, NumPy introduces a powerful data structure known as the `ndarray` (N-dimensional array), which allows the storage and manipulation of large datasets. Unlike Python's built-in lists, NumPy arrays are optimized for high-performance mathematical operations and can handle much larger datasets efficiently.\n",
        "   \n",
        "2. **Mathematical and Statistical Operations**:\n",
        "   - NumPy provides a wide range of mathematical functions (e.g., trigonometric, algebraic, and statistical functions) that can be applied on entire arrays. This makes it easy to perform element-wise operations, linear algebra, Fourier transforms, and other mathematical calculations.\n",
        "\n",
        "3. **Broadcasting**:\n",
        "   - NumPy introduces the concept of broadcasting, which allows operations to be performed on arrays of different shapes without needing explicit loops or reshaping. This increases flexibility when dealing with arrays of varying sizes.\n",
        "\n",
        "4. **Integration with Other Libraries**:\n",
        "   - NumPy serves as the foundation for other data science and machine learning libraries, such as Pandas, SciPy, TensorFlow, and scikit-learn. Many of these libraries are built on top of NumPy and rely on its efficient numerical operations.\n",
        "\n",
        "### Advantages of NumPy in Scientific Computing:\n",
        "1. **Performance**:\n",
        "   - **Faster Execution**: NumPy is implemented in C, and many of its operations are vectorized, meaning they operate directly at the hardware level using optimized C libraries. This results in faster execution compared to Python loops, especially when dealing with large datasets.\n",
        "   - **Efficient Memory Usage**: Unlike Python lists, which are arrays of pointers to objects, NumPy arrays store data in contiguous memory blocks, reducing overhead and improving cache efficiency.\n",
        "\n",
        "2. **Vectorization and Element-wise Operations**:\n",
        "   - With NumPy, you can apply operations to entire arrays without the need for explicit Python loops. This process is known as **vectorization**, which speeds up execution and leads to more concise, readable code.\n",
        "3. **Handling of Large Datasets**:\n",
        "   - NumPy is well-suited for large-scale data analysis because of its efficient memory usage and the ability to handle arrays with millions of elements. Its array operations are optimized for performance and scale better than Python's standard data structures (e.g., lists).\n",
        "\n",
        "4. **Multidimensional Array Support**:\n",
        "   - NumPy simplifies working with multidimensional data, making it easier to perform operations like slicing, reshaping, and indexing. This is especially useful in domains like machine learning, image processing, and numerical simulations.\n",
        "\n",
        "5. **Mathematical Capabilities**:\n",
        "   - NumPy provides efficient implementations of common mathematical functions (e.g., linear algebra, random number generation, Fourier transformations). These operations are indispensable for scientific computing tasks, such as solving equations or processing large data sets.\n",
        "\n",
        "6. **Ease of Use and Interactivity**:\n",
        "   - NumPy's syntax is intuitive, and its array operations are similar to operations in MATLAB and other scientific computing tools. This makes NumPy accessible for users transitioning from these tools and contributes to a smoother data manipulation experience.\n",
        "\n",
        "### Enhancing Python's Capabilities for Numerical Operations:\n",
        "1. **Array Manipulation**:\n",
        "   - Python’s default data structures (like lists) are not well-suited for large-scale numerical computations because they are flexible but relatively slow. NumPy’s arrays are faster, more memory-efficient, and designed for operations on numerical data.\n",
        "   \n",
        "2. **Linear Algebra and Matrix Operations**:\n",
        "   - NumPy comes with a suite of linear algebra functions (e.g., matrix multiplication, determinant, inverse, eigenvalues) that are optimized for numerical efficiency. This is essential for areas like physics, engineering, and machine learning.\n",
        "\n",
        "3. **Statistical Analysis**:\n",
        "   - For scientific research and data analysis, NumPy provides key functions for statistical computations like mean, standard deviation, variance, and more. These can be applied directly to arrays, saving time and effort.\n",
        "\n",
        "### Summary of Benefits:\n",
        "- **Speed**: Optimized, vectorized operations for faster computations.\n",
        "- **Memory Efficiency**: Contiguous memory allocation reduces overhead.\n",
        "- **Expressiveness**: Concise syntax for complex numerical tasks.\n",
        "- **Integration**: Serves as a base for other powerful libraries in data science and machine learning.\n",
        "- **Flexibility**: Supports a wide range of numerical and mathematical operations that are critical for scientific computing.\n",
        "\n",
        "In short, NumPy is a cornerstone of the scientific Python ecosystem, greatly enhancing Python's ability to perform high-performance numerical computing.\n"
      ],
      "metadata": {
        "id": "dDqhGEWbopcJ"
      }
    },
    {
      "cell_type": "markdown",
      "source": [
        "2. Compare and contrast np. mean () and np.average () functions in Numpy . When would you use one over the other?\n",
        "\n",
        "In NumPy, both `np.mean()` and `np.average()` are used to compute the average of elements in an array, but they have some differences in functionality and use cases. Let’s break down the comparison and contrast between these two functions:\n",
        "\n",
        "### 1. **Basic Differences**:\n",
        "- **`np.mean()`**:\n",
        "  - **Definition**: It calculates the arithmetic mean (or average) of the elements in an array.\n",
        "  - **Weights**: Does **not** support weighted averages; it treats all elements equally.\n",
        "  - **Usage**: `np.mean()` is primarily used when you want a simple, unweighted mean of the array elements.\n",
        "\n",
        "- **`np.average()`**:\n",
        "  - **Definition**: It also computes the arithmetic mean but has the additional capability to compute a **weighted average** if a set of weights is provided.\n",
        "  - **Weights**: Supports **weighted averages** when a `weights` parameter is specified. When no weights are provided, `np.average()` works exactly like `np.mean()`.\n",
        "\n",
        "### 2. **Syntax and Parameters**:\n",
        "- **`np.mean()`**:\n",
        "  ```python\n",
        "  np.mean(arr, axis=None, dtype=None, out=None, keepdims=<no_value>)\n",
        "  ```\n",
        "  - **`arr`**: Input array or data.\n",
        "  - **`axis`**: Axis along which to compute the mean. Default is `None`, meaning the mean of the flattened array is computed.\n",
        "  - **`dtype`**: Data type to perform calculations.\n",
        "  - **`out`**: Optional output array to store the result.\n",
        "  - **`keepdims`**: If `True`, retains reduced axes in the result.\n",
        "\n",
        "- **`np.average()`**:\n",
        "  ```python\n",
        "  np.average(arr, axis=None, weights=None, returned=False)\n",
        "  ```\n",
        "  - **`arr`**: Input array or data.\n",
        "  - **`axis`**: Axis along which to compute the average. Default is `None`.\n",
        "  - **`weights`**: Sequence of weights corresponding to the data elements.\n",
        "  - **`returned`**: If `True`, returns the sum of weights along with the average. Useful when weighted averages are computed.\n",
        "  \n",
        "### 3. **Weighted vs Unweighted Calculations**:\n",
        "- **`np.mean()`**:\n",
        "  - Always computes the **simple mean** (i.e., unweighted).\n",
        "### 4. **Return of Sum of Weights (`returned` in `np.average()`)**:\n",
        "- `np.average()` has an additional parameter `returned` which, if set to `True`, returns a tuple containing the weighted average and the sum of weights used in the calculation.\n",
        "### 5. **Axis Parameter**:\n",
        "Both functions accept the `axis` parameter, allowing you to calculate the mean or weighted average along a specific axis in a multi-dimensional array.\n",
        "### 6. **When to Use One Over the Other**:\n",
        "- **Use `np.mean()`**:\n",
        "  - When you just need the simple arithmetic mean of the data without any weighting.\n",
        "  - It is a more direct and common method for averaging, especially if you don't need weights.\n",
        "  \n",
        "  Example use case:\n",
        "  - Computing the average temperature of a week (where each day is equally weighted).\n",
        "  \n",
        "- **Use `np.average()`**:\n",
        "  - When you need to compute a **weighted average**, where different elements contribute more or less to the average based on their weight.\n",
        "  - If you don’t provide weights, it still works like `np.mean()`.\n",
        "  \n",
        "  Example use case:\n",
        "  - Computing a student's GPA where each course has a different credit weight.\n",
        "  \n",
        "### Summary Table:\n",
        "| Feature                | `np.mean()`                        | `np.average()`                             |\n",
        "|------------------------|------------------------------------|--------------------------------------------|\n",
        "| Type of Mean           | Arithmetic mean (simple average)   | Arithmetic mean (simple or weighted average) |\n",
        "| Weights                | Not supported                      | Supported with the `weights` parameter     |\n",
        "| Axis                   | Supported                          | Supported                                  |\n",
        "| Sum of Weights Return   | Not supported                      | Supported with `returned=True`             |\n",
        "| Typical Use Case        | Simple averaging of data           | Weighted averaging (e.g., GPA calculations) |\n",
        "\n",
        "In conclusion, you would typically use `np.mean()` for straightforward averaging when all elements should contribute equally, and `np.average()` when you need to consider different weights for the elements, or when you need both the average and the sum of weights.\n"
      ],
      "metadata": {
        "id": "S2v-kNu2qX02"
      }
    },
    {
      "cell_type": "markdown",
      "source": [
        "3. Describe the methods for reversing a numpy array along different axes. provides examples for 1D and 2D arrays.\n",
        "\n",
        "Reversing a NumPy array along different axes can be done using several methods. These methods allow you to reverse the elements either in a 1D array (reverse all elements) or in a multi-dimensional array (reverse along specific axes).\n",
        "\n",
        "### Methods for Reversing a NumPy Array:\n",
        "1. **Using Slicing (`[::-1]`)**:\n",
        "   - Slicing is a concise way to reverse arrays along an axis. The `[::-1]` slice operation reverses the elements of the array.\n",
        "\n",
        "2. **Using `np.flip()`**:\n",
        "   - This method reverses the order of elements along a specified axis (or all axes, if desired). It works for both 1D and multi-dimensional arrays.\n",
        "\n",
        "3. **Using `np.flipud()` and `np.fliplr()`**:\n",
        "   - These are special functions to reverse a 2D array vertically (flip up-down) or horizontally\n",
        "### Summary of Methods:\n",
        "- **Slicing (`[::-1]`)**:\n",
        "  - Works for reversing along a specific axis.\n",
        "  - Can be used for both 1D and 2D arrays.\n",
        "  \n",
        "- **`np.flip()`**:\n",
        "  - General-purpose method for reversing an array along any axis.\n",
        "  - Works for arrays of any dimensionality.\n",
        "\n",
        "- **`np.flipud()` and `np.fliplr()`**:\n",
        "  - Specialized methods for 2D arrays to reverse vertically and horizontally\n",
        "\n",
        "# Reverse rows (axis 0)\n",
        "reversed_rows = arr_2d[::-1, :]  # [[7 8 9], [4 5 6], [1 2 3]]\n",
        "reversed_rows_flip = np.flip(arr_2d, axis=0)  # Same result\n",
        "\n",
        "# Reverse columns (axis 1)\n",
        "reversed_cols = arr_2d[:, ::-1]  # [[3 2 1], [6 5 4], [9 8 7]]\n",
        "reversed_cols_flip = np.flip(arr_2d, axis=1)  # Same result\n",
        "\n",
        "# Flip up-down\n",
        "reversed_ud = np.flipud(arr_2d)  # [[7 8 9], [4 5 6], [1 2 3]]\n",
        "\n",
        "# Flip left-right\n",
        "reversed_lr = np.fliplr(arr_2d)  # [[3 2 1], [6 5 4], [9 8 7]]\n",
        "```"
      ],
      "metadata": {
        "id": "4rP3vlFgr_nG"
      }
    },
    {
      "cell_type": "markdown",
      "source": [
        "4. How can you determine the data type of elements in a Numpy array ? Discussthe important of data types in memory management and performance .\n",
        "\n",
        "In NumPy, data types (referred to as **dtypes**) define the kind of elements stored in an array, and they play a crucial role in memory management and performance. Understanding the data type of elements in an array allows you to efficiently manage memory and improve the performance of numerical computations.\n",
        "\n",
        "### How to Determine the Data Type of Elements in a NumPy Array:\n",
        "\n",
        "1. **Using the `.dtype` attribute**:\n",
        "   - You can determine the data type of the elements in a NumPy array by accessing the `dtype` attribute of the array. This gives you information about the type of data stored (e.g., integers, floating-point numbers, etc.).\n",
        "2. **Using the `type()` function**:\n",
        "   - You can also use the Python `type()` function on an element of the array to determine the type of individual elements.\n",
        "3. **Using `np.issubdtype()`**:\n",
        "   - This method checks if the data type of an array is a subtype of a given type (e.g., integer, floating-point).\n",
        "4. **Using `astype()` to change or inspect data type**:\n",
        "   - The `astype()` method allows you to convert the data type of an array to another type and also provides an opportunity to check and validate how data types change.\n",
        "\n",
        "### Importance of Data Types in Memory Management and Performance:\n",
        "\n",
        "1. **Memory Management**:\n",
        "   - **Data Types Define Memory Usage**: In NumPy, each data type (e.g., `int32`, `float64`, etc.) uses a fixed amount of memory for each element. For example, an `int32` uses 4 bytes, while a `float64` uses 8 bytes per element. Choosing the appropriate data type can help you manage memory efficiently, especially when dealing with large datasets.\n",
        "     - Example:\n",
        "       - `int8`: 1 byte per element (values range from -128 to 127)\n",
        "       - `int32`: 4 bytes per element (values range from −2,147,483,648 to 2,147,483,647)\n",
        "       - `float64`: 8 bytes per element (double-precision floating point)\n",
        "   - **Reducing Memory Overhead**: If your dataset only needs small integers (e.g., pixel values in an image, which are in the range 0–255), using `int8` will save memory compared to `int32` or `float6\n",
        "2. **Performance**:\n",
        "   - **Data Types Affect Computational Speed**: Smaller data types generally lead to faster computations, as they involve less data to process and move in memory. For example, performing calculations with `int32` or `float32` will typically be faster than with `int64` or `float64`, especially on systems with limited resources.\n",
        "   - **Optimizing for the Right Precision**: Using higher precision than needed can slow down computations. For instance, unless you need the precision of `float64` (64-bit floating point), it's often better to use `float32` to save memory and potentially improve performance.\n",
        "     - In machine learning, using `float32` is common because it offers a good balance between precision and performance. Using `float64` might give slightly more precision but would require double the memory and may reduce performance due to the extra computational load.\n",
        "   - **Vectorized Operations Benefit from Optimal Data Types**: NumPy's ability to perform operations on entire arrays (vectorization) is highly optimized for specific data types. When using the right data type, these operations can be performed in parallel, which improves performance significantly.\n",
        "\n",
        "3. **Compatibility with Other Libraries**:\n",
        "   - **Interfacing with C/C++ Libraries**: NumPy arrays often need to interface with C or C++ libraries. Using the correct data type ensures compatibility and minimizes the overhead of data type conversions when passing data between NumPy and other languages.\n",
        "   - **GPU Acceleration**: Libraries like TensorFlow and PyTorch often work with `float32` data types for performance on GPUs. When working with such libraries, using `float32` in NumPy will help avoid unnecessary type conversions and take advantage of hardware acceleration.\n",
        "\n",
        "### Choosing the Right Data Type:\n",
        "\n",
        "1. **Integer Types** (`int8`, `int16`, `int32`, `int64`):\n",
        "   - Use these when you are working with data that consists of whole numbers (e.g., counts, pixel values, or binary data).\n",
        "   - Choose smaller types (e.g., `int8`, `int16`) if the range of values allows, to conserve memory.\n",
        "\n",
        "2. **Floating Point Types** (`float16`, `float32`, `float64`):\n",
        "   - Use these when you are working with real numbers, especially in scientific computations, machine learning, or financial analysis.\n",
        "   - Prefer `float32` when precision requirements are lower, and performance and memory efficiency are important.\n",
        "\n",
        "3. **Boolean Type** (`bool`):\n",
        "   - Use this when your data is binary (True/False), as it only uses 1 bit per element (in practice, 1 byte is allocated for each element).\n",
        "\n",
        "### Conclusion:\n",
        "\n",
        "- **Determining the data type**: You can easily check the data type of a NumPy array using the `.dtype` attribute or other methods. This is essential for understanding the structure of your data and ensuring optimal performance.\n",
        "- **Importance of data types**:\n",
        "  - **Memory Management**: Choosing the right data type minimizes memory usage, especially for large datasets.\n",
        "  - **Performance**: Smaller or more appropriate data types can lead to faster computations, while using larger types than necessary can slow down processing and increase memory requirements.\n",
        "  \n",
        "Selecting the appropriate data type for your array based on the data and the specific use case is key to maximizing the efficiency of your programs."
      ],
      "metadata": {
        "id": "O9IWvKbGtx4d"
      }
    },
    {
      "cell_type": "markdown",
      "source": [
        "5. Define ndarrays in Numpy and Explain their key features . How do they differ from standard python lists?\n",
        "\n",
        "### Definition of `ndarray` in NumPy:\n",
        "In NumPy, an `ndarray` (short for N-dimensional array) is the core data structure used for storing and manipulating numerical data in a grid-like fashion. An `ndarray` can have any number of dimensions, including 1D arrays (vectors), 2D arrays (matrices), and even higher-dimensional arrays.\n",
        "\n",
        "### Key Features of `ndarray`:\n",
        "1. **N-Dimensional Support**:\n",
        "   - NumPy arrays can handle data of any number of dimensions. This flexibility makes `ndarray` suitable for a wide variety of tasks such as working with vectors (1D), matrices (2D), and higher-dimensional tensors.\n",
        "2. **Homogeneous Data**:\n",
        "   - All elements in an `ndarray` must be of the same type (e.g., all integers or all floating-point numbers). This homogeneity ensures better memory efficiency and computational performance, compared to Python lists which can store mixed types.\n",
        "\n",
        "3. **Efficient Memory Use**:\n",
        "   - `ndarray` objects are stored in contiguous blocks of memory, which leads to more efficient memory usage. This is in contrast to Python lists, which store pointers to objects, leading to higher memory overhead.\n",
        "\n",
        "4. **Fixed Size**:\n",
        "   - The size of a NumPy array is fixed upon creation, meaning that elements cannot be added or removed after the array is created. This allows for more efficient memory management.\n",
        "\n",
        "5. **Fast Vectorized Operations**:\n",
        "   - NumPy arrays support **vectorized operations**, meaning you can apply operations to entire arrays without the need for explicit loops. This leads to significant performance improvements for mathematical and scientific computations.\n",
        "6. **Shape and Dimensions**:\n",
        "   - NumPy arrays have a `shape` attribute that specifies the dimensions (number of rows and columns) of the array, and an `ndim` attribute that indicates how many dimensions the array has.\n",
        "7. **Broadcasting**:\n",
        "   - NumPy arrays support broadcasting, which allows arithmetic operations between arrays of different shapes under certain conditions. This is especially useful in scientific computing when performing operations between arrays of different sizes.\n",
        "8. **Advanced Slicing and Indexing**:\n",
        "   - NumPy arrays support advanced slicing and indexing operations, which allow for the selection of elements along specific dimensions or conditions.\n",
        "9. **Built-in Mathematical Functions**:\n",
        "   - NumPy provides a rich set of functions that are optimized for arrays, including functions for matrix operations, statistical calculations, and more. These functions operate element-wise or matrix-wise on arrays.\n",
        "### Differences Between `ndarray` and Python Lists:\n",
        "\n",
        "1. **Homogeneous vs. Heterogeneous Data**:\n",
        "   - **`ndarray`**: All elements must be of the same data type.\n",
        "   - **Python List**: Can hold elements of different data types (e.g., integers, floats, strings, etc.).\n",
        "\n",
        "2. **Performance**:\n",
        "   - **`ndarray`**: Optimized for numerical operations and scientific computing. NumPy arrays leverage highly efficient C-based operations, making them faster than Python lists for large-scale numerical computations.\n",
        "   - **Python List**: More flexible in terms of data types but slower for numerical computations.\n",
        "\n",
        "3. **Memory Efficiency**:\n",
        "   - **`ndarray`**: Arrays use contiguous memory blocks, which reduces overhead and allows for faster data access.\n",
        "   - **Python List**: Lists store references to objects in non-contiguous memory, leading to more memory overhead.\n",
        "\n",
        "4. **Fixed Size vs. Dynamic Size**:\n",
        "   - **`ndarray`**: Fixed in size upon creation. You cannot change the size of the array once it’s created, but you can create new arrays by reshaping or concatenating.\n",
        "   - **Python List**: Dynamic in size. You can append, remove, or modify elements after creation.\n",
        "\n",
        "5. **Element-wise Operations**:\n",
        "   - **`ndarray`**: Supports element-wise operations. This allows operations like addition, multiplication, and broadcasting to be performed directly on arrays without the need for loops.\n",
        "   - **Python List**: Element-wise operations require explicit loops or comprehensions.\n",
        "\n",
        "6. **Dimensionality**:\n",
        "   - **`ndarray`**: Supports multi-dimensional arrays (e.g., 1D, 2D, 3D, and higher dimensions).\n",
        "   - **Python List**: Supports multi-dimensional data via nested lists, which are more cumbersome and less efficient to work with compared to `ndarray`.\n",
        "\n",
        "7. **Advanced Slicing and Indexing**:\n",
        "   - **`ndarray`**: Allows for more complex and flexible slicing and indexing based on multi-dimensional arrays.\n",
        "   - **Python List**: Limited slicing capabilities; slicing is less efficient and more cumbersome for nested lists.\n",
        "\n",
        "### Example: Comparing `ndarray` and Python\n",
        "### Conclusion:\n",
        "NumPy's `ndarray` is a powerful and efficient data structure for numerical computations, offering faster performance, lower memory overhead, and greater flexibility than standard Python lists. It is particularly well-suited for scientific computing, data analysis, and machine learning tasks due to its support for multi-dimensional arrays, vectorized operations, and broadcasting."
      ],
      "metadata": {
        "id": "1bPw4lrOwNjo"
      }
    },
    {
      "cell_type": "markdown",
      "source": [
        "6. Analyze the performance benefits of Numpy arrays over python lists for large- scale numerical operations.\n",
        "\n",
        "### Performance Benefits of NumPy Arrays Over Python Lists for Large-Scale Numerical Operations\n",
        "\n",
        "NumPy arrays (`ndarray`) are highly optimized for numerical computations, and they offer significant performance advantages over Python lists, especially when working with large datasets. These benefits come from how NumPy is designed, its underlying architecture, and its memory and computation optimizations.\n",
        "\n",
        "Here’s an analysis of why NumPy arrays outperform Python lists for large-scale numerical operation.\n",
        "### 1. **Memory Efficiency**\n",
        "   - **Contiguous Memory Allocation**: NumPy arrays are stored in contiguous blocks of memory (C-style arrays), which allows for faster access and manipulation. This also leads to fewer cache misses, making array processing more efficient.\n",
        "   - **Fixed Data Types**: NumPy arrays are homogeneous, meaning all elements have the same data type (e.g., `int32`, `float64`). This fixed data type ensures that only the data values are stored, not pointers to different objects, as is the case with Python lists.\n",
        "     - **Memory Usage Example**:\n",
        "       - A Python list of integers `[1, 2, 3, 4]` stores each element as an individual object, which includes both the data value and additional metadata (e.g., type information).\n",
        "       - A NumPy array stores only the numerical data in a compact, contiguous block.\n",
        "### 2. **Faster Computation Due to Vectorization**\n",
        "   - **Vectorized Operations**: NumPy supports vectorized operations, which allow you to perform operations on entire arrays at once without the need for explicit loops. This is possible because NumPy operations are implemented in compiled C code, which is optimized for performance. In contrast, Python lists require loops, which are slower due to Python’s dynamic typing and interpreter overhead.\n",
        "   - **Avoiding Loops**: For element-wise operations, NumPy can execute the entire operation in a single pass, while in Python lists, you need to iterate through each element manually. This leads to a massive performance difference, especially for large datasets.\n",
        "### 3. **Lower-Level Optimizations (C/Fortran Backend)**\n",
        "   - NumPy is implemented in C and Fortran, which are much faster than Python when it comes to numerical computations. The underlying computations are executed in highly optimized low-level code, whereas Python lists rely on the Python interpreter, which introduces additional overhead.\n",
        "   - **Parallelism and SIMD**: Modern CPUs can take advantage of **SIMD (Single Instruction, Multiple Data)** operations, which allow performing the same operation on multiple data points simultaneously. NumPy is designed to take advantage of these optimizations when available, whereas Python lists do not.\n",
        "### 4. **Broadcasting for Efficient Computation**\n",
        "   - **Broadcasting**: NumPy supports broadcasting, which allows operations between arrays of different shapes without explicitly copying or reshaping data. This enables NumPy to perform operations on large datasets efficiently, even when their shapes are not the same.\n",
        "   - Broadcasting eliminates the need for nested loops, reducing the computational complexity when working with arrays of different sizes.\n",
        "### 5. **Efficient Memory Management and Caching**\n",
        "   - **Data Alignment and Caching**: NumPy arrays are stored in contiguous blocks of memory, which improves cache performance. When an operation is performed on an array, many values are loaded into the CPU cache, reducing the time needed to access them in subsequent operations.\n",
        "   - **Python Lists**: Python lists are pointers to objects scattered in memory. This scattered memory access leads to frequent cache misses, slowing down the computation.\n",
        "\n",
        "   **Example**: Matrix multiplication in NumPy will benefit from caching more than a nested list multiplication due to contiguous memory and vectorized operation.\n",
        "### 6. **Efficient Use of Mathematical Functions**\n",
        "   - **Optimized Built-in Functions**: NumPy comes with a large library of built-in mathematical functions (`np.sum()`, `np.mean()`, `np.dot()`, etc.), which are implemented in optimized C code. These functions can operate directly on arrays and make use of advanced techniques like **SIMD** and **BLAS** (Basic Linear Algebra Subprograms) for fast computation.\n",
        "   - **Python Lists**: To perform similar operations with Python lists, you need to write loops, which are much slower and less optimized.\n",
        "### 7. **Support for Multi-Dimensional Arrays and Matrix Operations**\n",
        "   - NumPy supports multi-dimensional arrays and offers efficient operations for handling large matrices (e.g., matrix multiplication, transposition, and inversion). These operations are crucial for linear algebra, machine learning, and scientific computing.\n",
        "   - Python lists, on the other hand, do not have built-in support for such operations. Handling multi-dimensional data with Python lists requires nested loops, making them slower and more error-prone.\n",
        "### 8. **Concurrency and Parallelism**\n",
        "   - **Threading and Parallelism**: NumPy takes advantage of multi-threading and parallelism in certain operations (e.g., matrix multiplication, reductions like sum). This allows NumPy to leverage multi-core processors to execute operations faster.\n",
        "   - **Python Lists**: Python’s Global Interpreter Lock (GIL) restricts concurrent execution of threads for pure Python code, limiting the ability to parallelize computations.\n",
        "\n",
        "---\n",
        "\n",
        "### Summary of Performance Benefits:\n",
        "\n",
        "| Feature                    | NumPy Arrays (`ndarray`)            | Python Lists                |\n",
        "|----------------------------|-------------------------------------|-----------------------------|\n",
        "| **Memory Usage**            | Contiguous, compact, efficient      | Non-contiguous, higher overhead |\n",
        "| **Computation Speed**       | Fast (vectorized, C/Fortran backend) | Slow (loops, interpreter overhead) |\n",
        "| **Data Homogeneity**        | Homogeneous (fixed data type)       | Heterogeneous                |\n",
        "| **Vectorized Operations**   | Supported (element-wise)            | Not supported (requires loops) |\n",
        "| **Broadcasting**            | Supported                          | Not supported                |\n",
        "| **Multi-Dimensional Support**| Full support for N-dimensional arrays | Requires nested lists (inefficient) |\n",
        "| **Built-in Math Functions** | Optimized and fast                 | Slow, requires manual implementation |\n",
        "| **Caching and Optimization**| High cache efficiency              | Low cache efficiency         |\n",
        "| **Parallelism**             | Can leverage multi-core processors | Limited by GIL               |\n",
        "\n",
        "---\n",
        "\n",
        "### Conclusion:\n",
        "For large-scale numerical operations, NumPy arrays offer **significant performance advantages** over Python lists due to their memory efficiency, support for vectorized operations, optimized built-in functions, and ability to take advantage of modern hardware features like multi-core processors and SIMD. This makes NumPy a crucial library for scientific computing, data analysis, and machine learning in Python."
      ],
      "metadata": {
        "id": "bMnM14Kgxbn3"
      }
    },
    {
      "cell_type": "markdown",
      "source": [
        "7. Compare vstack() and hstack ()functions in Numpy. provide examples demonstrating their usage and output.\n",
        "\n",
        "\n",
        "In NumPy, both `vstack()` and `hstack()` are used to stack arrays, but they do so in different orientations.\n",
        "\n",
        "### 1. **`vstack()` (Vertical Stack)**\n",
        "- **Purpose**: The `vstack()` function stacks arrays vertically, i.e., row-wise. It concatenates arrays along the first axis (axis=0), which means it adds arrays as new rows.\n",
        "- **Usage**: You would use `vstack()` when you want to stack arrays on top of each other.\n",
        "\n",
        "#### Example of `vstack()`:\n",
        "```python\n",
        "import numpy as np\n",
        "\n",
        "# Create two 1D arrays\n",
        "arr1 = np.array([1, 2, 3])\n",
        "arr2 = np.array([4, 5, 6])\n",
        "\n",
        "# Stack them vertically using vstack\n",
        "result_vstack = np.vstack((arr1, arr2))\n",
        "### 2. **`hstack()` (Horizontal Stack)**\n",
        "- **Purpose**: The `hstack()` function stacks arrays horizontally, i.e., column-wise. It concatenates arrays along the second axis (axis=1), which means it adds arrays side-by-side as new columns.\n",
        "- **Usage**: You would use `hstack()` when you want to stack arrays next to each other.\n",
        "### Key Differences:\n",
        "- **`vstack()`**: Stacks arrays along the vertical (first) axis. The arrays are placed on top of each other, adding rows.\n",
        "- **`hstack()`**: Stacks arrays along the horizontal (second) axis. The arrays are placed side by side, adding columns.\n",
        "\n",
        "### Summary:\n",
        "- Use **`vstack()`** to stack arrays vertically (as rows).\n",
        "- Use **`hstack()`** to stack arrays horizontally (as columns)."
      ],
      "metadata": {
        "id": "LaFJIfZgy0TM"
      }
    },
    {
      "cell_type": "markdown",
      "source": [
        "8. Explain the difference between flipir () and flipud () methods inNumpy . including their effects on various array dimensions.  \n",
        "\n",
        "In NumPy, the methods `fliplr()` and `flipud()` are used to flip or reverse arrays along specific axes. While they may sound similar, they operate along different dimensions of the array. Let’s break down their differences and effects.\n",
        "\n",
        "---\n",
        "\n",
        "### 1. **`flipud()` (Flip Up-Down)**\n",
        "- **Purpose**: The `flipud()` function flips an array **upside down**, reversing the elements along the **vertical axis** (i.e., the first axis or rows).\n",
        "- **Effect**: It reverses the order of rows, leaving the column order unchange\n",
        "### 2. **`fliplr()` (Flip Left-Right)**\n",
        "- **Purpose**: The `fliplr()` function flips an array **left to right**, reversing the elements along the **horizontal axis** (i.e., the second axis or columns).\n",
        "- **Effect**: It reverses the order of columns, leaving the row order unchanged.\n",
        "# Flip the 1D array with fliplr (Note: fliplr does not work on 1D arrays)\n",
        "result_fliplr = np.fliplr(arr)  # This will raise an error\n",
        "```\n",
        "- **Error**: `fliplr()` only works on arrays with 2 or more dimensions, so using it on a 1D array will raise an error.\n",
        "\n",
        "---\n",
        "\n",
        "### 3. **Effects on Higher-Dimensional Arrays**\n",
        "- **`flipud()`** and **`fliplr()`** can both be applied to multi-dimensional arrays (2D and higher), but their effects are always along specific axes:\n",
        "  - **`flipud()`**: Flips elements along the **first axis** (rows).\n",
        "  - **`fliplr()`**: Flips elements along the **second axis** (columns).\n",
        "### Summary of Differences:\n",
        "\n",
        "| **Function** | **Effect**                              | **Axis Affected**               | **Minimum Dimensionality** |\n",
        "|--------------|-----------------------------------------|----------------------------------|----------------------------|\n",
        "| `flipud()`   | Flips the array upside down (top to bottom) | First axis (rows in 2D arrays)    | Works on 1D arrays and higher |\n",
        "| `fliplr()`   | Flips the array left to right (side to side) | Second axis (columns in 2D arrays) | Only works on 2D arrays and higher |\n",
        "\n",
        "---\n",
        "\n",
        "### Conclusion:\n",
        "- **`flipud()`**: Reverses the order of rows (top-to-bottom flipping).\n",
        "- **`fliplr()`**: Reverses the order of columns (left-to-right flipping).\n",
        "Both functions are useful for rearranging array data along specific dimensions, but they operate on different axes and have different use cases depending on how the data needs to be flipped."
      ],
      "metadata": {
        "id": "Mu3ygBqCz0sV"
      }
    },
    {
      "cell_type": "markdown",
      "source": [
        "9. Discuss the functionality of the array - split () method in Numpy. How does it handle uneven splits ?\n",
        "\n",
        "The `numpy.array_split()` function is used to split an array into multiple sub-arrays. It is part of the NumPy library and provides a flexible way to divide arrays, even when the number of sections doesn't divide the array evenly. Unlike `numpy.split()`, which requires equal-sized splits, `array_split()` can handle uneven splits.\n",
        "\n",
        "### Key Features of `array_split()`:\n",
        "- **Flexible Splitting**: It allows splitting an array into any number of sub-arrays, regardless of whether the total number of elements is divisible by the specified number of splits.\n",
        "- **Handles Uneven Splits**: If the number of elements is not evenly divisible by the number of splits, the function distributes the elements as evenly as possible. The remaining elements (if any) are distributed across the first few sub-arrays, so the first sub-arrays may have one extra element compared to the others.\n",
        "- **Syntax**:\n",
        "  ```python\n",
        "  numpy.array_split(array, sections, axis=0)\n",
        "  ```\n",
        "  - `array`: The input array to split.\n",
        "  - `sections`: The number of sub-arrays you want to split the input array into. Can also be a list of indices specifying where to split the array.\n",
        "  - `axis`: The axis along which to split the array (default is `axis=0`).\n",
        "\n",
        "---\n",
        "\n",
        "### **Example of `array_split()` with Equal Splitting:**\n",
        "If the array can be evenly split, the resulting sub-arrays will all have the same number of elements.\n",
        "\n",
        "### **Example of `array_split()` with Uneven Splitting:**\n",
        "When the number of elements is not divisible by the number of splits, the sub-arrays will have varying sizes.\n",
        "\n",
        "### **Handling Uneven Splits:**\n",
        "\n",
        "When `array_split()` performs uneven splits, it distributes the leftover elements (if any) across the first sub-arrays to ensure the total number of elements is preserved.\n",
        "\n",
        "#### Example with a larger array and an uneven split:\n",
        "```python\n",
        "import numpy as np\n",
        "\n",
        "# Create an array with 10 elements\n",
        "arr = np.arange(10)\n",
        "\n",
        "# Split the array into 4 parts\n",
        "result = np.array_split(arr, 4)\n",
        "- The array of size 10 is split into 4 parts, but since 10 is not divisible by 4, the first two sub-arrays get 3 elements each, and the last two sub-arrays\n",
        "### **`array_split()` with a Multi-Dimensional Array**:\n",
        "You can also split multi-dimensional arrays along a specified axis.\n",
        "\n",
        "#### Example with a 2D array:\n",
        "```python\n",
        "import numpy as np\n",
        "# Split the array into 2 parts along axis 0 (rows)\n",
        "result = np.array_split(arr, 2, axis=\n",
        "### **Differences Between `split()` and `array_split()`**:\n",
        "- **`split()`**: Requires the array to be divided into equal parts. If the number of splits doesn't evenly divide the array, it raises an error.\n",
        "- **`array_split()`**: Allows for unequal splits and distributes the remainder among the sub-arrays.\n",
        "\n",
        "---\n",
        "\n",
        "### **Conclusion**:\n",
        "The `array_split()` function is a powerful tool in NumPy for splitting arrays into multiple parts, and it is especially useful when dealing with arrays that cannot be split evenly. It ensures that the sub-arrays are as balanced as possible by distributing leftover elements among the first sub-arrays."
      ],
      "metadata": {
        "id": "hDVoMF-J1HHT"
      }
    },
    {
      "cell_type": "markdown",
      "source": [
        "10. Explain the concepts of Vectorization and broadcasting in Numpy. How do they contribute to efficient arrayv operations ?\n",
        "\n",
        "Vectorization and broadcasting are fundamental concepts in NumPy that significantly enhance performance and efficiency when working with arrays. Let’s delve into each concept and explore how they contribute to efficient array operations.\n",
        "\n",
        "### 1. Vectorization\n",
        "\n",
        "**Definition**:  \n",
        "Vectorization refers to the process of converting operations that would typically be performed on individual elements into operations that can be applied to entire arrays (or large blocks of data) at once. This is achieved through the use of NumPy’s built-in functions and operations, which are optimized for performance.\n",
        "\n",
        "**Key Features**:\n",
        "- **Element-wise Operations**: Instead of using explicit loops to iterate over array elements, vectorization allows for element-wise operations to be performed directly on entire arrays. For example, adding two arrays together results in a new array where each element is the sum of the corresponding elements in the original arrays.\n",
        "- **Optimized Performance**: NumPy operations are implemented in C, which means they can execute much faster than equivalent Python loops. Vectorized operations leverage low-level optimizations and take advantage of CPU vectorization capabilities.\n",
        "\n",
        "#### Example of Vectorization:\n",
        "```python\n",
        "import numpy as np\n",
        "- In this example, the addition of two arrays is performed without explicit loops, resulting in a clear and concise operation.\n",
        "\n",
        "### 2. Broadcasting\n",
        "\n",
        "**Definition**:  \n",
        "Broadcasting is a powerful mechanism that allows NumPy to perform arithmetic operations on arrays of different shapes and sizes. It automatically expands the smaller array across the larger array so that they can be treated as if they were the same shape.\n",
        "\n",
        "**Key Features**:\n",
        "- **Flexible Shapes**: Broadcasting allows operations between arrays of different dimensions, making it easy to work with scalars and higher-dimensional arrays.\n",
        "- **Memory Efficiency**: Instead of physically copying data, NumPy creates a \"view\" of the data, enabling efficient memory usage without the overhead of duplicating data.\n",
        "\n",
        "#### Broadcasting Rules:\n",
        "1. If the arrays have a different number of dimensions, the shape of the smaller array is padded with ones on the left until both shapes are the same length.\n",
        "2. The sizes of each dimension are compared; the dimensions must either be the same or one of them must be 1. If they are not compatible, broadcasting fails, and an error is raised.\n",
        "\n",
        "#### Example of Broadcasting:\n",
        "- In this example, the 1D array `b` is broadcast across the 2D array `a`. NumPy treats `b` as if it were repeated for each row of `a`, resulting in element-wise addition.\n",
        "\n",
        "### Contribution to Efficient Array Operations\n",
        "\n",
        "#### 1. **Reduction of Overhead**:\n",
        "- By using vectorized operations and broadcasting, you minimize the overhead of Python loops, leading to significant performance improvements in numerical computations.\n",
        "\n",
        "#### 2. **Readability and Maintainability**:\n",
        "- Code using vectorized operations and broadcasting is often more concise and easier to read, making it simpler to understand and maintain.\n",
        "\n",
        "#### 3. **Improved Performance**:\n",
        "- Operations performed using vectorization and broadcasting can be orders of magnitude faster than their non-vectorized counterparts. This is especially true for large datasets where performance gains become more pronounced.\n",
        "In practice, you will find that the vectorized approach is much faster, demonstrating the performance advantages of using NumPy's vectorization and broadcasting features.\n",
        "\n",
        "### Conclusion\n",
        "\n",
        "Vectorization and broadcasting in NumPy are key features that enhance the efficiency and performance of array operations. They allow you to write concise, readable code while leveraging optimized low-level implementations for high performance. By minimizing the need for explicit loops and enabling operations on arrays of different shapes, they are essential tools for scientific computing and data analysis in Python."
      ],
      "metadata": {
        "id": "6DPgLlKu2Z7R"
      }
    },
    {
      "cell_type": "markdown",
      "source": [
        "     PRACTICAL QOUESTION ;\n",
        "\n",
        "\n",
        "1. Create a 3x3 Numpy array with random integer between 1 and 100 . Then, interchange its rows and columns.  \n",
        "\n"
      ],
      "metadata": {
        "id": "hQ0EeBX93ZRD"
      }
    },
    {
      "cell_type": "code",
      "source": [
        "array([[ 4, 63,  2],\n",
        "       [53,  2, 21],\n",
        "       [16, 51,  6]])\n"
      ],
      "metadata": {
        "colab": {
          "base_uri": "https://localhost:8080/",
          "height": 176
        },
        "id": "udZqlyAr4fsW",
        "outputId": "a3efb469-d0f2-4efa-e900-40fed6360ab6"
      },
      "execution_count": 1,
      "outputs": [
        {
          "output_type": "error",
          "ename": "NameError",
          "evalue": "name 'array' is not defined",
          "traceback": [
            "\u001b[0;31m---------------------------------------------------------------------------\u001b[0m",
            "\u001b[0;31mNameError\u001b[0m                                 Traceback (most recent call last)",
            "\u001b[0;32m<ipython-input-1-4cc61f0cf764>\u001b[0m in \u001b[0;36m<cell line: 1>\u001b[0;34m()\u001b[0m\n\u001b[0;32m----> 1\u001b[0;31m array([[ 4, 63,  2],\n\u001b[0m\u001b[1;32m      2\u001b[0m        \u001b[0;34m[\u001b[0m\u001b[0;36m53\u001b[0m\u001b[0;34m,\u001b[0m  \u001b[0;36m2\u001b[0m\u001b[0;34m,\u001b[0m \u001b[0;36m21\u001b[0m\u001b[0;34m]\u001b[0m\u001b[0;34m,\u001b[0m\u001b[0;34m\u001b[0m\u001b[0;34m\u001b[0m\u001b[0m\n\u001b[1;32m      3\u001b[0m        [16, 51,  6]])\n",
            "\u001b[0;31mNameError\u001b[0m: name 'array' is not defined"
          ]
        }
      ]
    },
    {
      "cell_type": "code",
      "source": [
        "array([[ 4, 53, 16],\n",
        "       [63,  2, 51],\n",
        "       [ 2, 21,  6]])\n"
      ],
      "metadata": {
        "colab": {
          "base_uri": "https://localhost:8080/",
          "height": 176
        },
        "id": "5bWZsNtf4g62",
        "outputId": "f26aa05e-5e0c-4380-f2f2-576a59e7fd3b"
      },
      "execution_count": 2,
      "outputs": [
        {
          "output_type": "error",
          "ename": "NameError",
          "evalue": "name 'array' is not defined",
          "traceback": [
            "\u001b[0;31m---------------------------------------------------------------------------\u001b[0m",
            "\u001b[0;31mNameError\u001b[0m                                 Traceback (most recent call last)",
            "\u001b[0;32m<ipython-input-2-ba1f7f3fb44a>\u001b[0m in \u001b[0;36m<cell line: 1>\u001b[0;34m()\u001b[0m\n\u001b[0;32m----> 1\u001b[0;31m array([[ 4, 53, 16],\n\u001b[0m\u001b[1;32m      2\u001b[0m        \u001b[0;34m[\u001b[0m\u001b[0;36m63\u001b[0m\u001b[0;34m,\u001b[0m  \u001b[0;36m2\u001b[0m\u001b[0;34m,\u001b[0m \u001b[0;36m51\u001b[0m\u001b[0;34m]\u001b[0m\u001b[0;34m,\u001b[0m\u001b[0;34m\u001b[0m\u001b[0;34m\u001b[0m\u001b[0m\n\u001b[1;32m      3\u001b[0m        [ 2, 21,  6]])\n",
            "\u001b[0;31mNameError\u001b[0m: name 'array' is not defined"
          ]
        }
      ]
    },
    {
      "cell_type": "code",
      "source": [],
      "metadata": {
        "id": "XFdhc8K-4x0d"
      },
      "execution_count": null,
      "outputs": []
    },
    {
      "cell_type": "markdown",
      "source": [
        "2. Generate a 1D Numpy array with 20 elements . Reshape it into a 2x5 array, then into a 5x2 array.\n",
        "\n"
      ],
      "metadata": {
        "id": "RCt7Wrhv8VC6"
      }
    },
    {
      "cell_type": "code",
      "source": [
        "array([[ 0,  1,  2,  3],\n",
        "       [ 4,  5,  6,  7],\n",
        "       [ 8,  9, 10, 11],\n",
        "       [12, 13, 14, 15],\n",
        "       [16, 17, 18, 19]])\n"
      ],
      "metadata": {
        "colab": {
          "base_uri": "https://localhost:8080/",
          "height": 211
        },
        "id": "-8zY_P0l85Fp",
        "outputId": "f7ed019f-c9eb-4372-a7b1-edacca2794a4"
      },
      "execution_count": 3,
      "outputs": [
        {
          "output_type": "error",
          "ename": "NameError",
          "evalue": "name 'array' is not defined",
          "traceback": [
            "\u001b[0;31m---------------------------------------------------------------------------\u001b[0m",
            "\u001b[0;31mNameError\u001b[0m                                 Traceback (most recent call last)",
            "\u001b[0;32m<ipython-input-3-cdae66bc3068>\u001b[0m in \u001b[0;36m<cell line: 1>\u001b[0;34m()\u001b[0m\n\u001b[0;32m----> 1\u001b[0;31m array([[ 0,  1,  2,  3],\n\u001b[0m\u001b[1;32m      2\u001b[0m        \u001b[0;34m[\u001b[0m \u001b[0;36m4\u001b[0m\u001b[0;34m,\u001b[0m  \u001b[0;36m5\u001b[0m\u001b[0;34m,\u001b[0m  \u001b[0;36m6\u001b[0m\u001b[0;34m,\u001b[0m  \u001b[0;36m7\u001b[0m\u001b[0;34m]\u001b[0m\u001b[0;34m,\u001b[0m\u001b[0;34m\u001b[0m\u001b[0;34m\u001b[0m\u001b[0m\n\u001b[1;32m      3\u001b[0m        \u001b[0;34m[\u001b[0m \u001b[0;36m8\u001b[0m\u001b[0;34m,\u001b[0m  \u001b[0;36m9\u001b[0m\u001b[0;34m,\u001b[0m \u001b[0;36m10\u001b[0m\u001b[0;34m,\u001b[0m \u001b[0;36m11\u001b[0m\u001b[0;34m]\u001b[0m\u001b[0;34m,\u001b[0m\u001b[0;34m\u001b[0m\u001b[0;34m\u001b[0m\u001b[0m\n\u001b[1;32m      4\u001b[0m        \u001b[0;34m[\u001b[0m\u001b[0;36m12\u001b[0m\u001b[0;34m,\u001b[0m \u001b[0;36m13\u001b[0m\u001b[0;34m,\u001b[0m \u001b[0;36m14\u001b[0m\u001b[0;34m,\u001b[0m \u001b[0;36m15\u001b[0m\u001b[0;34m]\u001b[0m\u001b[0;34m,\u001b[0m\u001b[0;34m\u001b[0m\u001b[0;34m\u001b[0m\u001b[0m\n\u001b[1;32m      5\u001b[0m        [16, 17, 18, 19]])\n",
            "\u001b[0;31mNameError\u001b[0m: name 'array' is not defined"
          ]
        }
      ]
    },
    {
      "cell_type": "code",
      "source": [
        "array([[ 0,  1,  2,  3,  4,  5,  6,  7,  8,  9],\n",
        "       [10, 11, 12, 13, 14, 15, 16, 17, 18, 19]])\n"
      ],
      "metadata": {
        "colab": {
          "base_uri": "https://localhost:8080/",
          "height": 158
        },
        "id": "6g1GMqoG86b7",
        "outputId": "4c3f0162-4454-48c4-a14e-6de20a9f6e05"
      },
      "execution_count": 4,
      "outputs": [
        {
          "output_type": "error",
          "ename": "NameError",
          "evalue": "name 'array' is not defined",
          "traceback": [
            "\u001b[0;31m---------------------------------------------------------------------------\u001b[0m",
            "\u001b[0;31mNameError\u001b[0m                                 Traceback (most recent call last)",
            "\u001b[0;32m<ipython-input-4-eec29bda89f7>\u001b[0m in \u001b[0;36m<cell line: 1>\u001b[0;34m()\u001b[0m\n\u001b[0;32m----> 1\u001b[0;31m array([[ 0,  1,  2,  3,  4,  5,  6,  7,  8,  9],\n\u001b[0m\u001b[1;32m      2\u001b[0m        [10, 11, 12, 13, 14, 15, 16, 17, 18, 19]])\n",
            "\u001b[0;31mNameError\u001b[0m: name 'array' is not defined"
          ]
        }
      ]
    },
    {
      "cell_type": "code",
      "source": [
        "array([ 0,  1,  2,  3,  4,  5,  6,  7,  8,  9, 10, 11, 12, 13, 14, 15, 16,\n",
        "       17, 18, 19])\n"
      ],
      "metadata": {
        "colab": {
          "base_uri": "https://localhost:8080/",
          "height": 158
        },
        "id": "B2Y0aiFx8_G5",
        "outputId": "09bc7c88-f7ac-42d5-faae-b2867946992f"
      },
      "execution_count": 5,
      "outputs": [
        {
          "output_type": "error",
          "ename": "NameError",
          "evalue": "name 'array' is not defined",
          "traceback": [
            "\u001b[0;31m---------------------------------------------------------------------------\u001b[0m",
            "\u001b[0;31mNameError\u001b[0m                                 Traceback (most recent call last)",
            "\u001b[0;32m<ipython-input-5-8687d873d7ce>\u001b[0m in \u001b[0;36m<cell line: 1>\u001b[0;34m()\u001b[0m\n\u001b[0;32m----> 1\u001b[0;31m array([ 0,  1,  2,  3,  4,  5,  6,  7,  8,  9, 10, 11, 12, 13, 14, 15, 16,\n\u001b[0m\u001b[1;32m      2\u001b[0m        17, 18, 19])\n",
            "\u001b[0;31mNameError\u001b[0m: name 'array' is not defined"
          ]
        }
      ]
    },
    {
      "cell_type": "code",
      "source": [],
      "metadata": {
        "id": "GqV1CUVO9FBA"
      },
      "execution_count": null,
      "outputs": []
    },
    {
      "cell_type": "markdown",
      "source": [
        "3. Create a 4x4 Numpy array with random float values . Add a border of zeros around it, resulting in a 6x6 array.\n",
        "\n",
        "It seems like I can’t do more advanced data analysis right now. Please try again later."
      ],
      "metadata": {
        "id": "A-JjG0Ts9GAL"
      }
    },
    {
      "cell_type": "markdown",
      "source": [
        "4. Using Numpy , create an array of integers from 10 to 60 with a step of 5.\n",
        "\n"
      ],
      "metadata": {
        "id": "OI6VPOBt-B0w"
      }
    },
    {
      "cell_type": "code",
      "source": [
        "import numpy as np\n",
        "\n",
        "# Create an array of integers from 10 to 60 with a step of 5\n",
        "array_integers = np.arange(10, 61, 5)\n",
        "array_integers\n"
      ],
      "metadata": {
        "colab": {
          "base_uri": "https://localhost:8080/"
        },
        "id": "_lfKRH7U-lnB",
        "outputId": "a2110824-dd01-4fd0-ee90-1c517e8e524d"
      },
      "execution_count": 6,
      "outputs": [
        {
          "output_type": "execute_result",
          "data": {
            "text/plain": [
              "array([10, 15, 20, 25, 30, 35, 40, 45, 50, 55, 60])"
            ]
          },
          "metadata": {},
          "execution_count": 6
        }
      ]
    },
    {
      "cell_type": "code",
      "source": [],
      "metadata": {
        "id": "673tlyxr-ofo"
      },
      "execution_count": null,
      "outputs": []
    },
    {
      "cell_type": "markdown",
      "source": [
        "5. Create a Numpy array of string {'python ', ' numpy' , pandass'. } . Apply different cases transformations (uppercase, lowercase, tritle case, etc. ) to each element.\n",
        "\n"
      ],
      "metadata": {
        "id": "OZC72Hdd-pxQ"
      }
    },
    {
      "cell_type": "code",
      "source": [
        "import numpy as np\n",
        "\n",
        "# Create a Numpy array of strings\n",
        "array_strings = np.array(['python', 'numpy', 'pandas'])\n",
        "\n",
        "# Apply different case transformations to each element\n",
        "uppercase = np.char.upper(array_strings)\n",
        "lowercase = np.char.lower(array_strings)\n",
        "titlecase = np.char.title(array_strings)\n",
        "capitalize = np.char.capitalize(array_strings)\n",
        "\n",
        "uppercase, lowercase, titlecase, capitalize\n"
      ],
      "metadata": {
        "colab": {
          "base_uri": "https://localhost:8080/"
        },
        "id": "KzU0luv-Bb-q",
        "outputId": "7f5cb8cb-1eb1-42b7-ddff-877b6b65f394"
      },
      "execution_count": 7,
      "outputs": [
        {
          "output_type": "execute_result",
          "data": {
            "text/plain": [
              "(array(['PYTHON', 'NUMPY', 'PANDAS'], dtype='<U6'),\n",
              " array(['python', 'numpy', 'pandas'], dtype='<U6'),\n",
              " array(['Python', 'Numpy', 'Pandas'], dtype='<U6'),\n",
              " array(['Python', 'Numpy', 'Pandas'], dtype='<U6'))"
            ]
          },
          "metadata": {},
          "execution_count": 7
        }
      ]
    },
    {
      "cell_type": "markdown",
      "source": [
        "6. Generate a Numpy array of words. insert a space between each character of every word in the array.\n",
        "\n"
      ],
      "metadata": {
        "id": "u--ilSrOBex7"
      }
    },
    {
      "cell_type": "code",
      "source": [
        "import numpy as np\n",
        "\n",
        "# Create a Numpy array of words\n",
        "words_array = np.array(['hello', 'world', 'numpy', 'python'])\n",
        "\n",
        "# Insert a space between each character of every word\n",
        "spaced_words = np.char.join(' ', words_array)\n",
        "\n",
        "spaced_words\n"
      ],
      "metadata": {
        "colab": {
          "base_uri": "https://localhost:8080/"
        },
        "id": "76NNugi8B9x-",
        "outputId": "c09a81e3-6215-462a-f5a7-e7c7740d1c4f"
      },
      "execution_count": 8,
      "outputs": [
        {
          "output_type": "execute_result",
          "data": {
            "text/plain": [
              "array(['h e l l o', 'w o r l d', 'n u m p y', 'p y t h o n'], dtype='<U11')"
            ]
          },
          "metadata": {},
          "execution_count": 8
        }
      ]
    },
    {
      "cell_type": "code",
      "source": [],
      "metadata": {
        "id": "FtLoCZMIBdN7"
      },
      "execution_count": null,
      "outputs": []
    },
    {
      "cell_type": "markdown",
      "source": [
        "7. Create two 2D Numpy arrays and perform element - wise additiomn , subtraction , multiplicartion , nd division .\n",
        "\n"
      ],
      "metadata": {
        "id": "CixwZA1tB_Zk"
      }
    },
    {
      "cell_type": "code",
      "source": [
        "import numpy as np\n",
        "\n",
        "# Create two 2D Numpy arrays\n",
        "array1 = np.array([[1, 2], [3, 4]])\n",
        "array2 = np.array([[5, 6], [7, 8]])\n",
        "\n",
        "# Perform element-wise addition, subtraction, multiplication, and division\n",
        "addition = np.add(array1, array2)\n",
        "subtraction = np.subtract(array1, array2)\n",
        "multiplication = np.multiply(array1, array2)\n",
        "division = np.divide(array1, array2)\n",
        "\n",
        "addition, subtraction, multiplication, division\n"
      ],
      "metadata": {
        "colab": {
          "base_uri": "https://localhost:8080/"
        },
        "id": "EpYwOenXCeRP",
        "outputId": "3c118576-85cc-4f85-f4b5-1ac5d258d76b"
      },
      "execution_count": 9,
      "outputs": [
        {
          "output_type": "execute_result",
          "data": {
            "text/plain": [
              "(array([[ 6,  8],\n",
              "        [10, 12]]),\n",
              " array([[-4, -4],\n",
              "        [-4, -4]]),\n",
              " array([[ 5, 12],\n",
              "        [21, 32]]),\n",
              " array([[0.2       , 0.33333333],\n",
              "        [0.42857143, 0.5       ]]))"
            ]
          },
          "metadata": {},
          "execution_count": 9
        }
      ]
    },
    {
      "cell_type": "code",
      "source": [],
      "metadata": {
        "id": "4k_3zcEQCfii"
      },
      "execution_count": null,
      "outputs": []
    },
    {
      "cell_type": "markdown",
      "source": [
        "8. Use Numpy to create a  5x5 identity matix , then extract its diagonal elements\n",
        "\n"
      ],
      "metadata": {
        "id": "7xuVVJ7qCgkw"
      }
    },
    {
      "cell_type": "code",
      "source": [
        "import numpy as np\n",
        "\n",
        "# Create a 5x5 identity matrix\n",
        "identity_matrix = np.eye(5)\n",
        "\n",
        "# Extract its diagonal elements\n",
        "diagonal_elements = np.diag(identity_matrix)\n",
        "\n",
        "identity_matrix, diagonal_elements\n"
      ],
      "metadata": {
        "colab": {
          "base_uri": "https://localhost:8080/"
        },
        "id": "vbMydBrGC5Pm",
        "outputId": "17681391-1e33-40a6-9e55-1e914be60f9e"
      },
      "execution_count": 10,
      "outputs": [
        {
          "output_type": "execute_result",
          "data": {
            "text/plain": [
              "(array([[1., 0., 0., 0., 0.],\n",
              "        [0., 1., 0., 0., 0.],\n",
              "        [0., 0., 1., 0., 0.],\n",
              "        [0., 0., 0., 1., 0.],\n",
              "        [0., 0., 0., 0., 1.]]),\n",
              " array([1., 1., 1., 1., 1.]))"
            ]
          },
          "metadata": {},
          "execution_count": 10
        }
      ]
    },
    {
      "cell_type": "code",
      "source": [],
      "metadata": {
        "id": "1b_GKZ8lC6Nq"
      },
      "execution_count": null,
      "outputs": []
    },
    {
      "cell_type": "markdown",
      "source": [
        "9. Generate a Nummpy array of 100 random integers between 0 and 1000. find and display all numbers in this array.\n",
        "\n"
      ],
      "metadata": {
        "id": "Atu1qSzSC68X"
      }
    },
    {
      "cell_type": "code",
      "source": [
        "import numpy as np\n",
        "\n",
        "# Generate a Numpy array of 100 random integers between 0 and 1000\n",
        "random_integers = np.random.randint(0, 1000, size=100)\n",
        "\n",
        "# Display all numbers in the array\n",
        "random_integers\n"
      ],
      "metadata": {
        "colab": {
          "base_uri": "https://localhost:8080/"
        },
        "id": "MwpvWyqQDfsK",
        "outputId": "76c42d35-8733-4c4f-dfd2-d04ed5793998"
      },
      "execution_count": 11,
      "outputs": [
        {
          "output_type": "execute_result",
          "data": {
            "text/plain": [
              "array([945, 938, 318, 492, 546, 681, 180, 682, 434, 366, 522, 516, 533,\n",
              "       395, 399, 156, 284, 347, 291,  94, 477, 113, 620, 687, 140, 497,\n",
              "        67, 875, 145, 678, 413, 857, 790, 967, 513, 569, 926, 528, 512,\n",
              "       232, 108, 180, 130, 620,  72, 439, 311, 448, 874, 278, 973, 526,\n",
              "       986, 919, 195, 251, 309, 420, 450, 114, 768, 576, 499, 687, 810,\n",
              "       865,  44, 880, 827, 886,  40, 832, 304, 974, 475,  90, 932, 150,\n",
              "        46, 225, 679, 532, 373, 334, 813, 770, 729, 846, 923, 187, 998,\n",
              "       170, 821, 879, 895,  52, 825, 609,   8, 792])"
            ]
          },
          "metadata": {},
          "execution_count": 11
        }
      ]
    },
    {
      "cell_type": "code",
      "source": [],
      "metadata": {
        "id": "TwjQ7-lEDg5I"
      },
      "execution_count": null,
      "outputs": []
    },
    {
      "cell_type": "markdown",
      "source": [
        "10. Create a Numpy array representinmg daily temperatures for a month. calculate nd display the weekly averages.\n",
        "\n"
      ],
      "metadata": {
        "id": "q5JKhIx_DiTa"
      }
    },
    {
      "cell_type": "code",
      "source": [
        "import numpy as np\n",
        "\n",
        "# Create a Numpy array representing daily temperatures for a month (30 days)\n",
        "daily_temperatures = np.random.uniform(low=15, high=30, size=30)  # Example temperatures between 15 and 30 degrees\n",
        "\n",
        "# Calculate the weekly averages\n",
        "weekly_averages = np.mean(daily_temperatures.reshape(-1, 7), axis=1)\n",
        "\n",
        "daily_temperatures, weekly_averages\n"
      ],
      "metadata": {
        "colab": {
          "base_uri": "https://localhost:8080/",
          "height": 211
        },
        "id": "IKIWPwgpD9j7",
        "outputId": "3ad0ca75-f90b-4531-9af9-c6b50b0a2409"
      },
      "execution_count": 12,
      "outputs": [
        {
          "output_type": "error",
          "ename": "ValueError",
          "evalue": "cannot reshape array of size 30 into shape (7)",
          "traceback": [
            "\u001b[0;31m---------------------------------------------------------------------------\u001b[0m",
            "\u001b[0;31mValueError\u001b[0m                                Traceback (most recent call last)",
            "\u001b[0;32m<ipython-input-12-87cf83f9452c>\u001b[0m in \u001b[0;36m<cell line: 7>\u001b[0;34m()\u001b[0m\n\u001b[1;32m      5\u001b[0m \u001b[0;34m\u001b[0m\u001b[0m\n\u001b[1;32m      6\u001b[0m \u001b[0;31m# Calculate the weekly averages\u001b[0m\u001b[0;34m\u001b[0m\u001b[0;34m\u001b[0m\u001b[0m\n\u001b[0;32m----> 7\u001b[0;31m \u001b[0mweekly_averages\u001b[0m \u001b[0;34m=\u001b[0m \u001b[0mnp\u001b[0m\u001b[0;34m.\u001b[0m\u001b[0mmean\u001b[0m\u001b[0;34m(\u001b[0m\u001b[0mdaily_temperatures\u001b[0m\u001b[0;34m.\u001b[0m\u001b[0mreshape\u001b[0m\u001b[0;34m(\u001b[0m\u001b[0;34m-\u001b[0m\u001b[0;36m1\u001b[0m\u001b[0;34m,\u001b[0m \u001b[0;36m7\u001b[0m\u001b[0;34m)\u001b[0m\u001b[0;34m,\u001b[0m \u001b[0maxis\u001b[0m\u001b[0;34m=\u001b[0m\u001b[0;36m1\u001b[0m\u001b[0;34m)\u001b[0m\u001b[0;34m\u001b[0m\u001b[0;34m\u001b[0m\u001b[0m\n\u001b[0m\u001b[1;32m      8\u001b[0m \u001b[0;34m\u001b[0m\u001b[0m\n\u001b[1;32m      9\u001b[0m \u001b[0mdaily_temperatures\u001b[0m\u001b[0;34m,\u001b[0m \u001b[0mweekly_averages\u001b[0m\u001b[0;34m\u001b[0m\u001b[0;34m\u001b[0m\u001b[0m\n",
            "\u001b[0;31mValueError\u001b[0m: cannot reshape array of size 30 into shape (7)"
          ]
        }
      ]
    },
    {
      "cell_type": "code",
      "source": [],
      "metadata": {
        "id": "AGeXqVUFD-sr"
      },
      "execution_count": null,
      "outputs": []
    }
  ]
}